{
 "cells": [
  {
   "cell_type": "markdown",
   "metadata": {},
   "source": [
    "In this notebook we try to explore the frequency of the articles published within the time span of 2019/03-2024/03 using Apple."
   ]
  },
  {
   "cell_type": "markdown",
   "metadata": {},
   "source": [
    "First, we look at the daily news article counts, and the monthly article counts. Then we explore some days where the article count was very low or very high. In the instance with the highest article count, we take a breif look at the movement of the stock price around that date.\n",
    "\n",
    "Key observations: \n",
    "1. While there seem to be at least one article reporting on stock movements each day, these articles seem to vary in tone depending on other market information around the day.\n",
    "2. Perhaps there are instances where the combined sentiment score for the day is hiding a lot of important details.  For example, some days could have a majority of neutral or positive toned articles with a one or two significantly negative toned articles. In such an example the combined score may seem relatively neutral, but the fact that there are negatively toned articles (whereas perhaps most days this ticker may only get neutral or postive news), may still skew readers' perception in a negative direction."
   ]
  },
  {
   "cell_type": "code",
   "execution_count": 64,
   "metadata": {},
   "outputs": [],
   "source": [
    "import pandas as pd\n",
    "import numpy as np\n",
    "import datetime\n",
    "from seaborn import set_style\n",
    "import plotly as py\n",
    "\n",
    "set_style(\"whitegrid\")"
   ]
  },
  {
   "cell_type": "code",
   "execution_count": 65,
   "metadata": {},
   "outputs": [],
   "source": [
    "news = pd.read_csv('../data/news_data_2019_2024_complete.csv')"
   ]
  },
  {
   "cell_type": "code",
   "execution_count": 66,
   "metadata": {},
   "outputs": [],
   "source": [
    "#restricting to specific tickers\n",
    "Apl = news.loc[news[\"Ticker\"] == 'AAPL'].reset_index()\n",
    "Msft = news.loc[news[\"Ticker\"] == 'MSFT'].reset_index()\n",
    "Amz = news.loc[news[\"Ticker\"] == 'AMZN'].reset_index()\n",
    "Ggl = news.loc[news[\"Ticker\"] == 'GOOGL'].reset_index()\n",
    "Nvd = news.loc[news[\"Ticker\"] == 'NVDA'].reset_index()"
   ]
  },
  {
   "cell_type": "code",
   "execution_count": 67,
   "metadata": {},
   "outputs": [
    {
     "data": {
      "text/html": [
       "<div>\n",
       "<style scoped>\n",
       "    .dataframe tbody tr th:only-of-type {\n",
       "        vertical-align: middle;\n",
       "    }\n",
       "\n",
       "    .dataframe tbody tr th {\n",
       "        vertical-align: top;\n",
       "    }\n",
       "\n",
       "    .dataframe thead th {\n",
       "        text-align: right;\n",
       "    }\n",
       "</style>\n",
       "<table border=\"1\" class=\"dataframe\">\n",
       "  <thead>\n",
       "    <tr style=\"text-align: right;\">\n",
       "      <th></th>\n",
       "      <th>index</th>\n",
       "      <th>Unnamed: 0</th>\n",
       "      <th>Date &amp; Time</th>\n",
       "      <th>Date</th>\n",
       "      <th>Time</th>\n",
       "      <th>Ticker</th>\n",
       "      <th>Sector</th>\n",
       "      <th>Source</th>\n",
       "      <th>sentiment_neg</th>\n",
       "      <th>sentiment_neu</th>\n",
       "      <th>sentiment_pos</th>\n",
       "      <th>sentiment_tot</th>\n",
       "      <th>Headline</th>\n",
       "      <th>Text</th>\n",
       "      <th>URL</th>\n",
       "    </tr>\n",
       "  </thead>\n",
       "  <tbody>\n",
       "    <tr>\n",
       "      <th>0</th>\n",
       "      <td>1</td>\n",
       "      <td>1</td>\n",
       "      <td>2019-03-15 10:47:26+00:00</td>\n",
       "      <td>2019-03-15</td>\n",
       "      <td>10:47:26</td>\n",
       "      <td>AAPL</td>\n",
       "      <td>Technology</td>\n",
       "      <td>The Motley Fool</td>\n",
       "      <td>0.0</td>\n",
       "      <td>0.748</td>\n",
       "      <td>0.252</td>\n",
       "      <td>0.5248</td>\n",
       "      <td>Don't Underestimate Apple's iPhone Business</td>\n",
       "      <td>The segment is an invaluable asset to Apple's ...</td>\n",
       "      <td>https://www.fool.com/investing/2019/03/14/dont...</td>\n",
       "    </tr>\n",
       "    <tr>\n",
       "      <th>1</th>\n",
       "      <td>11</td>\n",
       "      <td>11</td>\n",
       "      <td>2019-03-15 19:16:44+00:00</td>\n",
       "      <td>2019-03-15</td>\n",
       "      <td>19:16:44</td>\n",
       "      <td>AAPL</td>\n",
       "      <td>Technology</td>\n",
       "      <td>CNBC</td>\n",
       "      <td>0.0</td>\n",
       "      <td>0.651</td>\n",
       "      <td>0.349</td>\n",
       "      <td>0.9493</td>\n",
       "      <td>Apple's new streaming service seeks Oscar glory</td>\n",
       "      <td>Apple is reportedly hiring strategists to help...</td>\n",
       "      <td>https://www.cnbc.com/2019/03/15/apples-new-str...</td>\n",
       "    </tr>\n",
       "    <tr>\n",
       "      <th>2</th>\n",
       "      <td>15</td>\n",
       "      <td>15</td>\n",
       "      <td>2019-03-15 19:40:00+00:00</td>\n",
       "      <td>2019-03-15</td>\n",
       "      <td>19:40:00</td>\n",
       "      <td>AAPL</td>\n",
       "      <td>Technology</td>\n",
       "      <td>The Motley Fool</td>\n",
       "      <td>0.0</td>\n",
       "      <td>1.000</td>\n",
       "      <td>0.000</td>\n",
       "      <td>0.0000</td>\n",
       "      <td>Apple Just Scored the $1 Billion It Was Asking...</td>\n",
       "      <td>But it won't be able to collect quite yet.</td>\n",
       "      <td>https://www.fool.com/investing/2019/03/15/appl...</td>\n",
       "    </tr>\n",
       "    <tr>\n",
       "      <th>3</th>\n",
       "      <td>22</td>\n",
       "      <td>22</td>\n",
       "      <td>2019-03-18 14:54:26+00:00</td>\n",
       "      <td>2019-03-18</td>\n",
       "      <td>14:54:26</td>\n",
       "      <td>AAPL</td>\n",
       "      <td>Technology</td>\n",
       "      <td>CNBC</td>\n",
       "      <td>0.0</td>\n",
       "      <td>0.912</td>\n",
       "      <td>0.088</td>\n",
       "      <td>0.4019</td>\n",
       "      <td>Apple unveils new iPad Air and iPad mini ahead...</td>\n",
       "      <td>The upgraded models offer keyboard support for...</td>\n",
       "      <td>https://www.cnbc.com/2019/03/18/apple-unveils-...</td>\n",
       "    </tr>\n",
       "    <tr>\n",
       "      <th>4</th>\n",
       "      <td>23</td>\n",
       "      <td>23</td>\n",
       "      <td>2019-03-18 15:29:38+00:00</td>\n",
       "      <td>2019-03-18</td>\n",
       "      <td>15:29:38</td>\n",
       "      <td>AAPL</td>\n",
       "      <td>Technology</td>\n",
       "      <td>Seeking Alpha</td>\n",
       "      <td>0.0</td>\n",
       "      <td>0.812</td>\n",
       "      <td>0.188</td>\n",
       "      <td>0.7717</td>\n",
       "      <td>Buy Apple For Great Total Return And Future 10...</td>\n",
       "      <td>This article is about Apple and why it's a buy...</td>\n",
       "      <td>https://seekingalpha.com/article/4249322-buy-a...</td>\n",
       "    </tr>\n",
       "  </tbody>\n",
       "</table>\n",
       "</div>"
      ],
      "text/plain": [
       "   index  Unnamed: 0                Date & Time        Date      Time Ticker  \\\n",
       "0      1           1  2019-03-15 10:47:26+00:00  2019-03-15  10:47:26   AAPL   \n",
       "1     11          11  2019-03-15 19:16:44+00:00  2019-03-15  19:16:44   AAPL   \n",
       "2     15          15  2019-03-15 19:40:00+00:00  2019-03-15  19:40:00   AAPL   \n",
       "3     22          22  2019-03-18 14:54:26+00:00  2019-03-18  14:54:26   AAPL   \n",
       "4     23          23  2019-03-18 15:29:38+00:00  2019-03-18  15:29:38   AAPL   \n",
       "\n",
       "       Sector           Source  sentiment_neg  sentiment_neu  sentiment_pos  \\\n",
       "0  Technology  The Motley Fool            0.0          0.748          0.252   \n",
       "1  Technology             CNBC            0.0          0.651          0.349   \n",
       "2  Technology  The Motley Fool            0.0          1.000          0.000   \n",
       "3  Technology             CNBC            0.0          0.912          0.088   \n",
       "4  Technology    Seeking Alpha            0.0          0.812          0.188   \n",
       "\n",
       "   sentiment_tot                                           Headline  \\\n",
       "0         0.5248        Don't Underestimate Apple's iPhone Business   \n",
       "1         0.9493    Apple's new streaming service seeks Oscar glory   \n",
       "2         0.0000  Apple Just Scored the $1 Billion It Was Asking...   \n",
       "3         0.4019  Apple unveils new iPad Air and iPad mini ahead...   \n",
       "4         0.7717  Buy Apple For Great Total Return And Future 10...   \n",
       "\n",
       "                                                Text  \\\n",
       "0  The segment is an invaluable asset to Apple's ...   \n",
       "1  Apple is reportedly hiring strategists to help...   \n",
       "2         But it won't be able to collect quite yet.   \n",
       "3  The upgraded models offer keyboard support for...   \n",
       "4  This article is about Apple and why it's a buy...   \n",
       "\n",
       "                                                 URL  \n",
       "0  https://www.fool.com/investing/2019/03/14/dont...  \n",
       "1  https://www.cnbc.com/2019/03/15/apples-new-str...  \n",
       "2  https://www.fool.com/investing/2019/03/15/appl...  \n",
       "3  https://www.cnbc.com/2019/03/18/apple-unveils-...  \n",
       "4  https://seekingalpha.com/article/4249322-buy-a...  "
      ]
     },
     "execution_count": 67,
     "metadata": {},
     "output_type": "execute_result"
    }
   ],
   "source": [
    "Apl.head()"
   ]
  },
  {
   "cell_type": "code",
   "execution_count": 70,
   "metadata": {},
   "outputs": [],
   "source": [
    "Apl_c = Apl.groupby('Date')['Ticker'].count().reset_index()"
   ]
  },
  {
   "cell_type": "code",
   "execution_count": 71,
   "metadata": {},
   "outputs": [],
   "source": [
    "Apl_counts = Apl_c.rename(columns={\"Ticker\": \"Article_Count\" })\n"
   ]
  },
  {
   "cell_type": "code",
   "execution_count": 72,
   "metadata": {},
   "outputs": [
    {
     "data": {
      "text/html": [
       "<div>\n",
       "<style scoped>\n",
       "    .dataframe tbody tr th:only-of-type {\n",
       "        vertical-align: middle;\n",
       "    }\n",
       "\n",
       "    .dataframe tbody tr th {\n",
       "        vertical-align: top;\n",
       "    }\n",
       "\n",
       "    .dataframe thead th {\n",
       "        text-align: right;\n",
       "    }\n",
       "</style>\n",
       "<table border=\"1\" class=\"dataframe\">\n",
       "  <thead>\n",
       "    <tr style=\"text-align: right;\">\n",
       "      <th></th>\n",
       "      <th>Date</th>\n",
       "      <th>Article_Count</th>\n",
       "    </tr>\n",
       "  </thead>\n",
       "  <tbody>\n",
       "    <tr>\n",
       "      <th>0</th>\n",
       "      <td>2019-03-15</td>\n",
       "      <td>3</td>\n",
       "    </tr>\n",
       "    <tr>\n",
       "      <th>1</th>\n",
       "      <td>2019-03-18</td>\n",
       "      <td>8</td>\n",
       "    </tr>\n",
       "    <tr>\n",
       "      <th>2</th>\n",
       "      <td>2019-03-19</td>\n",
       "      <td>10</td>\n",
       "    </tr>\n",
       "    <tr>\n",
       "      <th>3</th>\n",
       "      <td>2019-03-20</td>\n",
       "      <td>8</td>\n",
       "    </tr>\n",
       "    <tr>\n",
       "      <th>4</th>\n",
       "      <td>2019-03-21</td>\n",
       "      <td>12</td>\n",
       "    </tr>\n",
       "  </tbody>\n",
       "</table>\n",
       "</div>"
      ],
      "text/plain": [
       "         Date  Article_Count\n",
       "0  2019-03-15              3\n",
       "1  2019-03-18              8\n",
       "2  2019-03-19             10\n",
       "3  2019-03-20              8\n",
       "4  2019-03-21             12"
      ]
     },
     "execution_count": 72,
     "metadata": {},
     "output_type": "execute_result"
    }
   ],
   "source": [
    "Apl_counts.head()"
   ]
  },
  {
   "cell_type": "markdown",
   "metadata": {},
   "source": [
    "Let's look at a histogram of \"article count per day\""
   ]
  },
  {
   "cell_type": "code",
   "execution_count": 73,
   "metadata": {},
   "outputs": [
    {
     "data": {
      "application/vnd.plotly.v1+json": {
       "config": {
        "plotlyServerURL": "https://plot.ly"
       },
       "data": [
        {
         "alignmentgroup": "True",
         "bingroup": "x",
         "hovertemplate": "Article Count Per Day=%{x}<br>count=%{y}<extra></extra>",
         "legendgroup": "",
         "marker": {
          "color": "#636efa",
          "pattern": {
           "shape": ""
          }
         },
         "name": "",
         "offsetgroup": "",
         "orientation": "v",
         "showlegend": false,
         "type": "histogram",
         "x": [
          3,
          8,
          10,
          8,
          12,
          9,
          2,
          3,
          33,
          6,
          3,
          5,
          7,
          3,
          3,
          15,
          8,
          13,
          13,
          8,
          2,
          3,
          5,
          14,
          12,
          8,
          5,
          1,
          3,
          3,
          4,
          7,
          1,
          5,
          6,
          5,
          7,
          1,
          2,
          3,
          8,
          19,
          24,
          3,
          5,
          2,
          9,
          7,
          1,
          6,
          6,
          3,
          1,
          20,
          14,
          5,
          6,
          8,
          1,
          1,
          6,
          7,
          11,
          4,
          7,
          1,
          3,
          7,
          11,
          7,
          6,
          2,
          4,
          41,
          16,
          14,
          11,
          7,
          5,
          8,
          8,
          8,
          5,
          2,
          1,
          12,
          10,
          13,
          17,
          5,
          1,
          14,
          5,
          10,
          22,
          18,
          2,
          3,
          10,
          10,
          6,
          2,
          5,
          3,
          18,
          15,
          7,
          10,
          4,
          1,
          6,
          4,
          8,
          8,
          1,
          10,
          15,
          8,
          7,
          12,
          2,
          14,
          37,
          24,
          8,
          15,
          3,
          1,
          11,
          12,
          4,
          11,
          4,
          1,
          1,
          4,
          14,
          9,
          6,
          6,
          2,
          3,
          7,
          19,
          14,
          10,
          6,
          12,
          5,
          15,
          23,
          8,
          4,
          2,
          7,
          13,
          13,
          13,
          3,
          1,
          19,
          63,
          41,
          15,
          19,
          2,
          3,
          23,
          12,
          16,
          14,
          20,
          1,
          20,
          11,
          6,
          6,
          10,
          2,
          2,
          19,
          8,
          3,
          11,
          15,
          3,
          3,
          9,
          8,
          14,
          16,
          18,
          3,
          2,
          12,
          5,
          5,
          10,
          7,
          11,
          1,
          9,
          12,
          10,
          4,
          6,
          2,
          13,
          13,
          41,
          30,
          15,
          4,
          3,
          11,
          7,
          13,
          5,
          3,
          3,
          1,
          11,
          12,
          14,
          23,
          15,
          3,
          1,
          12,
          5,
          19,
          14,
          5,
          2,
          4,
          3,
          4,
          8,
          6,
          2,
          14,
          6,
          2,
          7,
          6,
          1,
          2,
          8,
          15,
          10,
          9,
          5,
          2,
          2,
          6,
          10,
          5,
          2,
          13,
          3,
          10,
          3,
          1,
          2,
          8,
          3,
          6,
          12,
          2,
          16,
          14,
          6,
          1,
          11,
          6,
          12,
          13,
          9,
          4,
          3,
          11,
          12,
          18,
          10,
          15,
          3,
          2,
          4,
          16,
          16,
          11,
          8,
          1,
          1,
          15,
          45,
          32,
          18,
          6,
          4,
          5,
          15,
          7,
          4,
          7,
          8,
          1,
          2,
          11,
          2,
          8,
          5,
          7,
          14,
          41,
          5,
          9,
          3,
          1,
          1,
          11,
          8,
          10,
          7,
          5,
          1,
          17,
          17,
          4,
          8,
          8,
          3,
          12,
          7,
          9,
          12,
          20,
          10,
          4,
          21,
          11,
          16,
          8,
          13,
          2,
          4,
          15,
          13,
          11,
          8,
          7,
          1,
          1,
          5,
          7,
          14,
          8,
          11,
          2,
          2,
          12,
          5,
          7,
          7,
          1,
          9,
          12,
          19,
          11,
          11,
          4,
          10,
          7,
          9,
          7,
          11,
          10,
          5,
          31,
          19,
          2,
          1,
          16,
          14,
          7,
          10,
          12,
          1,
          1,
          6,
          6,
          5,
          8,
          5,
          2,
          3,
          13,
          7,
          6,
          6,
          2,
          2,
          1,
          9,
          3,
          6,
          2,
          4,
          9,
          9,
          5,
          8,
          8,
          2,
          11,
          7,
          6,
          18,
          7,
          1,
          14,
          22,
          16,
          8,
          17,
          2,
          5,
          51,
          24,
          16,
          10,
          4,
          3,
          6,
          9,
          18,
          8,
          3,
          1,
          3,
          4,
          8,
          3,
          4,
          1,
          18,
          7,
          30,
          8,
          3,
          1,
          9,
          8,
          10,
          5,
          1,
          1,
          4,
          6,
          11,
          23,
          23,
          2,
          2,
          13,
          18,
          8,
          4,
          5,
          1,
          13,
          12,
          2,
          34,
          15,
          2,
          2,
          16,
          21,
          28,
          15,
          16,
          1,
          3,
          13,
          22,
          12,
          11,
          14,
          1,
          1,
          12,
          15,
          6,
          15,
          8,
          5,
          2,
          27,
          9,
          8,
          12,
          2,
          4,
          7,
          45,
          14,
          9,
          9,
          2,
          6,
          6,
          8,
          2,
          11,
          7,
          5,
          8,
          3,
          3,
          5,
          17,
          7,
          4,
          8,
          6,
          2,
          15,
          46,
          20,
          4,
          5,
          2,
          10,
          8,
          1,
          4,
          6,
          2,
          3,
          13,
          9,
          11,
          23,
          20,
          1,
          2,
          16,
          12,
          1,
          13,
          5,
          1,
          17,
          31,
          15,
          5,
          2,
          1,
          8,
          9,
          37,
          11,
          2,
          2,
          5,
          7,
          6,
          3,
          2,
          10,
          6,
          8,
          3,
          4,
          7,
          27,
          13,
          7,
          4,
          3,
          12,
          13,
          7,
          4,
          8,
          4,
          12,
          24,
          13,
          3,
          2,
          2,
          1,
          6,
          6,
          12,
          10,
          2,
          2,
          5,
          13,
          8,
          4,
          6,
          4,
          4,
          1,
          3,
          9,
          7,
          4,
          2,
          1,
          2,
          3,
          11,
          7,
          2,
          1,
          20,
          16,
          26,
          28,
          4,
          3,
          2,
          8,
          3,
          11,
          4,
          7,
          1,
          1,
          6,
          5,
          4,
          1,
          4,
          1,
          1,
          1,
          7,
          16,
          9,
          5,
          2,
          2,
          14,
          7,
          4,
          5,
          6,
          2,
          2,
          11,
          8,
          4,
          14,
          4,
          1,
          7,
          10,
          15,
          7,
          6,
          2,
          2,
          5,
          9,
          11,
          1,
          3,
          1,
          7,
          4,
          2,
          1,
          1,
          1,
          14,
          15,
          1,
          2,
          6,
          3,
          17,
          5,
          1,
          7,
          13,
          5,
          5,
          6,
          2,
          18,
          28,
          8,
          7,
          4,
          1,
          27,
          7,
          33,
          25,
          23,
          3,
          5,
          22,
          4,
          4,
          6,
          6,
          2,
          2,
          4,
          7,
          6,
          5,
          1,
          2,
          2,
          14,
          7,
          11,
          4,
          18,
          1,
          5,
          4,
          9,
          3,
          9,
          1,
          1,
          6,
          9,
          4,
          7,
          1,
          18,
          10,
          5,
          8,
          2,
          1,
          1,
          7,
          4,
          8,
          6,
          1,
          1,
          9,
          5,
          6,
          10,
          1,
          1,
          5,
          2,
          1,
          2,
          5,
          6,
          6,
          4,
          7,
          2,
          1,
          5,
          11,
          11,
          9,
          2,
          3,
          7,
          10,
          7,
          4,
          5,
          6,
          27,
          19,
          6,
          7,
          2,
          6,
          6,
          7,
          4,
          1,
          1,
          6,
          2,
          1,
          5,
          1,
          1,
          2,
          5,
          3,
          8,
          15,
          1,
          4,
          7,
          8,
          8,
          20,
          1,
          15,
          12,
          21,
          26,
          19,
          3,
          3,
          1,
          20,
          8,
          7,
          49,
          4,
          6,
          17,
          50,
          13,
          6,
          6,
          2,
          1,
          6,
          6,
          16,
          17,
          5,
          1,
          1,
          6,
          4,
          2,
          3,
          6,
          1,
          6,
          3,
          4,
          6,
          12,
          2,
          2,
          9,
          9,
          16,
          9,
          14,
          2,
          2,
          24,
          5,
          3,
          1,
          5,
          2,
          9,
          3,
          6,
          17,
          18,
          1,
          1,
          3,
          10,
          5,
          4,
          3,
          1,
          4,
          7,
          19,
          1,
          3,
          2,
          2,
          3,
          5,
          14,
          19,
          7,
          3,
          4,
          19,
          6,
          2,
          11,
          1,
          2,
          3,
          6,
          4,
          12,
          5,
          2,
          2,
          6,
          14,
          16,
          10,
          5,
          4,
          3,
          13,
          10,
          7,
          12,
          4,
          1,
          3,
          4,
          7,
          8,
          6,
          1,
          1,
          1,
          11,
          15,
          7,
          5,
          5,
          1,
          34,
          14,
          2,
          2,
          2,
          2,
          2,
          11,
          8,
          7,
          3,
          4,
          2,
          1,
          2,
          9,
          5,
          5,
          2,
          1,
          8,
          11,
          12,
          36,
          41,
          1,
          9,
          7,
          6,
          4,
          11,
          1,
          4,
          14,
          3,
          5,
          4,
          2,
          1,
          5,
          4,
          4,
          8,
          9,
          2,
          4,
          3,
          2,
          2,
          4,
          1,
          1,
          10,
          13,
          13,
          7,
          11,
          6,
          33,
          12,
          6,
          1,
          7,
          2,
          6,
          4,
          3,
          2,
          11,
          8,
          10,
          13,
          7,
          2,
          1,
          17,
          9,
          11,
          15,
          8,
          1,
          6,
          10,
          2,
          2,
          3,
          1,
          13,
          11,
          6,
          6,
          2,
          1,
          7,
          5,
          10,
          8,
          5,
          2,
          2,
          9,
          6,
          12,
          25,
          19,
          3,
          17,
          14,
          8,
          6,
          3,
          1,
          1,
          5,
          14,
          6,
          11,
          6,
          1,
          1,
          6,
          14,
          4,
          11,
          9,
          6,
          9,
          10,
          8,
          14,
          3,
          2,
          2,
          1,
          10,
          5,
          3,
          6,
          1,
          2,
          40,
          22,
          7,
          15,
          5,
          4,
          1,
          8,
          13,
          14,
          8,
          3,
          1,
          13,
          2,
          3,
          5,
          7,
          8,
          1,
          5,
          7,
          4,
          9,
          7,
          2,
          1,
          1,
          2,
          5,
          4,
          3,
          4,
          10,
          6,
          7,
          3,
          17,
          17,
          8,
          5,
          4,
          1,
          5,
          5,
          5,
          23,
          20,
          2,
          3,
          7,
          10,
          3,
          3,
          3,
          2,
          3,
          3,
          4,
          5,
          3,
          7,
          1,
          9,
          11,
          16,
          12,
          10,
          1,
          11,
          10,
          11,
          6,
          8,
          1,
          1,
          9,
          3,
          5,
          3,
          10,
          2,
          2,
          22,
          31,
          27,
          13,
          2,
          1,
          10,
          8,
          9,
          8,
          6,
          1,
          5,
          16,
          8,
          6,
          11,
          1,
          1,
          12,
          7,
          33,
          18,
          10,
          1,
          3,
          8,
          12,
          12,
          8,
          1,
          1,
          3,
          4,
          8,
          11,
          2,
          10,
          1,
          6,
          19,
          4,
          3,
          11,
          11,
          19,
          16,
          24,
          15,
          2,
          8,
          2,
          4,
          12,
          4,
          1,
          4,
          21,
          1,
          5,
          4,
          3,
          1,
          9,
          5,
          15,
          3,
          4,
          1,
          3,
          3,
          7,
          2,
          6,
          2,
          2,
          36,
          18,
          11,
          15,
          4,
          4,
          4,
          8,
          20,
          22,
          6,
          2,
          2,
          10,
          7,
          8,
          4,
          7,
          2,
          6,
          2,
          5,
          5,
          6,
          1,
          2,
          6,
          5,
          7,
          1,
          1,
          1,
          1,
          14,
          14,
          11,
          5,
          1,
          2,
          9,
          5,
          16,
          9,
          11,
          1,
          17,
          15,
          6,
          6,
          1,
          1,
          12,
          4,
          7,
          5,
          10,
          8,
          10,
          21,
          24,
          1,
          1,
          6,
          6,
          3,
          5,
          3,
          2,
          5,
          4,
          19,
          6,
          1,
          1,
          1,
          1,
          4,
          3,
          3,
          3,
          1,
          1,
          6,
          7,
          5,
          8,
          11,
          2,
          9,
          5,
          6,
          8,
          9,
          4,
          7,
          6,
          1,
          2,
          4,
          4,
          10,
          7,
          5,
          1,
          9,
          18,
          15,
          7,
          5,
          1,
          12,
          10,
          14,
          5,
          2,
          1,
          2,
          13,
          9,
          7,
          11,
          4,
          4,
          1,
          22,
          20,
          6,
          7,
          6,
          3,
          2,
          11,
          10,
          8,
          2,
          6,
          2,
          2,
          7,
          5,
          10,
          28,
          22,
          1,
          7,
          11,
          6,
          6,
          3,
          2,
          1,
          3,
          14,
          1,
          8,
          9,
          2,
          1,
          9,
          9,
          3,
          1,
          1,
          2,
          1,
          2,
          4,
          4,
          6,
          11,
          1,
          5,
          56,
          51,
          16,
          11,
          12,
          2,
          3,
          8,
          11,
          7,
          4,
          2,
          1,
          2,
          2,
          7,
          6,
          1,
          1,
          6,
          3,
          12,
          3,
          28,
          6,
          4,
          11,
          4,
          2,
          4,
          4,
          4,
          9,
          4,
          3,
          5,
          5,
          11,
          6,
          2,
          1,
          7,
          6,
          2,
          4,
          5,
          2,
          11,
          10,
          7,
          25,
          23,
          2,
          3,
          7,
          5,
          11,
          2,
          4,
          1,
          4,
          4,
          2,
          4,
          8,
          1,
          4,
          2,
          4,
          6,
          5,
          1,
          2,
          9,
          10,
          9,
          8,
          3,
          1,
          12,
          13,
          24,
          26,
          6,
          5,
          11,
          55,
          42,
          11,
          20,
          2,
          1,
          11,
          5,
          8,
          1,
          13,
          4,
          3,
          2,
          8,
          4,
          7,
          9,
          4,
          3,
          10,
          5,
          19,
          4,
          1,
          5,
          4,
          2,
          3,
          4,
          1,
          1,
          6,
          9,
          5,
          4,
          4,
          2,
          9,
          16,
          18,
          5,
          4,
          1,
          1,
          12,
          21,
          13,
          23,
          21,
          2,
          4,
          6,
          5,
          9,
          5,
          1,
          2,
          4,
          6,
          3,
          6,
          3,
          1,
          2,
          1,
          2,
          3,
          9,
          1,
          3,
          3,
          4,
          4,
          3,
          3,
          3,
          5,
          7,
          4,
          8,
          1,
          3,
          6,
          5,
          10,
          7,
          5,
          1,
          1,
          25,
          9,
          12,
          17,
          7,
          2,
          1,
          1,
          18,
          21,
          9,
          5,
          1,
          2,
          1,
          14,
          15,
          17,
          7,
          3,
          2,
          26,
          5,
          6,
          9,
          5,
          3,
          16,
          20,
          26,
          15,
          18,
          2,
          2,
          9,
          4,
          14,
          20,
          9,
          1,
          4,
          10,
          7,
          21,
          25,
          3,
          2,
          6,
          3,
          11,
          3,
          7,
          2,
          1,
          3,
          3,
          3,
          7,
          7,
          4,
          4,
          7,
          6,
          11,
          3,
          1,
          1,
          2,
          6,
          16,
          17,
          6,
          7,
          3,
          2,
          28,
          22,
          12,
          14,
          16,
          6,
          2,
          7,
          10,
          13,
          7,
          12
         ],
         "xaxis": "x",
         "yaxis": "y"
        }
       ],
       "layout": {
        "barmode": "relative",
        "legend": {
         "tracegroupgap": 0
        },
        "margin": {
         "t": 60
        },
        "template": {
         "data": {
          "bar": [
           {
            "error_x": {
             "color": "#2a3f5f"
            },
            "error_y": {
             "color": "#2a3f5f"
            },
            "marker": {
             "line": {
              "color": "#E5ECF6",
              "width": 0.5
             },
             "pattern": {
              "fillmode": "overlay",
              "size": 10,
              "solidity": 0.2
             }
            },
            "type": "bar"
           }
          ],
          "barpolar": [
           {
            "marker": {
             "line": {
              "color": "#E5ECF6",
              "width": 0.5
             },
             "pattern": {
              "fillmode": "overlay",
              "size": 10,
              "solidity": 0.2
             }
            },
            "type": "barpolar"
           }
          ],
          "carpet": [
           {
            "aaxis": {
             "endlinecolor": "#2a3f5f",
             "gridcolor": "white",
             "linecolor": "white",
             "minorgridcolor": "white",
             "startlinecolor": "#2a3f5f"
            },
            "baxis": {
             "endlinecolor": "#2a3f5f",
             "gridcolor": "white",
             "linecolor": "white",
             "minorgridcolor": "white",
             "startlinecolor": "#2a3f5f"
            },
            "type": "carpet"
           }
          ],
          "choropleth": [
           {
            "colorbar": {
             "outlinewidth": 0,
             "ticks": ""
            },
            "type": "choropleth"
           }
          ],
          "contour": [
           {
            "colorbar": {
             "outlinewidth": 0,
             "ticks": ""
            },
            "colorscale": [
             [
              0,
              "#0d0887"
             ],
             [
              0.1111111111111111,
              "#46039f"
             ],
             [
              0.2222222222222222,
              "#7201a8"
             ],
             [
              0.3333333333333333,
              "#9c179e"
             ],
             [
              0.4444444444444444,
              "#bd3786"
             ],
             [
              0.5555555555555556,
              "#d8576b"
             ],
             [
              0.6666666666666666,
              "#ed7953"
             ],
             [
              0.7777777777777778,
              "#fb9f3a"
             ],
             [
              0.8888888888888888,
              "#fdca26"
             ],
             [
              1,
              "#f0f921"
             ]
            ],
            "type": "contour"
           }
          ],
          "contourcarpet": [
           {
            "colorbar": {
             "outlinewidth": 0,
             "ticks": ""
            },
            "type": "contourcarpet"
           }
          ],
          "heatmap": [
           {
            "colorbar": {
             "outlinewidth": 0,
             "ticks": ""
            },
            "colorscale": [
             [
              0,
              "#0d0887"
             ],
             [
              0.1111111111111111,
              "#46039f"
             ],
             [
              0.2222222222222222,
              "#7201a8"
             ],
             [
              0.3333333333333333,
              "#9c179e"
             ],
             [
              0.4444444444444444,
              "#bd3786"
             ],
             [
              0.5555555555555556,
              "#d8576b"
             ],
             [
              0.6666666666666666,
              "#ed7953"
             ],
             [
              0.7777777777777778,
              "#fb9f3a"
             ],
             [
              0.8888888888888888,
              "#fdca26"
             ],
             [
              1,
              "#f0f921"
             ]
            ],
            "type": "heatmap"
           }
          ],
          "heatmapgl": [
           {
            "colorbar": {
             "outlinewidth": 0,
             "ticks": ""
            },
            "colorscale": [
             [
              0,
              "#0d0887"
             ],
             [
              0.1111111111111111,
              "#46039f"
             ],
             [
              0.2222222222222222,
              "#7201a8"
             ],
             [
              0.3333333333333333,
              "#9c179e"
             ],
             [
              0.4444444444444444,
              "#bd3786"
             ],
             [
              0.5555555555555556,
              "#d8576b"
             ],
             [
              0.6666666666666666,
              "#ed7953"
             ],
             [
              0.7777777777777778,
              "#fb9f3a"
             ],
             [
              0.8888888888888888,
              "#fdca26"
             ],
             [
              1,
              "#f0f921"
             ]
            ],
            "type": "heatmapgl"
           }
          ],
          "histogram": [
           {
            "marker": {
             "pattern": {
              "fillmode": "overlay",
              "size": 10,
              "solidity": 0.2
             }
            },
            "type": "histogram"
           }
          ],
          "histogram2d": [
           {
            "colorbar": {
             "outlinewidth": 0,
             "ticks": ""
            },
            "colorscale": [
             [
              0,
              "#0d0887"
             ],
             [
              0.1111111111111111,
              "#46039f"
             ],
             [
              0.2222222222222222,
              "#7201a8"
             ],
             [
              0.3333333333333333,
              "#9c179e"
             ],
             [
              0.4444444444444444,
              "#bd3786"
             ],
             [
              0.5555555555555556,
              "#d8576b"
             ],
             [
              0.6666666666666666,
              "#ed7953"
             ],
             [
              0.7777777777777778,
              "#fb9f3a"
             ],
             [
              0.8888888888888888,
              "#fdca26"
             ],
             [
              1,
              "#f0f921"
             ]
            ],
            "type": "histogram2d"
           }
          ],
          "histogram2dcontour": [
           {
            "colorbar": {
             "outlinewidth": 0,
             "ticks": ""
            },
            "colorscale": [
             [
              0,
              "#0d0887"
             ],
             [
              0.1111111111111111,
              "#46039f"
             ],
             [
              0.2222222222222222,
              "#7201a8"
             ],
             [
              0.3333333333333333,
              "#9c179e"
             ],
             [
              0.4444444444444444,
              "#bd3786"
             ],
             [
              0.5555555555555556,
              "#d8576b"
             ],
             [
              0.6666666666666666,
              "#ed7953"
             ],
             [
              0.7777777777777778,
              "#fb9f3a"
             ],
             [
              0.8888888888888888,
              "#fdca26"
             ],
             [
              1,
              "#f0f921"
             ]
            ],
            "type": "histogram2dcontour"
           }
          ],
          "mesh3d": [
           {
            "colorbar": {
             "outlinewidth": 0,
             "ticks": ""
            },
            "type": "mesh3d"
           }
          ],
          "parcoords": [
           {
            "line": {
             "colorbar": {
              "outlinewidth": 0,
              "ticks": ""
             }
            },
            "type": "parcoords"
           }
          ],
          "pie": [
           {
            "automargin": true,
            "type": "pie"
           }
          ],
          "scatter": [
           {
            "fillpattern": {
             "fillmode": "overlay",
             "size": 10,
             "solidity": 0.2
            },
            "type": "scatter"
           }
          ],
          "scatter3d": [
           {
            "line": {
             "colorbar": {
              "outlinewidth": 0,
              "ticks": ""
             }
            },
            "marker": {
             "colorbar": {
              "outlinewidth": 0,
              "ticks": ""
             }
            },
            "type": "scatter3d"
           }
          ],
          "scattercarpet": [
           {
            "marker": {
             "colorbar": {
              "outlinewidth": 0,
              "ticks": ""
             }
            },
            "type": "scattercarpet"
           }
          ],
          "scattergeo": [
           {
            "marker": {
             "colorbar": {
              "outlinewidth": 0,
              "ticks": ""
             }
            },
            "type": "scattergeo"
           }
          ],
          "scattergl": [
           {
            "marker": {
             "colorbar": {
              "outlinewidth": 0,
              "ticks": ""
             }
            },
            "type": "scattergl"
           }
          ],
          "scattermapbox": [
           {
            "marker": {
             "colorbar": {
              "outlinewidth": 0,
              "ticks": ""
             }
            },
            "type": "scattermapbox"
           }
          ],
          "scatterpolar": [
           {
            "marker": {
             "colorbar": {
              "outlinewidth": 0,
              "ticks": ""
             }
            },
            "type": "scatterpolar"
           }
          ],
          "scatterpolargl": [
           {
            "marker": {
             "colorbar": {
              "outlinewidth": 0,
              "ticks": ""
             }
            },
            "type": "scatterpolargl"
           }
          ],
          "scatterternary": [
           {
            "marker": {
             "colorbar": {
              "outlinewidth": 0,
              "ticks": ""
             }
            },
            "type": "scatterternary"
           }
          ],
          "surface": [
           {
            "colorbar": {
             "outlinewidth": 0,
             "ticks": ""
            },
            "colorscale": [
             [
              0,
              "#0d0887"
             ],
             [
              0.1111111111111111,
              "#46039f"
             ],
             [
              0.2222222222222222,
              "#7201a8"
             ],
             [
              0.3333333333333333,
              "#9c179e"
             ],
             [
              0.4444444444444444,
              "#bd3786"
             ],
             [
              0.5555555555555556,
              "#d8576b"
             ],
             [
              0.6666666666666666,
              "#ed7953"
             ],
             [
              0.7777777777777778,
              "#fb9f3a"
             ],
             [
              0.8888888888888888,
              "#fdca26"
             ],
             [
              1,
              "#f0f921"
             ]
            ],
            "type": "surface"
           }
          ],
          "table": [
           {
            "cells": {
             "fill": {
              "color": "#EBF0F8"
             },
             "line": {
              "color": "white"
             }
            },
            "header": {
             "fill": {
              "color": "#C8D4E3"
             },
             "line": {
              "color": "white"
             }
            },
            "type": "table"
           }
          ]
         },
         "layout": {
          "annotationdefaults": {
           "arrowcolor": "#2a3f5f",
           "arrowhead": 0,
           "arrowwidth": 1
          },
          "autotypenumbers": "strict",
          "coloraxis": {
           "colorbar": {
            "outlinewidth": 0,
            "ticks": ""
           }
          },
          "colorscale": {
           "diverging": [
            [
             0,
             "#8e0152"
            ],
            [
             0.1,
             "#c51b7d"
            ],
            [
             0.2,
             "#de77ae"
            ],
            [
             0.3,
             "#f1b6da"
            ],
            [
             0.4,
             "#fde0ef"
            ],
            [
             0.5,
             "#f7f7f7"
            ],
            [
             0.6,
             "#e6f5d0"
            ],
            [
             0.7,
             "#b8e186"
            ],
            [
             0.8,
             "#7fbc41"
            ],
            [
             0.9,
             "#4d9221"
            ],
            [
             1,
             "#276419"
            ]
           ],
           "sequential": [
            [
             0,
             "#0d0887"
            ],
            [
             0.1111111111111111,
             "#46039f"
            ],
            [
             0.2222222222222222,
             "#7201a8"
            ],
            [
             0.3333333333333333,
             "#9c179e"
            ],
            [
             0.4444444444444444,
             "#bd3786"
            ],
            [
             0.5555555555555556,
             "#d8576b"
            ],
            [
             0.6666666666666666,
             "#ed7953"
            ],
            [
             0.7777777777777778,
             "#fb9f3a"
            ],
            [
             0.8888888888888888,
             "#fdca26"
            ],
            [
             1,
             "#f0f921"
            ]
           ],
           "sequentialminus": [
            [
             0,
             "#0d0887"
            ],
            [
             0.1111111111111111,
             "#46039f"
            ],
            [
             0.2222222222222222,
             "#7201a8"
            ],
            [
             0.3333333333333333,
             "#9c179e"
            ],
            [
             0.4444444444444444,
             "#bd3786"
            ],
            [
             0.5555555555555556,
             "#d8576b"
            ],
            [
             0.6666666666666666,
             "#ed7953"
            ],
            [
             0.7777777777777778,
             "#fb9f3a"
            ],
            [
             0.8888888888888888,
             "#fdca26"
            ],
            [
             1,
             "#f0f921"
            ]
           ]
          },
          "colorway": [
           "#636efa",
           "#EF553B",
           "#00cc96",
           "#ab63fa",
           "#FFA15A",
           "#19d3f3",
           "#FF6692",
           "#B6E880",
           "#FF97FF",
           "#FECB52"
          ],
          "font": {
           "color": "#2a3f5f"
          },
          "geo": {
           "bgcolor": "white",
           "lakecolor": "white",
           "landcolor": "#E5ECF6",
           "showlakes": true,
           "showland": true,
           "subunitcolor": "white"
          },
          "hoverlabel": {
           "align": "left"
          },
          "hovermode": "closest",
          "mapbox": {
           "style": "light"
          },
          "paper_bgcolor": "white",
          "plot_bgcolor": "#E5ECF6",
          "polar": {
           "angularaxis": {
            "gridcolor": "white",
            "linecolor": "white",
            "ticks": ""
           },
           "bgcolor": "#E5ECF6",
           "radialaxis": {
            "gridcolor": "white",
            "linecolor": "white",
            "ticks": ""
           }
          },
          "scene": {
           "xaxis": {
            "backgroundcolor": "#E5ECF6",
            "gridcolor": "white",
            "gridwidth": 2,
            "linecolor": "white",
            "showbackground": true,
            "ticks": "",
            "zerolinecolor": "white"
           },
           "yaxis": {
            "backgroundcolor": "#E5ECF6",
            "gridcolor": "white",
            "gridwidth": 2,
            "linecolor": "white",
            "showbackground": true,
            "ticks": "",
            "zerolinecolor": "white"
           },
           "zaxis": {
            "backgroundcolor": "#E5ECF6",
            "gridcolor": "white",
            "gridwidth": 2,
            "linecolor": "white",
            "showbackground": true,
            "ticks": "",
            "zerolinecolor": "white"
           }
          },
          "shapedefaults": {
           "line": {
            "color": "#2a3f5f"
           }
          },
          "ternary": {
           "aaxis": {
            "gridcolor": "white",
            "linecolor": "white",
            "ticks": ""
           },
           "baxis": {
            "gridcolor": "white",
            "linecolor": "white",
            "ticks": ""
           },
           "bgcolor": "#E5ECF6",
           "caxis": {
            "gridcolor": "white",
            "linecolor": "white",
            "ticks": ""
           }
          },
          "title": {
           "x": 0.05
          },
          "xaxis": {
           "automargin": true,
           "gridcolor": "white",
           "linecolor": "white",
           "ticks": "",
           "title": {
            "standoff": 15
           },
           "zerolinecolor": "white",
           "zerolinewidth": 2
          },
          "yaxis": {
           "automargin": true,
           "gridcolor": "white",
           "linecolor": "white",
           "ticks": "",
           "title": {
            "standoff": 15
           },
           "zerolinecolor": "white",
           "zerolinewidth": 2
          }
         }
        },
        "xaxis": {
         "anchor": "y",
         "domain": [
          0,
          1
         ],
         "title": {
          "text": "Article Count Per Day"
         }
        },
        "yaxis": {
         "anchor": "x",
         "domain": [
          0,
          1
         ],
         "title": {
          "text": "Days"
         }
        }
       }
      }
     },
     "metadata": {},
     "output_type": "display_data"
    }
   ],
   "source": [
    "import plotly.express as px\n",
    "#df = px.data.tips()\n",
    "fig = px.histogram(Apl_counts, x=\"Article_Count\",  labels={\"Article_Count\": \"Article Count Per Day\"})\n",
    "fig.update_layout(yaxis_title=\"Days\")\n",
    "fig.show()"
   ]
  },
  {
   "cell_type": "markdown",
   "metadata": {},
   "source": [
    "Let's look at Article Counts per Month"
   ]
  },
  {
   "cell_type": "code",
   "execution_count": 74,
   "metadata": {},
   "outputs": [],
   "source": [
    "#Create a column for month\n",
    "Apl_counts = Apl_counts.assign(month = Apl_counts.Date.str[0:7])"
   ]
  },
  {
   "cell_type": "code",
   "execution_count": 75,
   "metadata": {},
   "outputs": [
    {
     "data": {
      "text/html": [
       "<div>\n",
       "<style scoped>\n",
       "    .dataframe tbody tr th:only-of-type {\n",
       "        vertical-align: middle;\n",
       "    }\n",
       "\n",
       "    .dataframe tbody tr th {\n",
       "        vertical-align: top;\n",
       "    }\n",
       "\n",
       "    .dataframe thead th {\n",
       "        text-align: right;\n",
       "    }\n",
       "</style>\n",
       "<table border=\"1\" class=\"dataframe\">\n",
       "  <thead>\n",
       "    <tr style=\"text-align: right;\">\n",
       "      <th></th>\n",
       "      <th>Date</th>\n",
       "      <th>Article_Count</th>\n",
       "      <th>month</th>\n",
       "    </tr>\n",
       "  </thead>\n",
       "  <tbody>\n",
       "    <tr>\n",
       "      <th>1661</th>\n",
       "      <td>2024-03-11</td>\n",
       "      <td>7</td>\n",
       "      <td>2024-03</td>\n",
       "    </tr>\n",
       "    <tr>\n",
       "      <th>1662</th>\n",
       "      <td>2024-03-12</td>\n",
       "      <td>10</td>\n",
       "      <td>2024-03</td>\n",
       "    </tr>\n",
       "    <tr>\n",
       "      <th>1663</th>\n",
       "      <td>2024-03-13</td>\n",
       "      <td>13</td>\n",
       "      <td>2024-03</td>\n",
       "    </tr>\n",
       "    <tr>\n",
       "      <th>1664</th>\n",
       "      <td>2024-03-14</td>\n",
       "      <td>7</td>\n",
       "      <td>2024-03</td>\n",
       "    </tr>\n",
       "    <tr>\n",
       "      <th>1665</th>\n",
       "      <td>2024-03-15</td>\n",
       "      <td>12</td>\n",
       "      <td>2024-03</td>\n",
       "    </tr>\n",
       "  </tbody>\n",
       "</table>\n",
       "</div>"
      ],
      "text/plain": [
       "            Date  Article_Count    month\n",
       "1661  2024-03-11              7  2024-03\n",
       "1662  2024-03-12             10  2024-03\n",
       "1663  2024-03-13             13  2024-03\n",
       "1664  2024-03-14              7  2024-03\n",
       "1665  2024-03-15             12  2024-03"
      ]
     },
     "execution_count": 75,
     "metadata": {},
     "output_type": "execute_result"
    }
   ],
   "source": [
    "Apl_counts.tail()"
   ]
  },
  {
   "cell_type": "code",
   "execution_count": 76,
   "metadata": {},
   "outputs": [],
   "source": [
    "#create another dataframe containing article count by month\n",
    "Apl_counts_month = Apl_counts.groupby('month')['Article_Count'].count().reset_index()"
   ]
  },
  {
   "cell_type": "code",
   "execution_count": 77,
   "metadata": {},
   "outputs": [
    {
     "data": {
      "text/html": [
       "<div>\n",
       "<style scoped>\n",
       "    .dataframe tbody tr th:only-of-type {\n",
       "        vertical-align: middle;\n",
       "    }\n",
       "\n",
       "    .dataframe tbody tr th {\n",
       "        vertical-align: top;\n",
       "    }\n",
       "\n",
       "    .dataframe thead th {\n",
       "        text-align: right;\n",
       "    }\n",
       "</style>\n",
       "<table border=\"1\" class=\"dataframe\">\n",
       "  <thead>\n",
       "    <tr style=\"text-align: right;\">\n",
       "      <th></th>\n",
       "      <th>month</th>\n",
       "      <th>Article_Count</th>\n",
       "    </tr>\n",
       "  </thead>\n",
       "  <tbody>\n",
       "    <tr>\n",
       "      <th>0</th>\n",
       "      <td>2019-03</td>\n",
       "      <td>15</td>\n",
       "    </tr>\n",
       "    <tr>\n",
       "      <th>1</th>\n",
       "      <td>2019-04</td>\n",
       "      <td>27</td>\n",
       "    </tr>\n",
       "    <tr>\n",
       "      <th>2</th>\n",
       "      <td>2019-05</td>\n",
       "      <td>29</td>\n",
       "    </tr>\n",
       "    <tr>\n",
       "      <th>3</th>\n",
       "      <td>2019-06</td>\n",
       "      <td>27</td>\n",
       "    </tr>\n",
       "    <tr>\n",
       "      <th>4</th>\n",
       "      <td>2019-07</td>\n",
       "      <td>26</td>\n",
       "    </tr>\n",
       "  </tbody>\n",
       "</table>\n",
       "</div>"
      ],
      "text/plain": [
       "     month  Article_Count\n",
       "0  2019-03             15\n",
       "1  2019-04             27\n",
       "2  2019-05             29\n",
       "3  2019-06             27\n",
       "4  2019-07             26"
      ]
     },
     "execution_count": 77,
     "metadata": {},
     "output_type": "execute_result"
    }
   ],
   "source": [
    "Apl_counts_month.head()"
   ]
  },
  {
   "cell_type": "code",
   "execution_count": 78,
   "metadata": {},
   "outputs": [
    {
     "data": {
      "application/vnd.plotly.v1+json": {
       "config": {
        "plotlyServerURL": "https://plot.ly"
       },
       "data": [
        {
         "alignmentgroup": "True",
         "bingroup": "x",
         "hovertemplate": "Article Count per Month=%{x}<br>count=%{y}<extra></extra>",
         "legendgroup": "",
         "marker": {
          "color": "#636efa",
          "pattern": {
           "shape": ""
          }
         },
         "name": "",
         "offsetgroup": "",
         "orientation": "v",
         "showlegend": false,
         "type": "histogram",
         "x": [
          15,
          27,
          29,
          27,
          26,
          29,
          28,
          30,
          28,
          29,
          31,
          27,
          29,
          24,
          29,
          27,
          27,
          30,
          26,
          28,
          25,
          27,
          29,
          28,
          27,
          24,
          29,
          27,
          24,
          27,
          30,
          29,
          28,
          31,
          28,
          26,
          26,
          27,
          29,
          29,
          26,
          29,
          28,
          27,
          28,
          28,
          26,
          27,
          25,
          29,
          30,
          28,
          24,
          29,
          28,
          28,
          27,
          30,
          29,
          29,
          15
         ],
         "xaxis": "x",
         "yaxis": "y"
        }
       ],
       "layout": {
        "barmode": "relative",
        "legend": {
         "tracegroupgap": 0
        },
        "margin": {
         "t": 60
        },
        "template": {
         "data": {
          "bar": [
           {
            "error_x": {
             "color": "#2a3f5f"
            },
            "error_y": {
             "color": "#2a3f5f"
            },
            "marker": {
             "line": {
              "color": "#E5ECF6",
              "width": 0.5
             },
             "pattern": {
              "fillmode": "overlay",
              "size": 10,
              "solidity": 0.2
             }
            },
            "type": "bar"
           }
          ],
          "barpolar": [
           {
            "marker": {
             "line": {
              "color": "#E5ECF6",
              "width": 0.5
             },
             "pattern": {
              "fillmode": "overlay",
              "size": 10,
              "solidity": 0.2
             }
            },
            "type": "barpolar"
           }
          ],
          "carpet": [
           {
            "aaxis": {
             "endlinecolor": "#2a3f5f",
             "gridcolor": "white",
             "linecolor": "white",
             "minorgridcolor": "white",
             "startlinecolor": "#2a3f5f"
            },
            "baxis": {
             "endlinecolor": "#2a3f5f",
             "gridcolor": "white",
             "linecolor": "white",
             "minorgridcolor": "white",
             "startlinecolor": "#2a3f5f"
            },
            "type": "carpet"
           }
          ],
          "choropleth": [
           {
            "colorbar": {
             "outlinewidth": 0,
             "ticks": ""
            },
            "type": "choropleth"
           }
          ],
          "contour": [
           {
            "colorbar": {
             "outlinewidth": 0,
             "ticks": ""
            },
            "colorscale": [
             [
              0,
              "#0d0887"
             ],
             [
              0.1111111111111111,
              "#46039f"
             ],
             [
              0.2222222222222222,
              "#7201a8"
             ],
             [
              0.3333333333333333,
              "#9c179e"
             ],
             [
              0.4444444444444444,
              "#bd3786"
             ],
             [
              0.5555555555555556,
              "#d8576b"
             ],
             [
              0.6666666666666666,
              "#ed7953"
             ],
             [
              0.7777777777777778,
              "#fb9f3a"
             ],
             [
              0.8888888888888888,
              "#fdca26"
             ],
             [
              1,
              "#f0f921"
             ]
            ],
            "type": "contour"
           }
          ],
          "contourcarpet": [
           {
            "colorbar": {
             "outlinewidth": 0,
             "ticks": ""
            },
            "type": "contourcarpet"
           }
          ],
          "heatmap": [
           {
            "colorbar": {
             "outlinewidth": 0,
             "ticks": ""
            },
            "colorscale": [
             [
              0,
              "#0d0887"
             ],
             [
              0.1111111111111111,
              "#46039f"
             ],
             [
              0.2222222222222222,
              "#7201a8"
             ],
             [
              0.3333333333333333,
              "#9c179e"
             ],
             [
              0.4444444444444444,
              "#bd3786"
             ],
             [
              0.5555555555555556,
              "#d8576b"
             ],
             [
              0.6666666666666666,
              "#ed7953"
             ],
             [
              0.7777777777777778,
              "#fb9f3a"
             ],
             [
              0.8888888888888888,
              "#fdca26"
             ],
             [
              1,
              "#f0f921"
             ]
            ],
            "type": "heatmap"
           }
          ],
          "heatmapgl": [
           {
            "colorbar": {
             "outlinewidth": 0,
             "ticks": ""
            },
            "colorscale": [
             [
              0,
              "#0d0887"
             ],
             [
              0.1111111111111111,
              "#46039f"
             ],
             [
              0.2222222222222222,
              "#7201a8"
             ],
             [
              0.3333333333333333,
              "#9c179e"
             ],
             [
              0.4444444444444444,
              "#bd3786"
             ],
             [
              0.5555555555555556,
              "#d8576b"
             ],
             [
              0.6666666666666666,
              "#ed7953"
             ],
             [
              0.7777777777777778,
              "#fb9f3a"
             ],
             [
              0.8888888888888888,
              "#fdca26"
             ],
             [
              1,
              "#f0f921"
             ]
            ],
            "type": "heatmapgl"
           }
          ],
          "histogram": [
           {
            "marker": {
             "pattern": {
              "fillmode": "overlay",
              "size": 10,
              "solidity": 0.2
             }
            },
            "type": "histogram"
           }
          ],
          "histogram2d": [
           {
            "colorbar": {
             "outlinewidth": 0,
             "ticks": ""
            },
            "colorscale": [
             [
              0,
              "#0d0887"
             ],
             [
              0.1111111111111111,
              "#46039f"
             ],
             [
              0.2222222222222222,
              "#7201a8"
             ],
             [
              0.3333333333333333,
              "#9c179e"
             ],
             [
              0.4444444444444444,
              "#bd3786"
             ],
             [
              0.5555555555555556,
              "#d8576b"
             ],
             [
              0.6666666666666666,
              "#ed7953"
             ],
             [
              0.7777777777777778,
              "#fb9f3a"
             ],
             [
              0.8888888888888888,
              "#fdca26"
             ],
             [
              1,
              "#f0f921"
             ]
            ],
            "type": "histogram2d"
           }
          ],
          "histogram2dcontour": [
           {
            "colorbar": {
             "outlinewidth": 0,
             "ticks": ""
            },
            "colorscale": [
             [
              0,
              "#0d0887"
             ],
             [
              0.1111111111111111,
              "#46039f"
             ],
             [
              0.2222222222222222,
              "#7201a8"
             ],
             [
              0.3333333333333333,
              "#9c179e"
             ],
             [
              0.4444444444444444,
              "#bd3786"
             ],
             [
              0.5555555555555556,
              "#d8576b"
             ],
             [
              0.6666666666666666,
              "#ed7953"
             ],
             [
              0.7777777777777778,
              "#fb9f3a"
             ],
             [
              0.8888888888888888,
              "#fdca26"
             ],
             [
              1,
              "#f0f921"
             ]
            ],
            "type": "histogram2dcontour"
           }
          ],
          "mesh3d": [
           {
            "colorbar": {
             "outlinewidth": 0,
             "ticks": ""
            },
            "type": "mesh3d"
           }
          ],
          "parcoords": [
           {
            "line": {
             "colorbar": {
              "outlinewidth": 0,
              "ticks": ""
             }
            },
            "type": "parcoords"
           }
          ],
          "pie": [
           {
            "automargin": true,
            "type": "pie"
           }
          ],
          "scatter": [
           {
            "fillpattern": {
             "fillmode": "overlay",
             "size": 10,
             "solidity": 0.2
            },
            "type": "scatter"
           }
          ],
          "scatter3d": [
           {
            "line": {
             "colorbar": {
              "outlinewidth": 0,
              "ticks": ""
             }
            },
            "marker": {
             "colorbar": {
              "outlinewidth": 0,
              "ticks": ""
             }
            },
            "type": "scatter3d"
           }
          ],
          "scattercarpet": [
           {
            "marker": {
             "colorbar": {
              "outlinewidth": 0,
              "ticks": ""
             }
            },
            "type": "scattercarpet"
           }
          ],
          "scattergeo": [
           {
            "marker": {
             "colorbar": {
              "outlinewidth": 0,
              "ticks": ""
             }
            },
            "type": "scattergeo"
           }
          ],
          "scattergl": [
           {
            "marker": {
             "colorbar": {
              "outlinewidth": 0,
              "ticks": ""
             }
            },
            "type": "scattergl"
           }
          ],
          "scattermapbox": [
           {
            "marker": {
             "colorbar": {
              "outlinewidth": 0,
              "ticks": ""
             }
            },
            "type": "scattermapbox"
           }
          ],
          "scatterpolar": [
           {
            "marker": {
             "colorbar": {
              "outlinewidth": 0,
              "ticks": ""
             }
            },
            "type": "scatterpolar"
           }
          ],
          "scatterpolargl": [
           {
            "marker": {
             "colorbar": {
              "outlinewidth": 0,
              "ticks": ""
             }
            },
            "type": "scatterpolargl"
           }
          ],
          "scatterternary": [
           {
            "marker": {
             "colorbar": {
              "outlinewidth": 0,
              "ticks": ""
             }
            },
            "type": "scatterternary"
           }
          ],
          "surface": [
           {
            "colorbar": {
             "outlinewidth": 0,
             "ticks": ""
            },
            "colorscale": [
             [
              0,
              "#0d0887"
             ],
             [
              0.1111111111111111,
              "#46039f"
             ],
             [
              0.2222222222222222,
              "#7201a8"
             ],
             [
              0.3333333333333333,
              "#9c179e"
             ],
             [
              0.4444444444444444,
              "#bd3786"
             ],
             [
              0.5555555555555556,
              "#d8576b"
             ],
             [
              0.6666666666666666,
              "#ed7953"
             ],
             [
              0.7777777777777778,
              "#fb9f3a"
             ],
             [
              0.8888888888888888,
              "#fdca26"
             ],
             [
              1,
              "#f0f921"
             ]
            ],
            "type": "surface"
           }
          ],
          "table": [
           {
            "cells": {
             "fill": {
              "color": "#EBF0F8"
             },
             "line": {
              "color": "white"
             }
            },
            "header": {
             "fill": {
              "color": "#C8D4E3"
             },
             "line": {
              "color": "white"
             }
            },
            "type": "table"
           }
          ]
         },
         "layout": {
          "annotationdefaults": {
           "arrowcolor": "#2a3f5f",
           "arrowhead": 0,
           "arrowwidth": 1
          },
          "autotypenumbers": "strict",
          "coloraxis": {
           "colorbar": {
            "outlinewidth": 0,
            "ticks": ""
           }
          },
          "colorscale": {
           "diverging": [
            [
             0,
             "#8e0152"
            ],
            [
             0.1,
             "#c51b7d"
            ],
            [
             0.2,
             "#de77ae"
            ],
            [
             0.3,
             "#f1b6da"
            ],
            [
             0.4,
             "#fde0ef"
            ],
            [
             0.5,
             "#f7f7f7"
            ],
            [
             0.6,
             "#e6f5d0"
            ],
            [
             0.7,
             "#b8e186"
            ],
            [
             0.8,
             "#7fbc41"
            ],
            [
             0.9,
             "#4d9221"
            ],
            [
             1,
             "#276419"
            ]
           ],
           "sequential": [
            [
             0,
             "#0d0887"
            ],
            [
             0.1111111111111111,
             "#46039f"
            ],
            [
             0.2222222222222222,
             "#7201a8"
            ],
            [
             0.3333333333333333,
             "#9c179e"
            ],
            [
             0.4444444444444444,
             "#bd3786"
            ],
            [
             0.5555555555555556,
             "#d8576b"
            ],
            [
             0.6666666666666666,
             "#ed7953"
            ],
            [
             0.7777777777777778,
             "#fb9f3a"
            ],
            [
             0.8888888888888888,
             "#fdca26"
            ],
            [
             1,
             "#f0f921"
            ]
           ],
           "sequentialminus": [
            [
             0,
             "#0d0887"
            ],
            [
             0.1111111111111111,
             "#46039f"
            ],
            [
             0.2222222222222222,
             "#7201a8"
            ],
            [
             0.3333333333333333,
             "#9c179e"
            ],
            [
             0.4444444444444444,
             "#bd3786"
            ],
            [
             0.5555555555555556,
             "#d8576b"
            ],
            [
             0.6666666666666666,
             "#ed7953"
            ],
            [
             0.7777777777777778,
             "#fb9f3a"
            ],
            [
             0.8888888888888888,
             "#fdca26"
            ],
            [
             1,
             "#f0f921"
            ]
           ]
          },
          "colorway": [
           "#636efa",
           "#EF553B",
           "#00cc96",
           "#ab63fa",
           "#FFA15A",
           "#19d3f3",
           "#FF6692",
           "#B6E880",
           "#FF97FF",
           "#FECB52"
          ],
          "font": {
           "color": "#2a3f5f"
          },
          "geo": {
           "bgcolor": "white",
           "lakecolor": "white",
           "landcolor": "#E5ECF6",
           "showlakes": true,
           "showland": true,
           "subunitcolor": "white"
          },
          "hoverlabel": {
           "align": "left"
          },
          "hovermode": "closest",
          "mapbox": {
           "style": "light"
          },
          "paper_bgcolor": "white",
          "plot_bgcolor": "#E5ECF6",
          "polar": {
           "angularaxis": {
            "gridcolor": "white",
            "linecolor": "white",
            "ticks": ""
           },
           "bgcolor": "#E5ECF6",
           "radialaxis": {
            "gridcolor": "white",
            "linecolor": "white",
            "ticks": ""
           }
          },
          "scene": {
           "xaxis": {
            "backgroundcolor": "#E5ECF6",
            "gridcolor": "white",
            "gridwidth": 2,
            "linecolor": "white",
            "showbackground": true,
            "ticks": "",
            "zerolinecolor": "white"
           },
           "yaxis": {
            "backgroundcolor": "#E5ECF6",
            "gridcolor": "white",
            "gridwidth": 2,
            "linecolor": "white",
            "showbackground": true,
            "ticks": "",
            "zerolinecolor": "white"
           },
           "zaxis": {
            "backgroundcolor": "#E5ECF6",
            "gridcolor": "white",
            "gridwidth": 2,
            "linecolor": "white",
            "showbackground": true,
            "ticks": "",
            "zerolinecolor": "white"
           }
          },
          "shapedefaults": {
           "line": {
            "color": "#2a3f5f"
           }
          },
          "ternary": {
           "aaxis": {
            "gridcolor": "white",
            "linecolor": "white",
            "ticks": ""
           },
           "baxis": {
            "gridcolor": "white",
            "linecolor": "white",
            "ticks": ""
           },
           "bgcolor": "#E5ECF6",
           "caxis": {
            "gridcolor": "white",
            "linecolor": "white",
            "ticks": ""
           }
          },
          "title": {
           "x": 0.05
          },
          "xaxis": {
           "automargin": true,
           "gridcolor": "white",
           "linecolor": "white",
           "ticks": "",
           "title": {
            "standoff": 15
           },
           "zerolinecolor": "white",
           "zerolinewidth": 2
          },
          "yaxis": {
           "automargin": true,
           "gridcolor": "white",
           "linecolor": "white",
           "ticks": "",
           "title": {
            "standoff": 15
           },
           "zerolinecolor": "white",
           "zerolinewidth": 2
          }
         }
        },
        "xaxis": {
         "anchor": "y",
         "domain": [
          0,
          1
         ],
         "title": {
          "text": "Article Count per Month"
         }
        },
        "yaxis": {
         "anchor": "x",
         "domain": [
          0,
          1
         ],
         "title": {
          "text": "Months"
         }
        }
       }
      }
     },
     "metadata": {},
     "output_type": "display_data"
    }
   ],
   "source": [
    "fig = px.histogram(Apl_counts_month, x=\"Article_Count\", labels={\"Article_Count\" : \"Article Count per Month\"})\n",
    "fig.update_layout(yaxis_title=\"Months\")\n",
    "fig.show()"
   ]
  },
  {
   "cell_type": "markdown",
   "metadata": {},
   "source": [
    "Let's look at this from a different angle. How about a simple graph that plots article counts against date."
   ]
  },
  {
   "cell_type": "code",
   "execution_count": 79,
   "metadata": {},
   "outputs": [
    {
     "data": {
      "application/vnd.plotly.v1+json": {
       "config": {
        "plotlyServerURL": "https://plot.ly"
       },
       "data": [
        {
         "type": "scatter",
         "x": [
          "2019-03-15",
          "2019-03-18",
          "2019-03-19",
          "2019-03-20",
          "2019-03-21",
          "2019-03-22",
          "2019-03-23",
          "2019-03-24",
          "2019-03-25",
          "2019-03-26",
          "2019-03-27",
          "2019-03-28",
          "2019-03-29",
          "2019-03-30",
          "2019-03-31",
          "2019-04-01",
          "2019-04-02",
          "2019-04-03",
          "2019-04-04",
          "2019-04-05",
          "2019-04-06",
          "2019-04-07",
          "2019-04-08",
          "2019-04-09",
          "2019-04-10",
          "2019-04-11",
          "2019-04-12",
          "2019-04-14",
          "2019-04-15",
          "2019-04-16",
          "2019-04-17",
          "2019-04-18",
          "2019-04-21",
          "2019-04-22",
          "2019-04-23",
          "2019-04-24",
          "2019-04-25",
          "2019-04-26",
          "2019-04-27",
          "2019-04-28",
          "2019-04-29",
          "2019-04-30",
          "2019-05-01",
          "2019-05-02",
          "2019-05-03",
          "2019-05-04",
          "2019-05-06",
          "2019-05-07",
          "2019-05-08",
          "2019-05-09",
          "2019-05-10",
          "2019-05-11",
          "2019-05-12",
          "2019-05-13",
          "2019-05-14",
          "2019-05-15",
          "2019-05-16",
          "2019-05-17",
          "2019-05-18",
          "2019-05-19",
          "2019-05-20",
          "2019-05-21",
          "2019-05-22",
          "2019-05-23",
          "2019-05-24",
          "2019-05-25",
          "2019-05-27",
          "2019-05-28",
          "2019-05-29",
          "2019-05-30",
          "2019-05-31",
          "2019-06-01",
          "2019-06-02",
          "2019-06-03",
          "2019-06-04",
          "2019-06-05",
          "2019-06-06",
          "2019-06-07",
          "2019-06-10",
          "2019-06-11",
          "2019-06-12",
          "2019-06-13",
          "2019-06-14",
          "2019-06-15",
          "2019-06-16",
          "2019-06-17",
          "2019-06-18",
          "2019-06-19",
          "2019-06-20",
          "2019-06-21",
          "2019-06-22",
          "2019-06-24",
          "2019-06-25",
          "2019-06-26",
          "2019-06-27",
          "2019-06-28",
          "2019-06-29",
          "2019-06-30",
          "2019-07-01",
          "2019-07-02",
          "2019-07-03",
          "2019-07-04",
          "2019-07-05",
          "2019-07-07",
          "2019-07-08",
          "2019-07-09",
          "2019-07-10",
          "2019-07-11",
          "2019-07-12",
          "2019-07-13",
          "2019-07-15",
          "2019-07-16",
          "2019-07-17",
          "2019-07-18",
          "2019-07-19",
          "2019-07-22",
          "2019-07-23",
          "2019-07-24",
          "2019-07-25",
          "2019-07-26",
          "2019-07-27",
          "2019-07-29",
          "2019-07-30",
          "2019-07-31",
          "2019-08-01",
          "2019-08-02",
          "2019-08-03",
          "2019-08-04",
          "2019-08-05",
          "2019-08-06",
          "2019-08-07",
          "2019-08-08",
          "2019-08-09",
          "2019-08-10",
          "2019-08-11",
          "2019-08-12",
          "2019-08-13",
          "2019-08-14",
          "2019-08-15",
          "2019-08-16",
          "2019-08-17",
          "2019-08-18",
          "2019-08-19",
          "2019-08-20",
          "2019-08-21",
          "2019-08-22",
          "2019-08-23",
          "2019-08-26",
          "2019-08-27",
          "2019-08-28",
          "2019-08-29",
          "2019-08-30",
          "2019-08-31",
          "2019-09-02",
          "2019-09-03",
          "2019-09-04",
          "2019-09-05",
          "2019-09-06",
          "2019-09-07",
          "2019-09-08",
          "2019-09-09",
          "2019-09-10",
          "2019-09-11",
          "2019-09-12",
          "2019-09-13",
          "2019-09-14",
          "2019-09-15",
          "2019-09-16",
          "2019-09-17",
          "2019-09-18",
          "2019-09-19",
          "2019-09-20",
          "2019-09-21",
          "2019-09-23",
          "2019-09-24",
          "2019-09-25",
          "2019-09-26",
          "2019-09-27",
          "2019-09-28",
          "2019-09-29",
          "2019-09-30",
          "2019-10-01",
          "2019-10-02",
          "2019-10-03",
          "2019-10-04",
          "2019-10-05",
          "2019-10-06",
          "2019-10-07",
          "2019-10-08",
          "2019-10-09",
          "2019-10-10",
          "2019-10-11",
          "2019-10-12",
          "2019-10-13",
          "2019-10-14",
          "2019-10-15",
          "2019-10-16",
          "2019-10-17",
          "2019-10-18",
          "2019-10-19",
          "2019-10-20",
          "2019-10-21",
          "2019-10-22",
          "2019-10-23",
          "2019-10-24",
          "2019-10-25",
          "2019-10-26",
          "2019-10-28",
          "2019-10-29",
          "2019-10-30",
          "2019-10-31",
          "2019-11-01",
          "2019-11-02",
          "2019-11-03",
          "2019-11-04",
          "2019-11-05",
          "2019-11-06",
          "2019-11-07",
          "2019-11-08",
          "2019-11-09",
          "2019-11-10",
          "2019-11-11",
          "2019-11-12",
          "2019-11-13",
          "2019-11-14",
          "2019-11-15",
          "2019-11-16",
          "2019-11-17",
          "2019-11-18",
          "2019-11-19",
          "2019-11-20",
          "2019-11-21",
          "2019-11-22",
          "2019-11-23",
          "2019-11-25",
          "2019-11-26",
          "2019-11-27",
          "2019-11-28",
          "2019-11-29",
          "2019-12-01",
          "2019-12-02",
          "2019-12-03",
          "2019-12-04",
          "2019-12-05",
          "2019-12-06",
          "2019-12-07",
          "2019-12-08",
          "2019-12-09",
          "2019-12-10",
          "2019-12-11",
          "2019-12-12",
          "2019-12-13",
          "2019-12-14",
          "2019-12-15",
          "2019-12-16",
          "2019-12-17",
          "2019-12-18",
          "2019-12-19",
          "2019-12-20",
          "2019-12-21",
          "2019-12-23",
          "2019-12-24",
          "2019-12-25",
          "2019-12-26",
          "2019-12-27",
          "2019-12-28",
          "2019-12-30",
          "2019-12-31",
          "2020-01-01",
          "2020-01-02",
          "2020-01-03",
          "2020-01-04",
          "2020-01-05",
          "2020-01-06",
          "2020-01-07",
          "2020-01-08",
          "2020-01-09",
          "2020-01-10",
          "2020-01-11",
          "2020-01-12",
          "2020-01-13",
          "2020-01-14",
          "2020-01-15",
          "2020-01-16",
          "2020-01-17",
          "2020-01-18",
          "2020-01-19",
          "2020-01-20",
          "2020-01-21",
          "2020-01-22",
          "2020-01-23",
          "2020-01-24",
          "2020-01-25",
          "2020-01-26",
          "2020-01-27",
          "2020-01-28",
          "2020-01-29",
          "2020-01-30",
          "2020-01-31",
          "2020-02-01",
          "2020-02-02",
          "2020-02-03",
          "2020-02-04",
          "2020-02-05",
          "2020-02-06",
          "2020-02-07",
          "2020-02-08",
          "2020-02-09",
          "2020-02-10",
          "2020-02-11",
          "2020-02-12",
          "2020-02-13",
          "2020-02-14",
          "2020-02-17",
          "2020-02-18",
          "2020-02-19",
          "2020-02-20",
          "2020-02-21",
          "2020-02-22",
          "2020-02-23",
          "2020-02-24",
          "2020-02-25",
          "2020-02-26",
          "2020-02-27",
          "2020-02-28",
          "2020-02-29",
          "2020-03-02",
          "2020-03-03",
          "2020-03-04",
          "2020-03-05",
          "2020-03-06",
          "2020-03-08",
          "2020-03-09",
          "2020-03-10",
          "2020-03-11",
          "2020-03-12",
          "2020-03-13",
          "2020-03-14",
          "2020-03-15",
          "2020-03-16",
          "2020-03-17",
          "2020-03-18",
          "2020-03-19",
          "2020-03-20",
          "2020-03-21",
          "2020-03-22",
          "2020-03-23",
          "2020-03-24",
          "2020-03-25",
          "2020-03-26",
          "2020-03-27",
          "2020-03-28",
          "2020-03-29",
          "2020-03-30",
          "2020-03-31",
          "2020-04-01",
          "2020-04-02",
          "2020-04-03",
          "2020-04-04",
          "2020-04-05",
          "2020-04-06",
          "2020-04-07",
          "2020-04-08",
          "2020-04-09",
          "2020-04-10",
          "2020-04-13",
          "2020-04-14",
          "2020-04-15",
          "2020-04-16",
          "2020-04-17",
          "2020-04-20",
          "2020-04-21",
          "2020-04-22",
          "2020-04-23",
          "2020-04-24",
          "2020-04-27",
          "2020-04-28",
          "2020-04-29",
          "2020-04-30",
          "2020-05-01",
          "2020-05-02",
          "2020-05-03",
          "2020-05-04",
          "2020-05-05",
          "2020-05-06",
          "2020-05-07",
          "2020-05-08",
          "2020-05-09",
          "2020-05-10",
          "2020-05-11",
          "2020-05-12",
          "2020-05-13",
          "2020-05-14",
          "2020-05-15",
          "2020-05-16",
          "2020-05-17",
          "2020-05-18",
          "2020-05-19",
          "2020-05-20",
          "2020-05-21",
          "2020-05-22",
          "2020-05-23",
          "2020-05-25",
          "2020-05-26",
          "2020-05-27",
          "2020-05-28",
          "2020-05-30",
          "2020-05-31",
          "2020-06-01",
          "2020-06-02",
          "2020-06-03",
          "2020-06-04",
          "2020-06-05",
          "2020-06-06",
          "2020-06-08",
          "2020-06-09",
          "2020-06-10",
          "2020-06-11",
          "2020-06-12",
          "2020-06-14",
          "2020-06-15",
          "2020-06-16",
          "2020-06-17",
          "2020-06-18",
          "2020-06-19",
          "2020-06-20",
          "2020-06-21",
          "2020-06-22",
          "2020-06-23",
          "2020-06-24",
          "2020-06-25",
          "2020-06-26",
          "2020-06-27",
          "2020-06-29",
          "2020-06-30",
          "2020-07-01",
          "2020-07-02",
          "2020-07-03",
          "2020-07-05",
          "2020-07-06",
          "2020-07-07",
          "2020-07-08",
          "2020-07-09",
          "2020-07-10",
          "2020-07-11",
          "2020-07-13",
          "2020-07-14",
          "2020-07-15",
          "2020-07-16",
          "2020-07-17",
          "2020-07-20",
          "2020-07-21",
          "2020-07-22",
          "2020-07-23",
          "2020-07-24",
          "2020-07-25",
          "2020-07-26",
          "2020-07-27",
          "2020-07-28",
          "2020-07-29",
          "2020-07-30",
          "2020-07-31",
          "2020-08-01",
          "2020-08-02",
          "2020-08-03",
          "2020-08-04",
          "2020-08-05",
          "2020-08-06",
          "2020-08-07",
          "2020-08-09",
          "2020-08-10",
          "2020-08-11",
          "2020-08-12",
          "2020-08-13",
          "2020-08-14",
          "2020-08-15",
          "2020-08-16",
          "2020-08-17",
          "2020-08-18",
          "2020-08-19",
          "2020-08-20",
          "2020-08-21",
          "2020-08-22",
          "2020-08-23",
          "2020-08-24",
          "2020-08-25",
          "2020-08-26",
          "2020-08-27",
          "2020-08-28",
          "2020-08-29",
          "2020-08-30",
          "2020-08-31",
          "2020-09-01",
          "2020-09-02",
          "2020-09-03",
          "2020-09-04",
          "2020-09-05",
          "2020-09-07",
          "2020-09-08",
          "2020-09-09",
          "2020-09-10",
          "2020-09-11",
          "2020-09-12",
          "2020-09-13",
          "2020-09-14",
          "2020-09-15",
          "2020-09-16",
          "2020-09-17",
          "2020-09-18",
          "2020-09-20",
          "2020-09-21",
          "2020-09-22",
          "2020-09-23",
          "2020-09-24",
          "2020-09-25",
          "2020-09-28",
          "2020-09-29",
          "2020-09-30",
          "2020-10-01",
          "2020-10-02",
          "2020-10-05",
          "2020-10-06",
          "2020-10-07",
          "2020-10-08",
          "2020-10-09",
          "2020-10-10",
          "2020-10-11",
          "2020-10-12",
          "2020-10-13",
          "2020-10-14",
          "2020-10-15",
          "2020-10-16",
          "2020-10-18",
          "2020-10-19",
          "2020-10-20",
          "2020-10-21",
          "2020-10-22",
          "2020-10-23",
          "2020-10-24",
          "2020-10-25",
          "2020-10-26",
          "2020-10-27",
          "2020-10-28",
          "2020-10-29",
          "2020-10-30",
          "2020-10-31",
          "2020-11-01",
          "2020-11-02",
          "2020-11-03",
          "2020-11-04",
          "2020-11-05",
          "2020-11-06",
          "2020-11-08",
          "2020-11-09",
          "2020-11-10",
          "2020-11-11",
          "2020-11-12",
          "2020-11-13",
          "2020-11-15",
          "2020-11-16",
          "2020-11-17",
          "2020-11-18",
          "2020-11-19",
          "2020-11-20",
          "2020-11-21",
          "2020-11-23",
          "2020-11-24",
          "2020-11-25",
          "2020-11-26",
          "2020-11-27",
          "2020-11-30",
          "2020-12-01",
          "2020-12-02",
          "2020-12-03",
          "2020-12-04",
          "2020-12-07",
          "2020-12-08",
          "2020-12-09",
          "2020-12-10",
          "2020-12-11",
          "2020-12-12",
          "2020-12-14",
          "2020-12-15",
          "2020-12-16",
          "2020-12-18",
          "2020-12-19",
          "2020-12-20",
          "2020-12-21",
          "2020-12-22",
          "2020-12-23",
          "2020-12-24",
          "2020-12-25",
          "2020-12-26",
          "2020-12-27",
          "2020-12-28",
          "2020-12-29",
          "2020-12-30",
          "2020-12-31",
          "2021-01-01",
          "2021-01-02",
          "2021-01-04",
          "2021-01-05",
          "2021-01-06",
          "2021-01-07",
          "2021-01-08",
          "2021-01-09",
          "2021-01-10",
          "2021-01-11",
          "2021-01-12",
          "2021-01-13",
          "2021-01-15",
          "2021-01-16",
          "2021-01-17",
          "2021-01-18",
          "2021-01-19",
          "2021-01-20",
          "2021-01-21",
          "2021-01-22",
          "2021-01-23",
          "2021-01-24",
          "2021-01-25",
          "2021-01-26",
          "2021-01-27",
          "2021-01-28",
          "2021-01-29",
          "2021-01-30",
          "2021-01-31",
          "2021-02-01",
          "2021-02-02",
          "2021-02-03",
          "2021-02-04",
          "2021-02-05",
          "2021-02-06",
          "2021-02-07",
          "2021-02-08",
          "2021-02-09",
          "2021-02-10",
          "2021-02-11",
          "2021-02-12",
          "2021-02-13",
          "2021-02-14",
          "2021-02-15",
          "2021-02-16",
          "2021-02-17",
          "2021-02-18",
          "2021-02-19",
          "2021-02-20",
          "2021-02-21",
          "2021-02-22",
          "2021-02-23",
          "2021-02-24",
          "2021-02-25",
          "2021-02-26",
          "2021-02-27",
          "2021-02-28",
          "2021-03-01",
          "2021-03-02",
          "2021-03-03",
          "2021-03-04",
          "2021-03-05",
          "2021-03-06",
          "2021-03-08",
          "2021-03-09",
          "2021-03-10",
          "2021-03-11",
          "2021-03-12",
          "2021-03-14",
          "2021-03-15",
          "2021-03-16",
          "2021-03-17",
          "2021-03-18",
          "2021-03-19",
          "2021-03-20",
          "2021-03-21",
          "2021-03-22",
          "2021-03-23",
          "2021-03-24",
          "2021-03-25",
          "2021-03-27",
          "2021-03-29",
          "2021-03-30",
          "2021-03-31",
          "2021-04-01",
          "2021-04-05",
          "2021-04-06",
          "2021-04-07",
          "2021-04-08",
          "2021-04-09",
          "2021-04-11",
          "2021-04-12",
          "2021-04-13",
          "2021-04-14",
          "2021-04-15",
          "2021-04-16",
          "2021-04-18",
          "2021-04-19",
          "2021-04-20",
          "2021-04-21",
          "2021-04-22",
          "2021-04-23",
          "2021-04-24",
          "2021-04-26",
          "2021-04-27",
          "2021-04-28",
          "2021-04-29",
          "2021-04-30",
          "2021-05-01",
          "2021-05-02",
          "2021-05-03",
          "2021-05-04",
          "2021-05-05",
          "2021-05-06",
          "2021-05-07",
          "2021-05-08",
          "2021-05-09",
          "2021-05-10",
          "2021-05-11",
          "2021-05-12",
          "2021-05-13",
          "2021-05-14",
          "2021-05-15",
          "2021-05-16",
          "2021-05-17",
          "2021-05-18",
          "2021-05-19",
          "2021-05-20",
          "2021-05-21",
          "2021-05-22",
          "2021-05-24",
          "2021-05-25",
          "2021-05-26",
          "2021-05-27",
          "2021-05-28",
          "2021-05-29",
          "2021-05-31",
          "2021-06-01",
          "2021-06-02",
          "2021-06-03",
          "2021-06-04",
          "2021-06-06",
          "2021-06-07",
          "2021-06-08",
          "2021-06-09",
          "2021-06-10",
          "2021-06-11",
          "2021-06-12",
          "2021-06-13",
          "2021-06-14",
          "2021-06-15",
          "2021-06-16",
          "2021-06-17",
          "2021-06-18",
          "2021-06-20",
          "2021-06-21",
          "2021-06-22",
          "2021-06-23",
          "2021-06-24",
          "2021-06-25",
          "2021-06-26",
          "2021-06-28",
          "2021-06-29",
          "2021-06-30",
          "2021-07-01",
          "2021-07-02",
          "2021-07-06",
          "2021-07-07",
          "2021-07-08",
          "2021-07-09",
          "2021-07-10",
          "2021-07-11",
          "2021-07-12",
          "2021-07-13",
          "2021-07-14",
          "2021-07-15",
          "2021-07-16",
          "2021-07-18",
          "2021-07-19",
          "2021-07-20",
          "2021-07-21",
          "2021-07-22",
          "2021-07-23",
          "2021-07-26",
          "2021-07-27",
          "2021-07-28",
          "2021-07-29",
          "2021-07-30",
          "2021-08-01",
          "2021-08-02",
          "2021-08-03",
          "2021-08-04",
          "2021-08-06",
          "2021-08-07",
          "2021-08-09",
          "2021-08-10",
          "2021-08-11",
          "2021-08-12",
          "2021-08-13",
          "2021-08-14",
          "2021-08-15",
          "2021-08-16",
          "2021-08-17",
          "2021-08-18",
          "2021-08-19",
          "2021-08-20",
          "2021-08-22",
          "2021-08-23",
          "2021-08-24",
          "2021-08-25",
          "2021-08-26",
          "2021-08-27",
          "2021-08-29",
          "2021-08-30",
          "2021-08-31",
          "2021-09-01",
          "2021-09-02",
          "2021-09-03",
          "2021-09-04",
          "2021-09-05",
          "2021-09-06",
          "2021-09-07",
          "2021-09-08",
          "2021-09-09",
          "2021-09-10",
          "2021-09-11",
          "2021-09-12",
          "2021-09-13",
          "2021-09-14",
          "2021-09-15",
          "2021-09-16",
          "2021-09-17",
          "2021-09-18",
          "2021-09-19",
          "2021-09-20",
          "2021-09-21",
          "2021-09-22",
          "2021-09-23",
          "2021-09-24",
          "2021-09-25",
          "2021-09-26",
          "2021-09-27",
          "2021-09-28",
          "2021-09-29",
          "2021-09-30",
          "2021-10-01",
          "2021-10-02",
          "2021-10-04",
          "2021-10-05",
          "2021-10-06",
          "2021-10-07",
          "2021-10-08",
          "2021-10-09",
          "2021-10-10",
          "2021-10-11",
          "2021-10-12",
          "2021-10-13",
          "2021-10-14",
          "2021-10-15",
          "2021-10-16",
          "2021-10-17",
          "2021-10-18",
          "2021-10-19",
          "2021-10-20",
          "2021-10-21",
          "2021-10-22",
          "2021-10-23",
          "2021-10-25",
          "2021-10-26",
          "2021-10-27",
          "2021-10-28",
          "2021-10-29",
          "2021-10-30",
          "2021-10-31",
          "2021-11-01",
          "2021-11-02",
          "2021-11-03",
          "2021-11-04",
          "2021-11-05",
          "2021-11-06",
          "2021-11-08",
          "2021-11-09",
          "2021-11-10",
          "2021-11-11",
          "2021-11-12",
          "2021-11-13",
          "2021-11-14",
          "2021-11-15",
          "2021-11-16",
          "2021-11-17",
          "2021-11-18",
          "2021-11-19",
          "2021-11-20",
          "2021-11-22",
          "2021-11-23",
          "2021-11-24",
          "2021-11-25",
          "2021-11-26",
          "2021-11-27",
          "2021-11-28",
          "2021-11-29",
          "2021-11-30",
          "2021-12-01",
          "2021-12-02",
          "2021-12-03",
          "2021-12-04",
          "2021-12-05",
          "2021-12-06",
          "2021-12-07",
          "2021-12-08",
          "2021-12-09",
          "2021-12-10",
          "2021-12-11",
          "2021-12-12",
          "2021-12-13",
          "2021-12-14",
          "2021-12-15",
          "2021-12-16",
          "2021-12-17",
          "2021-12-18",
          "2021-12-19",
          "2021-12-20",
          "2021-12-21",
          "2021-12-22",
          "2021-12-23",
          "2021-12-24",
          "2021-12-25",
          "2021-12-26",
          "2021-12-27",
          "2021-12-28",
          "2021-12-29",
          "2021-12-30",
          "2021-12-31",
          "2022-01-01",
          "2022-01-03",
          "2022-01-04",
          "2022-01-05",
          "2022-01-06",
          "2022-01-07",
          "2022-01-08",
          "2022-01-09",
          "2022-01-10",
          "2022-01-11",
          "2022-01-12",
          "2022-01-13",
          "2022-01-14",
          "2022-01-15",
          "2022-01-16",
          "2022-01-17",
          "2022-01-18",
          "2022-01-19",
          "2022-01-20",
          "2022-01-21",
          "2022-01-22",
          "2022-01-24",
          "2022-01-25",
          "2022-01-26",
          "2022-01-27",
          "2022-01-28",
          "2022-01-30",
          "2022-01-31",
          "2022-02-01",
          "2022-02-02",
          "2022-02-03",
          "2022-02-04",
          "2022-02-05",
          "2022-02-07",
          "2022-02-08",
          "2022-02-09",
          "2022-02-10",
          "2022-02-11",
          "2022-02-12",
          "2022-02-13",
          "2022-02-14",
          "2022-02-15",
          "2022-02-16",
          "2022-02-17",
          "2022-02-18",
          "2022-02-20",
          "2022-02-21",
          "2022-02-22",
          "2022-02-23",
          "2022-02-24",
          "2022-02-25",
          "2022-02-26",
          "2022-02-27",
          "2022-02-28",
          "2022-03-01",
          "2022-03-02",
          "2022-03-03",
          "2022-03-04",
          "2022-03-07",
          "2022-03-08",
          "2022-03-09",
          "2022-03-10",
          "2022-03-11",
          "2022-03-14",
          "2022-03-15",
          "2022-03-16",
          "2022-03-17",
          "2022-03-18",
          "2022-03-20",
          "2022-03-21",
          "2022-03-22",
          "2022-03-23",
          "2022-03-24",
          "2022-03-25",
          "2022-03-26",
          "2022-03-27",
          "2022-03-28",
          "2022-03-29",
          "2022-03-30",
          "2022-03-31",
          "2022-04-01",
          "2022-04-02",
          "2022-04-04",
          "2022-04-05",
          "2022-04-06",
          "2022-04-07",
          "2022-04-08",
          "2022-04-09",
          "2022-04-11",
          "2022-04-12",
          "2022-04-13",
          "2022-04-14",
          "2022-04-15",
          "2022-04-17",
          "2022-04-18",
          "2022-04-19",
          "2022-04-20",
          "2022-04-21",
          "2022-04-22",
          "2022-04-23",
          "2022-04-24",
          "2022-04-25",
          "2022-04-26",
          "2022-04-27",
          "2022-04-28",
          "2022-04-29",
          "2022-04-30",
          "2022-05-02",
          "2022-05-03",
          "2022-05-04",
          "2022-05-05",
          "2022-05-06",
          "2022-05-07",
          "2022-05-08",
          "2022-05-09",
          "2022-05-10",
          "2022-05-11",
          "2022-05-12",
          "2022-05-13",
          "2022-05-14",
          "2022-05-15",
          "2022-05-16",
          "2022-05-17",
          "2022-05-18",
          "2022-05-19",
          "2022-05-20",
          "2022-05-21",
          "2022-05-23",
          "2022-05-24",
          "2022-05-25",
          "2022-05-26",
          "2022-05-27",
          "2022-05-28",
          "2022-05-29",
          "2022-05-30",
          "2022-05-31",
          "2022-06-01",
          "2022-06-02",
          "2022-06-03",
          "2022-06-04",
          "2022-06-05",
          "2022-06-06",
          "2022-06-07",
          "2022-06-08",
          "2022-06-09",
          "2022-06-10",
          "2022-06-11",
          "2022-06-12",
          "2022-06-13",
          "2022-06-14",
          "2022-06-15",
          "2022-06-16",
          "2022-06-17",
          "2022-06-18",
          "2022-06-19",
          "2022-06-20",
          "2022-06-21",
          "2022-06-22",
          "2022-06-23",
          "2022-06-24",
          "2022-06-25",
          "2022-06-27",
          "2022-06-28",
          "2022-06-29",
          "2022-06-30",
          "2022-07-01",
          "2022-07-02",
          "2022-07-03",
          "2022-07-04",
          "2022-07-05",
          "2022-07-06",
          "2022-07-07",
          "2022-07-08",
          "2022-07-11",
          "2022-07-12",
          "2022-07-13",
          "2022-07-14",
          "2022-07-15",
          "2022-07-18",
          "2022-07-19",
          "2022-07-20",
          "2022-07-21",
          "2022-07-22",
          "2022-07-23",
          "2022-07-25",
          "2022-07-26",
          "2022-07-27",
          "2022-07-28",
          "2022-07-29",
          "2022-07-30",
          "2022-07-31",
          "2022-08-01",
          "2022-08-02",
          "2022-08-03",
          "2022-08-04",
          "2022-08-05",
          "2022-08-06",
          "2022-08-07",
          "2022-08-08",
          "2022-08-09",
          "2022-08-10",
          "2022-08-11",
          "2022-08-12",
          "2022-08-14",
          "2022-08-15",
          "2022-08-16",
          "2022-08-17",
          "2022-08-18",
          "2022-08-19",
          "2022-08-21",
          "2022-08-22",
          "2022-08-23",
          "2022-08-24",
          "2022-08-25",
          "2022-08-26",
          "2022-08-27",
          "2022-08-28",
          "2022-08-29",
          "2022-08-30",
          "2022-08-31",
          "2022-09-01",
          "2022-09-02",
          "2022-09-04",
          "2022-09-05",
          "2022-09-06",
          "2022-09-07",
          "2022-09-08",
          "2022-09-09",
          "2022-09-10",
          "2022-09-11",
          "2022-09-12",
          "2022-09-13",
          "2022-09-14",
          "2022-09-15",
          "2022-09-16",
          "2022-09-17",
          "2022-09-19",
          "2022-09-20",
          "2022-09-21",
          "2022-09-22",
          "2022-09-23",
          "2022-09-24",
          "2022-09-25",
          "2022-09-26",
          "2022-09-27",
          "2022-09-28",
          "2022-09-29",
          "2022-09-30",
          "2022-10-01",
          "2022-10-02",
          "2022-10-03",
          "2022-10-04",
          "2022-10-05",
          "2022-10-06",
          "2022-10-07",
          "2022-10-09",
          "2022-10-10",
          "2022-10-11",
          "2022-10-12",
          "2022-10-13",
          "2022-10-14",
          "2022-10-15",
          "2022-10-16",
          "2022-10-17",
          "2022-10-18",
          "2022-10-19",
          "2022-10-20",
          "2022-10-21",
          "2022-10-24",
          "2022-10-25",
          "2022-10-26",
          "2022-10-27",
          "2022-10-28",
          "2022-10-29",
          "2022-10-31",
          "2022-11-01",
          "2022-11-02",
          "2022-11-03",
          "2022-11-04",
          "2022-11-05",
          "2022-11-06",
          "2022-11-07",
          "2022-11-08",
          "2022-11-09",
          "2022-11-10",
          "2022-11-11",
          "2022-11-13",
          "2022-11-14",
          "2022-11-15",
          "2022-11-16",
          "2022-11-17",
          "2022-11-18",
          "2022-11-19",
          "2022-11-21",
          "2022-11-22",
          "2022-11-23",
          "2022-11-24",
          "2022-11-25",
          "2022-11-26",
          "2022-11-27",
          "2022-11-28",
          "2022-11-29",
          "2022-11-30",
          "2022-12-01",
          "2022-12-02",
          "2022-12-03",
          "2022-12-04",
          "2022-12-05",
          "2022-12-06",
          "2022-12-07",
          "2022-12-08",
          "2022-12-09",
          "2022-12-11",
          "2022-12-12",
          "2022-12-13",
          "2022-12-14",
          "2022-12-15",
          "2022-12-16",
          "2022-12-17",
          "2022-12-19",
          "2022-12-20",
          "2022-12-21",
          "2022-12-22",
          "2022-12-23",
          "2022-12-25",
          "2022-12-26",
          "2022-12-27",
          "2022-12-28",
          "2022-12-29",
          "2022-12-30",
          "2022-12-31",
          "2023-01-01",
          "2023-01-02",
          "2023-01-03",
          "2023-01-04",
          "2023-01-05",
          "2023-01-06",
          "2023-01-07",
          "2023-01-08",
          "2023-01-09",
          "2023-01-10",
          "2023-01-11",
          "2023-01-12",
          "2023-01-13",
          "2023-01-14",
          "2023-01-17",
          "2023-01-18",
          "2023-01-19",
          "2023-01-20",
          "2023-01-21",
          "2023-01-22",
          "2023-01-23",
          "2023-01-24",
          "2023-01-26",
          "2023-01-27",
          "2023-01-30",
          "2023-01-31",
          "2023-02-01",
          "2023-02-02",
          "2023-02-03",
          "2023-02-04",
          "2023-02-05",
          "2023-02-06",
          "2023-02-07",
          "2023-02-08",
          "2023-02-09",
          "2023-02-10",
          "2023-02-12",
          "2023-02-13",
          "2023-02-14",
          "2023-02-15",
          "2023-02-16",
          "2023-02-17",
          "2023-02-18",
          "2023-02-19",
          "2023-02-20",
          "2023-02-21",
          "2023-02-22",
          "2023-02-23",
          "2023-02-24",
          "2023-02-25",
          "2023-02-26",
          "2023-02-27",
          "2023-02-28",
          "2023-03-01",
          "2023-03-02",
          "2023-03-03",
          "2023-03-04",
          "2023-03-06",
          "2023-03-07",
          "2023-03-08",
          "2023-03-09",
          "2023-03-10",
          "2023-03-13",
          "2023-03-14",
          "2023-03-15",
          "2023-03-16",
          "2023-03-17",
          "2023-03-21",
          "2023-03-22",
          "2023-03-23",
          "2023-03-24",
          "2023-03-25",
          "2023-03-26",
          "2023-03-27",
          "2023-03-28",
          "2023-03-29",
          "2023-03-30",
          "2023-03-31",
          "2023-04-01",
          "2023-04-03",
          "2023-04-04",
          "2023-04-05",
          "2023-04-06",
          "2023-04-07",
          "2023-04-08",
          "2023-04-09",
          "2023-04-10",
          "2023-04-11",
          "2023-04-12",
          "2023-04-13",
          "2023-04-14",
          "2023-04-15",
          "2023-04-16",
          "2023-04-17",
          "2023-04-18",
          "2023-04-19",
          "2023-04-20",
          "2023-04-21",
          "2023-04-22",
          "2023-04-23",
          "2023-04-24",
          "2023-04-25",
          "2023-04-26",
          "2023-04-27",
          "2023-04-28",
          "2023-04-29",
          "2023-04-30",
          "2023-05-01",
          "2023-05-02",
          "2023-05-03",
          "2023-05-04",
          "2023-05-05",
          "2023-05-07",
          "2023-05-08",
          "2023-05-09",
          "2023-05-10",
          "2023-05-11",
          "2023-05-12",
          "2023-05-13",
          "2023-05-14",
          "2023-05-15",
          "2023-05-16",
          "2023-05-17",
          "2023-05-18",
          "2023-05-19",
          "2023-05-20",
          "2023-05-21",
          "2023-05-22",
          "2023-05-23",
          "2023-05-24",
          "2023-05-25",
          "2023-05-26",
          "2023-05-27",
          "2023-05-28",
          "2023-05-29",
          "2023-05-30",
          "2023-05-31",
          "2023-06-01",
          "2023-06-02",
          "2023-06-03",
          "2023-06-04",
          "2023-06-05",
          "2023-06-06",
          "2023-06-07",
          "2023-06-08",
          "2023-06-09",
          "2023-06-10",
          "2023-06-11",
          "2023-06-12",
          "2023-06-13",
          "2023-06-14",
          "2023-06-15",
          "2023-06-18",
          "2023-06-19",
          "2023-06-20",
          "2023-06-21",
          "2023-06-22",
          "2023-06-23",
          "2023-06-24",
          "2023-06-25",
          "2023-06-26",
          "2023-06-27",
          "2023-06-28",
          "2023-06-29",
          "2023-06-30",
          "2023-07-01",
          "2023-07-02",
          "2023-07-03",
          "2023-07-04",
          "2023-07-05",
          "2023-07-06",
          "2023-07-07",
          "2023-07-10",
          "2023-07-11",
          "2023-07-12",
          "2023-07-13",
          "2023-07-17",
          "2023-07-18",
          "2023-07-19",
          "2023-07-20",
          "2023-07-21",
          "2023-07-22",
          "2023-07-24",
          "2023-07-25",
          "2023-07-26",
          "2023-07-27",
          "2023-07-28",
          "2023-07-29",
          "2023-07-31",
          "2023-08-01",
          "2023-08-02",
          "2023-08-03",
          "2023-08-04",
          "2023-08-05",
          "2023-08-06",
          "2023-08-07",
          "2023-08-08",
          "2023-08-09",
          "2023-08-10",
          "2023-08-11",
          "2023-08-13",
          "2023-08-14",
          "2023-08-15",
          "2023-08-16",
          "2023-08-17",
          "2023-08-18",
          "2023-08-19",
          "2023-08-21",
          "2023-08-22",
          "2023-08-23",
          "2023-08-24",
          "2023-08-25",
          "2023-08-26",
          "2023-08-27",
          "2023-08-28",
          "2023-08-29",
          "2023-08-30",
          "2023-08-31",
          "2023-09-01",
          "2023-09-04",
          "2023-09-05",
          "2023-09-06",
          "2023-09-07",
          "2023-09-08",
          "2023-09-09",
          "2023-09-10",
          "2023-09-11",
          "2023-09-12",
          "2023-09-13",
          "2023-09-14",
          "2023-09-15",
          "2023-09-16",
          "2023-09-17",
          "2023-09-18",
          "2023-09-19",
          "2023-09-20",
          "2023-09-21",
          "2023-09-22",
          "2023-09-23",
          "2023-09-24",
          "2023-09-25",
          "2023-09-26",
          "2023-09-27",
          "2023-09-28",
          "2023-09-29",
          "2023-09-30",
          "2023-10-01",
          "2023-10-02",
          "2023-10-03",
          "2023-10-04",
          "2023-10-05",
          "2023-10-06",
          "2023-10-09",
          "2023-10-10",
          "2023-10-11",
          "2023-10-12",
          "2023-10-13",
          "2023-10-14",
          "2023-10-15",
          "2023-10-16",
          "2023-10-17",
          "2023-10-18",
          "2023-10-19",
          "2023-10-20",
          "2023-10-22",
          "2023-10-23",
          "2023-10-24",
          "2023-10-25",
          "2023-10-26",
          "2023-10-27",
          "2023-10-28",
          "2023-10-29",
          "2023-10-30",
          "2023-10-31",
          "2023-11-01",
          "2023-11-02",
          "2023-11-03",
          "2023-11-05",
          "2023-11-06",
          "2023-11-07",
          "2023-11-08",
          "2023-11-09",
          "2023-11-10",
          "2023-11-11",
          "2023-11-13",
          "2023-11-14",
          "2023-11-15",
          "2023-11-16",
          "2023-11-17",
          "2023-11-18",
          "2023-11-19",
          "2023-11-20",
          "2023-11-21",
          "2023-11-22",
          "2023-11-23",
          "2023-11-24",
          "2023-11-25",
          "2023-11-27",
          "2023-11-28",
          "2023-11-29",
          "2023-11-30",
          "2023-12-01",
          "2023-12-03",
          "2023-12-04",
          "2023-12-05",
          "2023-12-06",
          "2023-12-07",
          "2023-12-08",
          "2023-12-09",
          "2023-12-10",
          "2023-12-11",
          "2023-12-12",
          "2023-12-13",
          "2023-12-14",
          "2023-12-15",
          "2023-12-16",
          "2023-12-17",
          "2023-12-18",
          "2023-12-19",
          "2023-12-20",
          "2023-12-21",
          "2023-12-22",
          "2023-12-23",
          "2023-12-24",
          "2023-12-25",
          "2023-12-26",
          "2023-12-27",
          "2023-12-28",
          "2023-12-29",
          "2023-12-30",
          "2023-12-31",
          "2024-01-01",
          "2024-01-02",
          "2024-01-03",
          "2024-01-04",
          "2024-01-05",
          "2024-01-06",
          "2024-01-07",
          "2024-01-08",
          "2024-01-09",
          "2024-01-10",
          "2024-01-11",
          "2024-01-12",
          "2024-01-14",
          "2024-01-15",
          "2024-01-16",
          "2024-01-17",
          "2024-01-18",
          "2024-01-19",
          "2024-01-20",
          "2024-01-21",
          "2024-01-22",
          "2024-01-23",
          "2024-01-24",
          "2024-01-25",
          "2024-01-26",
          "2024-01-27",
          "2024-01-29",
          "2024-01-30",
          "2024-01-31",
          "2024-02-01",
          "2024-02-02",
          "2024-02-03",
          "2024-02-04",
          "2024-02-05",
          "2024-02-06",
          "2024-02-07",
          "2024-02-08",
          "2024-02-09",
          "2024-02-10",
          "2024-02-11",
          "2024-02-12",
          "2024-02-13",
          "2024-02-14",
          "2024-02-15",
          "2024-02-16",
          "2024-02-17",
          "2024-02-18",
          "2024-02-19",
          "2024-02-20",
          "2024-02-21",
          "2024-02-22",
          "2024-02-23",
          "2024-02-24",
          "2024-02-25",
          "2024-02-26",
          "2024-02-27",
          "2024-02-28",
          "2024-02-29",
          "2024-03-01",
          "2024-03-02",
          "2024-03-03",
          "2024-03-04",
          "2024-03-05",
          "2024-03-06",
          "2024-03-07",
          "2024-03-08",
          "2024-03-09",
          "2024-03-10",
          "2024-03-11",
          "2024-03-12",
          "2024-03-13",
          "2024-03-14",
          "2024-03-15"
         ],
         "y": [
          3,
          8,
          10,
          8,
          12,
          9,
          2,
          3,
          33,
          6,
          3,
          5,
          7,
          3,
          3,
          15,
          8,
          13,
          13,
          8,
          2,
          3,
          5,
          14,
          12,
          8,
          5,
          1,
          3,
          3,
          4,
          7,
          1,
          5,
          6,
          5,
          7,
          1,
          2,
          3,
          8,
          19,
          24,
          3,
          5,
          2,
          9,
          7,
          1,
          6,
          6,
          3,
          1,
          20,
          14,
          5,
          6,
          8,
          1,
          1,
          6,
          7,
          11,
          4,
          7,
          1,
          3,
          7,
          11,
          7,
          6,
          2,
          4,
          41,
          16,
          14,
          11,
          7,
          5,
          8,
          8,
          8,
          5,
          2,
          1,
          12,
          10,
          13,
          17,
          5,
          1,
          14,
          5,
          10,
          22,
          18,
          2,
          3,
          10,
          10,
          6,
          2,
          5,
          3,
          18,
          15,
          7,
          10,
          4,
          1,
          6,
          4,
          8,
          8,
          1,
          10,
          15,
          8,
          7,
          12,
          2,
          14,
          37,
          24,
          8,
          15,
          3,
          1,
          11,
          12,
          4,
          11,
          4,
          1,
          1,
          4,
          14,
          9,
          6,
          6,
          2,
          3,
          7,
          19,
          14,
          10,
          6,
          12,
          5,
          15,
          23,
          8,
          4,
          2,
          7,
          13,
          13,
          13,
          3,
          1,
          19,
          63,
          41,
          15,
          19,
          2,
          3,
          23,
          12,
          16,
          14,
          20,
          1,
          20,
          11,
          6,
          6,
          10,
          2,
          2,
          19,
          8,
          3,
          11,
          15,
          3,
          3,
          9,
          8,
          14,
          16,
          18,
          3,
          2,
          12,
          5,
          5,
          10,
          7,
          11,
          1,
          9,
          12,
          10,
          4,
          6,
          2,
          13,
          13,
          41,
          30,
          15,
          4,
          3,
          11,
          7,
          13,
          5,
          3,
          3,
          1,
          11,
          12,
          14,
          23,
          15,
          3,
          1,
          12,
          5,
          19,
          14,
          5,
          2,
          4,
          3,
          4,
          8,
          6,
          2,
          14,
          6,
          2,
          7,
          6,
          1,
          2,
          8,
          15,
          10,
          9,
          5,
          2,
          2,
          6,
          10,
          5,
          2,
          13,
          3,
          10,
          3,
          1,
          2,
          8,
          3,
          6,
          12,
          2,
          16,
          14,
          6,
          1,
          11,
          6,
          12,
          13,
          9,
          4,
          3,
          11,
          12,
          18,
          10,
          15,
          3,
          2,
          4,
          16,
          16,
          11,
          8,
          1,
          1,
          15,
          45,
          32,
          18,
          6,
          4,
          5,
          15,
          7,
          4,
          7,
          8,
          1,
          2,
          11,
          2,
          8,
          5,
          7,
          14,
          41,
          5,
          9,
          3,
          1,
          1,
          11,
          8,
          10,
          7,
          5,
          1,
          17,
          17,
          4,
          8,
          8,
          3,
          12,
          7,
          9,
          12,
          20,
          10,
          4,
          21,
          11,
          16,
          8,
          13,
          2,
          4,
          15,
          13,
          11,
          8,
          7,
          1,
          1,
          5,
          7,
          14,
          8,
          11,
          2,
          2,
          12,
          5,
          7,
          7,
          1,
          9,
          12,
          19,
          11,
          11,
          4,
          10,
          7,
          9,
          7,
          11,
          10,
          5,
          31,
          19,
          2,
          1,
          16,
          14,
          7,
          10,
          12,
          1,
          1,
          6,
          6,
          5,
          8,
          5,
          2,
          3,
          13,
          7,
          6,
          6,
          2,
          2,
          1,
          9,
          3,
          6,
          2,
          4,
          9,
          9,
          5,
          8,
          8,
          2,
          11,
          7,
          6,
          18,
          7,
          1,
          14,
          22,
          16,
          8,
          17,
          2,
          5,
          51,
          24,
          16,
          10,
          4,
          3,
          6,
          9,
          18,
          8,
          3,
          1,
          3,
          4,
          8,
          3,
          4,
          1,
          18,
          7,
          30,
          8,
          3,
          1,
          9,
          8,
          10,
          5,
          1,
          1,
          4,
          6,
          11,
          23,
          23,
          2,
          2,
          13,
          18,
          8,
          4,
          5,
          1,
          13,
          12,
          2,
          34,
          15,
          2,
          2,
          16,
          21,
          28,
          15,
          16,
          1,
          3,
          13,
          22,
          12,
          11,
          14,
          1,
          1,
          12,
          15,
          6,
          15,
          8,
          5,
          2,
          27,
          9,
          8,
          12,
          2,
          4,
          7,
          45,
          14,
          9,
          9,
          2,
          6,
          6,
          8,
          2,
          11,
          7,
          5,
          8,
          3,
          3,
          5,
          17,
          7,
          4,
          8,
          6,
          2,
          15,
          46,
          20,
          4,
          5,
          2,
          10,
          8,
          1,
          4,
          6,
          2,
          3,
          13,
          9,
          11,
          23,
          20,
          1,
          2,
          16,
          12,
          1,
          13,
          5,
          1,
          17,
          31,
          15,
          5,
          2,
          1,
          8,
          9,
          37,
          11,
          2,
          2,
          5,
          7,
          6,
          3,
          2,
          10,
          6,
          8,
          3,
          4,
          7,
          27,
          13,
          7,
          4,
          3,
          12,
          13,
          7,
          4,
          8,
          4,
          12,
          24,
          13,
          3,
          2,
          2,
          1,
          6,
          6,
          12,
          10,
          2,
          2,
          5,
          13,
          8,
          4,
          6,
          4,
          4,
          1,
          3,
          9,
          7,
          4,
          2,
          1,
          2,
          3,
          11,
          7,
          2,
          1,
          20,
          16,
          26,
          28,
          4,
          3,
          2,
          8,
          3,
          11,
          4,
          7,
          1,
          1,
          6,
          5,
          4,
          1,
          4,
          1,
          1,
          1,
          7,
          16,
          9,
          5,
          2,
          2,
          14,
          7,
          4,
          5,
          6,
          2,
          2,
          11,
          8,
          4,
          14,
          4,
          1,
          7,
          10,
          15,
          7,
          6,
          2,
          2,
          5,
          9,
          11,
          1,
          3,
          1,
          7,
          4,
          2,
          1,
          1,
          1,
          14,
          15,
          1,
          2,
          6,
          3,
          17,
          5,
          1,
          7,
          13,
          5,
          5,
          6,
          2,
          18,
          28,
          8,
          7,
          4,
          1,
          27,
          7,
          33,
          25,
          23,
          3,
          5,
          22,
          4,
          4,
          6,
          6,
          2,
          2,
          4,
          7,
          6,
          5,
          1,
          2,
          2,
          14,
          7,
          11,
          4,
          18,
          1,
          5,
          4,
          9,
          3,
          9,
          1,
          1,
          6,
          9,
          4,
          7,
          1,
          18,
          10,
          5,
          8,
          2,
          1,
          1,
          7,
          4,
          8,
          6,
          1,
          1,
          9,
          5,
          6,
          10,
          1,
          1,
          5,
          2,
          1,
          2,
          5,
          6,
          6,
          4,
          7,
          2,
          1,
          5,
          11,
          11,
          9,
          2,
          3,
          7,
          10,
          7,
          4,
          5,
          6,
          27,
          19,
          6,
          7,
          2,
          6,
          6,
          7,
          4,
          1,
          1,
          6,
          2,
          1,
          5,
          1,
          1,
          2,
          5,
          3,
          8,
          15,
          1,
          4,
          7,
          8,
          8,
          20,
          1,
          15,
          12,
          21,
          26,
          19,
          3,
          3,
          1,
          20,
          8,
          7,
          49,
          4,
          6,
          17,
          50,
          13,
          6,
          6,
          2,
          1,
          6,
          6,
          16,
          17,
          5,
          1,
          1,
          6,
          4,
          2,
          3,
          6,
          1,
          6,
          3,
          4,
          6,
          12,
          2,
          2,
          9,
          9,
          16,
          9,
          14,
          2,
          2,
          24,
          5,
          3,
          1,
          5,
          2,
          9,
          3,
          6,
          17,
          18,
          1,
          1,
          3,
          10,
          5,
          4,
          3,
          1,
          4,
          7,
          19,
          1,
          3,
          2,
          2,
          3,
          5,
          14,
          19,
          7,
          3,
          4,
          19,
          6,
          2,
          11,
          1,
          2,
          3,
          6,
          4,
          12,
          5,
          2,
          2,
          6,
          14,
          16,
          10,
          5,
          4,
          3,
          13,
          10,
          7,
          12,
          4,
          1,
          3,
          4,
          7,
          8,
          6,
          1,
          1,
          1,
          11,
          15,
          7,
          5,
          5,
          1,
          34,
          14,
          2,
          2,
          2,
          2,
          2,
          11,
          8,
          7,
          3,
          4,
          2,
          1,
          2,
          9,
          5,
          5,
          2,
          1,
          8,
          11,
          12,
          36,
          41,
          1,
          9,
          7,
          6,
          4,
          11,
          1,
          4,
          14,
          3,
          5,
          4,
          2,
          1,
          5,
          4,
          4,
          8,
          9,
          2,
          4,
          3,
          2,
          2,
          4,
          1,
          1,
          10,
          13,
          13,
          7,
          11,
          6,
          33,
          12,
          6,
          1,
          7,
          2,
          6,
          4,
          3,
          2,
          11,
          8,
          10,
          13,
          7,
          2,
          1,
          17,
          9,
          11,
          15,
          8,
          1,
          6,
          10,
          2,
          2,
          3,
          1,
          13,
          11,
          6,
          6,
          2,
          1,
          7,
          5,
          10,
          8,
          5,
          2,
          2,
          9,
          6,
          12,
          25,
          19,
          3,
          17,
          14,
          8,
          6,
          3,
          1,
          1,
          5,
          14,
          6,
          11,
          6,
          1,
          1,
          6,
          14,
          4,
          11,
          9,
          6,
          9,
          10,
          8,
          14,
          3,
          2,
          2,
          1,
          10,
          5,
          3,
          6,
          1,
          2,
          40,
          22,
          7,
          15,
          5,
          4,
          1,
          8,
          13,
          14,
          8,
          3,
          1,
          13,
          2,
          3,
          5,
          7,
          8,
          1,
          5,
          7,
          4,
          9,
          7,
          2,
          1,
          1,
          2,
          5,
          4,
          3,
          4,
          10,
          6,
          7,
          3,
          17,
          17,
          8,
          5,
          4,
          1,
          5,
          5,
          5,
          23,
          20,
          2,
          3,
          7,
          10,
          3,
          3,
          3,
          2,
          3,
          3,
          4,
          5,
          3,
          7,
          1,
          9,
          11,
          16,
          12,
          10,
          1,
          11,
          10,
          11,
          6,
          8,
          1,
          1,
          9,
          3,
          5,
          3,
          10,
          2,
          2,
          22,
          31,
          27,
          13,
          2,
          1,
          10,
          8,
          9,
          8,
          6,
          1,
          5,
          16,
          8,
          6,
          11,
          1,
          1,
          12,
          7,
          33,
          18,
          10,
          1,
          3,
          8,
          12,
          12,
          8,
          1,
          1,
          3,
          4,
          8,
          11,
          2,
          10,
          1,
          6,
          19,
          4,
          3,
          11,
          11,
          19,
          16,
          24,
          15,
          2,
          8,
          2,
          4,
          12,
          4,
          1,
          4,
          21,
          1,
          5,
          4,
          3,
          1,
          9,
          5,
          15,
          3,
          4,
          1,
          3,
          3,
          7,
          2,
          6,
          2,
          2,
          36,
          18,
          11,
          15,
          4,
          4,
          4,
          8,
          20,
          22,
          6,
          2,
          2,
          10,
          7,
          8,
          4,
          7,
          2,
          6,
          2,
          5,
          5,
          6,
          1,
          2,
          6,
          5,
          7,
          1,
          1,
          1,
          1,
          14,
          14,
          11,
          5,
          1,
          2,
          9,
          5,
          16,
          9,
          11,
          1,
          17,
          15,
          6,
          6,
          1,
          1,
          12,
          4,
          7,
          5,
          10,
          8,
          10,
          21,
          24,
          1,
          1,
          6,
          6,
          3,
          5,
          3,
          2,
          5,
          4,
          19,
          6,
          1,
          1,
          1,
          1,
          4,
          3,
          3,
          3,
          1,
          1,
          6,
          7,
          5,
          8,
          11,
          2,
          9,
          5,
          6,
          8,
          9,
          4,
          7,
          6,
          1,
          2,
          4,
          4,
          10,
          7,
          5,
          1,
          9,
          18,
          15,
          7,
          5,
          1,
          12,
          10,
          14,
          5,
          2,
          1,
          2,
          13,
          9,
          7,
          11,
          4,
          4,
          1,
          22,
          20,
          6,
          7,
          6,
          3,
          2,
          11,
          10,
          8,
          2,
          6,
          2,
          2,
          7,
          5,
          10,
          28,
          22,
          1,
          7,
          11,
          6,
          6,
          3,
          2,
          1,
          3,
          14,
          1,
          8,
          9,
          2,
          1,
          9,
          9,
          3,
          1,
          1,
          2,
          1,
          2,
          4,
          4,
          6,
          11,
          1,
          5,
          56,
          51,
          16,
          11,
          12,
          2,
          3,
          8,
          11,
          7,
          4,
          2,
          1,
          2,
          2,
          7,
          6,
          1,
          1,
          6,
          3,
          12,
          3,
          28,
          6,
          4,
          11,
          4,
          2,
          4,
          4,
          4,
          9,
          4,
          3,
          5,
          5,
          11,
          6,
          2,
          1,
          7,
          6,
          2,
          4,
          5,
          2,
          11,
          10,
          7,
          25,
          23,
          2,
          3,
          7,
          5,
          11,
          2,
          4,
          1,
          4,
          4,
          2,
          4,
          8,
          1,
          4,
          2,
          4,
          6,
          5,
          1,
          2,
          9,
          10,
          9,
          8,
          3,
          1,
          12,
          13,
          24,
          26,
          6,
          5,
          11,
          55,
          42,
          11,
          20,
          2,
          1,
          11,
          5,
          8,
          1,
          13,
          4,
          3,
          2,
          8,
          4,
          7,
          9,
          4,
          3,
          10,
          5,
          19,
          4,
          1,
          5,
          4,
          2,
          3,
          4,
          1,
          1,
          6,
          9,
          5,
          4,
          4,
          2,
          9,
          16,
          18,
          5,
          4,
          1,
          1,
          12,
          21,
          13,
          23,
          21,
          2,
          4,
          6,
          5,
          9,
          5,
          1,
          2,
          4,
          6,
          3,
          6,
          3,
          1,
          2,
          1,
          2,
          3,
          9,
          1,
          3,
          3,
          4,
          4,
          3,
          3,
          3,
          5,
          7,
          4,
          8,
          1,
          3,
          6,
          5,
          10,
          7,
          5,
          1,
          1,
          25,
          9,
          12,
          17,
          7,
          2,
          1,
          1,
          18,
          21,
          9,
          5,
          1,
          2,
          1,
          14,
          15,
          17,
          7,
          3,
          2,
          26,
          5,
          6,
          9,
          5,
          3,
          16,
          20,
          26,
          15,
          18,
          2,
          2,
          9,
          4,
          14,
          20,
          9,
          1,
          4,
          10,
          7,
          21,
          25,
          3,
          2,
          6,
          3,
          11,
          3,
          7,
          2,
          1,
          3,
          3,
          3,
          7,
          7,
          4,
          4,
          7,
          6,
          11,
          3,
          1,
          1,
          2,
          6,
          16,
          17,
          6,
          7,
          3,
          2,
          28,
          22,
          12,
          14,
          16,
          6,
          2,
          7,
          10,
          13,
          7,
          12
         ]
        }
       ],
       "layout": {
        "template": {
         "data": {
          "bar": [
           {
            "error_x": {
             "color": "#2a3f5f"
            },
            "error_y": {
             "color": "#2a3f5f"
            },
            "marker": {
             "line": {
              "color": "#E5ECF6",
              "width": 0.5
             },
             "pattern": {
              "fillmode": "overlay",
              "size": 10,
              "solidity": 0.2
             }
            },
            "type": "bar"
           }
          ],
          "barpolar": [
           {
            "marker": {
             "line": {
              "color": "#E5ECF6",
              "width": 0.5
             },
             "pattern": {
              "fillmode": "overlay",
              "size": 10,
              "solidity": 0.2
             }
            },
            "type": "barpolar"
           }
          ],
          "carpet": [
           {
            "aaxis": {
             "endlinecolor": "#2a3f5f",
             "gridcolor": "white",
             "linecolor": "white",
             "minorgridcolor": "white",
             "startlinecolor": "#2a3f5f"
            },
            "baxis": {
             "endlinecolor": "#2a3f5f",
             "gridcolor": "white",
             "linecolor": "white",
             "minorgridcolor": "white",
             "startlinecolor": "#2a3f5f"
            },
            "type": "carpet"
           }
          ],
          "choropleth": [
           {
            "colorbar": {
             "outlinewidth": 0,
             "ticks": ""
            },
            "type": "choropleth"
           }
          ],
          "contour": [
           {
            "colorbar": {
             "outlinewidth": 0,
             "ticks": ""
            },
            "colorscale": [
             [
              0,
              "#0d0887"
             ],
             [
              0.1111111111111111,
              "#46039f"
             ],
             [
              0.2222222222222222,
              "#7201a8"
             ],
             [
              0.3333333333333333,
              "#9c179e"
             ],
             [
              0.4444444444444444,
              "#bd3786"
             ],
             [
              0.5555555555555556,
              "#d8576b"
             ],
             [
              0.6666666666666666,
              "#ed7953"
             ],
             [
              0.7777777777777778,
              "#fb9f3a"
             ],
             [
              0.8888888888888888,
              "#fdca26"
             ],
             [
              1,
              "#f0f921"
             ]
            ],
            "type": "contour"
           }
          ],
          "contourcarpet": [
           {
            "colorbar": {
             "outlinewidth": 0,
             "ticks": ""
            },
            "type": "contourcarpet"
           }
          ],
          "heatmap": [
           {
            "colorbar": {
             "outlinewidth": 0,
             "ticks": ""
            },
            "colorscale": [
             [
              0,
              "#0d0887"
             ],
             [
              0.1111111111111111,
              "#46039f"
             ],
             [
              0.2222222222222222,
              "#7201a8"
             ],
             [
              0.3333333333333333,
              "#9c179e"
             ],
             [
              0.4444444444444444,
              "#bd3786"
             ],
             [
              0.5555555555555556,
              "#d8576b"
             ],
             [
              0.6666666666666666,
              "#ed7953"
             ],
             [
              0.7777777777777778,
              "#fb9f3a"
             ],
             [
              0.8888888888888888,
              "#fdca26"
             ],
             [
              1,
              "#f0f921"
             ]
            ],
            "type": "heatmap"
           }
          ],
          "heatmapgl": [
           {
            "colorbar": {
             "outlinewidth": 0,
             "ticks": ""
            },
            "colorscale": [
             [
              0,
              "#0d0887"
             ],
             [
              0.1111111111111111,
              "#46039f"
             ],
             [
              0.2222222222222222,
              "#7201a8"
             ],
             [
              0.3333333333333333,
              "#9c179e"
             ],
             [
              0.4444444444444444,
              "#bd3786"
             ],
             [
              0.5555555555555556,
              "#d8576b"
             ],
             [
              0.6666666666666666,
              "#ed7953"
             ],
             [
              0.7777777777777778,
              "#fb9f3a"
             ],
             [
              0.8888888888888888,
              "#fdca26"
             ],
             [
              1,
              "#f0f921"
             ]
            ],
            "type": "heatmapgl"
           }
          ],
          "histogram": [
           {
            "marker": {
             "pattern": {
              "fillmode": "overlay",
              "size": 10,
              "solidity": 0.2
             }
            },
            "type": "histogram"
           }
          ],
          "histogram2d": [
           {
            "colorbar": {
             "outlinewidth": 0,
             "ticks": ""
            },
            "colorscale": [
             [
              0,
              "#0d0887"
             ],
             [
              0.1111111111111111,
              "#46039f"
             ],
             [
              0.2222222222222222,
              "#7201a8"
             ],
             [
              0.3333333333333333,
              "#9c179e"
             ],
             [
              0.4444444444444444,
              "#bd3786"
             ],
             [
              0.5555555555555556,
              "#d8576b"
             ],
             [
              0.6666666666666666,
              "#ed7953"
             ],
             [
              0.7777777777777778,
              "#fb9f3a"
             ],
             [
              0.8888888888888888,
              "#fdca26"
             ],
             [
              1,
              "#f0f921"
             ]
            ],
            "type": "histogram2d"
           }
          ],
          "histogram2dcontour": [
           {
            "colorbar": {
             "outlinewidth": 0,
             "ticks": ""
            },
            "colorscale": [
             [
              0,
              "#0d0887"
             ],
             [
              0.1111111111111111,
              "#46039f"
             ],
             [
              0.2222222222222222,
              "#7201a8"
             ],
             [
              0.3333333333333333,
              "#9c179e"
             ],
             [
              0.4444444444444444,
              "#bd3786"
             ],
             [
              0.5555555555555556,
              "#d8576b"
             ],
             [
              0.6666666666666666,
              "#ed7953"
             ],
             [
              0.7777777777777778,
              "#fb9f3a"
             ],
             [
              0.8888888888888888,
              "#fdca26"
             ],
             [
              1,
              "#f0f921"
             ]
            ],
            "type": "histogram2dcontour"
           }
          ],
          "mesh3d": [
           {
            "colorbar": {
             "outlinewidth": 0,
             "ticks": ""
            },
            "type": "mesh3d"
           }
          ],
          "parcoords": [
           {
            "line": {
             "colorbar": {
              "outlinewidth": 0,
              "ticks": ""
             }
            },
            "type": "parcoords"
           }
          ],
          "pie": [
           {
            "automargin": true,
            "type": "pie"
           }
          ],
          "scatter": [
           {
            "fillpattern": {
             "fillmode": "overlay",
             "size": 10,
             "solidity": 0.2
            },
            "type": "scatter"
           }
          ],
          "scatter3d": [
           {
            "line": {
             "colorbar": {
              "outlinewidth": 0,
              "ticks": ""
             }
            },
            "marker": {
             "colorbar": {
              "outlinewidth": 0,
              "ticks": ""
             }
            },
            "type": "scatter3d"
           }
          ],
          "scattercarpet": [
           {
            "marker": {
             "colorbar": {
              "outlinewidth": 0,
              "ticks": ""
             }
            },
            "type": "scattercarpet"
           }
          ],
          "scattergeo": [
           {
            "marker": {
             "colorbar": {
              "outlinewidth": 0,
              "ticks": ""
             }
            },
            "type": "scattergeo"
           }
          ],
          "scattergl": [
           {
            "marker": {
             "colorbar": {
              "outlinewidth": 0,
              "ticks": ""
             }
            },
            "type": "scattergl"
           }
          ],
          "scattermapbox": [
           {
            "marker": {
             "colorbar": {
              "outlinewidth": 0,
              "ticks": ""
             }
            },
            "type": "scattermapbox"
           }
          ],
          "scatterpolar": [
           {
            "marker": {
             "colorbar": {
              "outlinewidth": 0,
              "ticks": ""
             }
            },
            "type": "scatterpolar"
           }
          ],
          "scatterpolargl": [
           {
            "marker": {
             "colorbar": {
              "outlinewidth": 0,
              "ticks": ""
             }
            },
            "type": "scatterpolargl"
           }
          ],
          "scatterternary": [
           {
            "marker": {
             "colorbar": {
              "outlinewidth": 0,
              "ticks": ""
             }
            },
            "type": "scatterternary"
           }
          ],
          "surface": [
           {
            "colorbar": {
             "outlinewidth": 0,
             "ticks": ""
            },
            "colorscale": [
             [
              0,
              "#0d0887"
             ],
             [
              0.1111111111111111,
              "#46039f"
             ],
             [
              0.2222222222222222,
              "#7201a8"
             ],
             [
              0.3333333333333333,
              "#9c179e"
             ],
             [
              0.4444444444444444,
              "#bd3786"
             ],
             [
              0.5555555555555556,
              "#d8576b"
             ],
             [
              0.6666666666666666,
              "#ed7953"
             ],
             [
              0.7777777777777778,
              "#fb9f3a"
             ],
             [
              0.8888888888888888,
              "#fdca26"
             ],
             [
              1,
              "#f0f921"
             ]
            ],
            "type": "surface"
           }
          ],
          "table": [
           {
            "cells": {
             "fill": {
              "color": "#EBF0F8"
             },
             "line": {
              "color": "white"
             }
            },
            "header": {
             "fill": {
              "color": "#C8D4E3"
             },
             "line": {
              "color": "white"
             }
            },
            "type": "table"
           }
          ]
         },
         "layout": {
          "annotationdefaults": {
           "arrowcolor": "#2a3f5f",
           "arrowhead": 0,
           "arrowwidth": 1
          },
          "autotypenumbers": "strict",
          "coloraxis": {
           "colorbar": {
            "outlinewidth": 0,
            "ticks": ""
           }
          },
          "colorscale": {
           "diverging": [
            [
             0,
             "#8e0152"
            ],
            [
             0.1,
             "#c51b7d"
            ],
            [
             0.2,
             "#de77ae"
            ],
            [
             0.3,
             "#f1b6da"
            ],
            [
             0.4,
             "#fde0ef"
            ],
            [
             0.5,
             "#f7f7f7"
            ],
            [
             0.6,
             "#e6f5d0"
            ],
            [
             0.7,
             "#b8e186"
            ],
            [
             0.8,
             "#7fbc41"
            ],
            [
             0.9,
             "#4d9221"
            ],
            [
             1,
             "#276419"
            ]
           ],
           "sequential": [
            [
             0,
             "#0d0887"
            ],
            [
             0.1111111111111111,
             "#46039f"
            ],
            [
             0.2222222222222222,
             "#7201a8"
            ],
            [
             0.3333333333333333,
             "#9c179e"
            ],
            [
             0.4444444444444444,
             "#bd3786"
            ],
            [
             0.5555555555555556,
             "#d8576b"
            ],
            [
             0.6666666666666666,
             "#ed7953"
            ],
            [
             0.7777777777777778,
             "#fb9f3a"
            ],
            [
             0.8888888888888888,
             "#fdca26"
            ],
            [
             1,
             "#f0f921"
            ]
           ],
           "sequentialminus": [
            [
             0,
             "#0d0887"
            ],
            [
             0.1111111111111111,
             "#46039f"
            ],
            [
             0.2222222222222222,
             "#7201a8"
            ],
            [
             0.3333333333333333,
             "#9c179e"
            ],
            [
             0.4444444444444444,
             "#bd3786"
            ],
            [
             0.5555555555555556,
             "#d8576b"
            ],
            [
             0.6666666666666666,
             "#ed7953"
            ],
            [
             0.7777777777777778,
             "#fb9f3a"
            ],
            [
             0.8888888888888888,
             "#fdca26"
            ],
            [
             1,
             "#f0f921"
            ]
           ]
          },
          "colorway": [
           "#636efa",
           "#EF553B",
           "#00cc96",
           "#ab63fa",
           "#FFA15A",
           "#19d3f3",
           "#FF6692",
           "#B6E880",
           "#FF97FF",
           "#FECB52"
          ],
          "font": {
           "color": "#2a3f5f"
          },
          "geo": {
           "bgcolor": "white",
           "lakecolor": "white",
           "landcolor": "#E5ECF6",
           "showlakes": true,
           "showland": true,
           "subunitcolor": "white"
          },
          "hoverlabel": {
           "align": "left"
          },
          "hovermode": "closest",
          "mapbox": {
           "style": "light"
          },
          "paper_bgcolor": "white",
          "plot_bgcolor": "#E5ECF6",
          "polar": {
           "angularaxis": {
            "gridcolor": "white",
            "linecolor": "white",
            "ticks": ""
           },
           "bgcolor": "#E5ECF6",
           "radialaxis": {
            "gridcolor": "white",
            "linecolor": "white",
            "ticks": ""
           }
          },
          "scene": {
           "xaxis": {
            "backgroundcolor": "#E5ECF6",
            "gridcolor": "white",
            "gridwidth": 2,
            "linecolor": "white",
            "showbackground": true,
            "ticks": "",
            "zerolinecolor": "white"
           },
           "yaxis": {
            "backgroundcolor": "#E5ECF6",
            "gridcolor": "white",
            "gridwidth": 2,
            "linecolor": "white",
            "showbackground": true,
            "ticks": "",
            "zerolinecolor": "white"
           },
           "zaxis": {
            "backgroundcolor": "#E5ECF6",
            "gridcolor": "white",
            "gridwidth": 2,
            "linecolor": "white",
            "showbackground": true,
            "ticks": "",
            "zerolinecolor": "white"
           }
          },
          "shapedefaults": {
           "line": {
            "color": "#2a3f5f"
           }
          },
          "ternary": {
           "aaxis": {
            "gridcolor": "white",
            "linecolor": "white",
            "ticks": ""
           },
           "baxis": {
            "gridcolor": "white",
            "linecolor": "white",
            "ticks": ""
           },
           "bgcolor": "#E5ECF6",
           "caxis": {
            "gridcolor": "white",
            "linecolor": "white",
            "ticks": ""
           }
          },
          "title": {
           "x": 0.05
          },
          "xaxis": {
           "automargin": true,
           "gridcolor": "white",
           "linecolor": "white",
           "ticks": "",
           "title": {
            "standoff": 15
           },
           "zerolinecolor": "white",
           "zerolinewidth": 2
          },
          "yaxis": {
           "automargin": true,
           "gridcolor": "white",
           "linecolor": "white",
           "ticks": "",
           "title": {
            "standoff": 15
           },
           "zerolinecolor": "white",
           "zerolinewidth": 2
          }
         }
        }
       }
      }
     },
     "metadata": {},
     "output_type": "display_data"
    }
   ],
   "source": [
    "import plotly.graph_objects as go\n",
    "\n",
    "fig = go.Figure([go.Scatter(x=Apl_counts['Date'], y=Apl_counts['Article_Count'])])\n",
    "fig.show()\n"
   ]
  },
  {
   "cell_type": "markdown",
   "metadata": {},
   "source": [
    "It seems there are lots of days where the article count is really low. Let's see how many days there are with 0 articles about Apple."
   ]
  },
  {
   "cell_type": "code",
   "execution_count": 56,
   "metadata": {},
   "outputs": [
    {
     "data": {
      "text/plain": [
       "Date             0\n",
       "Article_Count    0\n",
       "month            0\n",
       "dtype: int64"
      ]
     },
     "execution_count": 56,
     "metadata": {},
     "output_type": "execute_result"
    }
   ],
   "source": [
    "#number of days with 0 articles\n",
    "Apl_counts.loc[Apl_counts[\"Article_Count\"] == 0].count()"
   ]
  },
  {
   "cell_type": "markdown",
   "metadata": {},
   "source": [
    "Apple really generates regular buzz, huh? Either that or, maybe there are just obligatory daily stock movement reports that we should perhaps(?) filter out. (I suppose we'll get more context when we explore other tickers)"
   ]
  },
  {
   "cell_type": "markdown",
   "metadata": {},
   "source": [
    "Let's see what the minimum article count for a day is."
   ]
  },
  {
   "cell_type": "code",
   "execution_count": 57,
   "metadata": {},
   "outputs": [
    {
     "data": {
      "text/plain": [
       "1"
      ]
     },
     "execution_count": 57,
     "metadata": {},
     "output_type": "execute_result"
    }
   ],
   "source": [
    "Apl_counts[\"Article_Count\"].min()"
   ]
  },
  {
   "cell_type": "markdown",
   "metadata": {},
   "source": [
    "Alright, then let's see how many days we have only one article."
   ]
  },
  {
   "cell_type": "code",
   "execution_count": 58,
   "metadata": {},
   "outputs": [
    {
     "data": {
      "text/plain": [
       "Date             206\n",
       "Article_Count    206\n",
       "month            206\n",
       "dtype: int64"
      ]
     },
     "execution_count": 58,
     "metadata": {},
     "output_type": "execute_result"
    }
   ],
   "source": [
    "Apl_counts.loc[Apl_counts[\"Article_Count\"] == 1].count()"
   ]
  },
  {
   "cell_type": "code",
   "execution_count": 89,
   "metadata": {},
   "outputs": [],
   "source": [
    "#double checking the total article count\n",
    "#Apl_counts_month[\"Article_Count\"].sum()"
   ]
  },
  {
   "cell_type": "markdown",
   "metadata": {},
   "source": [
    "Let's look at a date with just one article"
   ]
  },
  {
   "cell_type": "code",
   "execution_count": 81,
   "metadata": {},
   "outputs": [
    {
     "data": {
      "text/html": [
       "<div>\n",
       "<style scoped>\n",
       "    .dataframe tbody tr th:only-of-type {\n",
       "        vertical-align: middle;\n",
       "    }\n",
       "\n",
       "    .dataframe tbody tr th {\n",
       "        vertical-align: top;\n",
       "    }\n",
       "\n",
       "    .dataframe thead th {\n",
       "        text-align: right;\n",
       "    }\n",
       "</style>\n",
       "<table border=\"1\" class=\"dataframe\">\n",
       "  <thead>\n",
       "    <tr style=\"text-align: right;\">\n",
       "      <th></th>\n",
       "      <th>index</th>\n",
       "      <th>Unnamed: 0</th>\n",
       "      <th>Date &amp; Time</th>\n",
       "      <th>Date</th>\n",
       "      <th>Time</th>\n",
       "      <th>Ticker</th>\n",
       "      <th>Sector</th>\n",
       "      <th>Source</th>\n",
       "      <th>sentiment_neg</th>\n",
       "      <th>sentiment_neu</th>\n",
       "      <th>sentiment_pos</th>\n",
       "      <th>sentiment_tot</th>\n",
       "      <th>Headline</th>\n",
       "      <th>Text</th>\n",
       "      <th>URL</th>\n",
       "    </tr>\n",
       "  </thead>\n",
       "  <tbody>\n",
       "    <tr>\n",
       "      <th>4363</th>\n",
       "      <td>17593</td>\n",
       "      <td>17593</td>\n",
       "      <td>2020-08-29 15:31:54+00:00</td>\n",
       "      <td>2020-08-29</td>\n",
       "      <td>15:31:54</td>\n",
       "      <td>AAPL</td>\n",
       "      <td>Technology</td>\n",
       "      <td>Zacks Investment Research</td>\n",
       "      <td>0.0</td>\n",
       "      <td>1.0</td>\n",
       "      <td>0.0</td>\n",
       "      <td>0.0</td>\n",
       "      <td>Why Is Apple (AAPL) Up 29.8% Since Last Earnin...</td>\n",
       "      <td>Apple (AAPL) reported earnings 30 days ago. Wh...</td>\n",
       "      <td>https://www.zacks.com/stock/news/1049587/why-i...</td>\n",
       "    </tr>\n",
       "  </tbody>\n",
       "</table>\n",
       "</div>"
      ],
      "text/plain": [
       "      index  Unnamed: 0                Date & Time        Date      Time  \\\n",
       "4363  17593       17593  2020-08-29 15:31:54+00:00  2020-08-29  15:31:54   \n",
       "\n",
       "     Ticker      Sector                     Source  sentiment_neg  \\\n",
       "4363   AAPL  Technology  Zacks Investment Research            0.0   \n",
       "\n",
       "      sentiment_neu  sentiment_pos  sentiment_tot  \\\n",
       "4363            1.0            0.0            0.0   \n",
       "\n",
       "                                               Headline  \\\n",
       "4363  Why Is Apple (AAPL) Up 29.8% Since Last Earnin...   \n",
       "\n",
       "                                                   Text  \\\n",
       "4363  Apple (AAPL) reported earnings 30 days ago. Wh...   \n",
       "\n",
       "                                                    URL  \n",
       "4363  https://www.zacks.com/stock/news/1049587/why-i...  "
      ]
     },
     "execution_count": 81,
     "metadata": {},
     "output_type": "execute_result"
    }
   ],
   "source": [
    "Apl.loc[Apl[\"Date\"] == \"2020-08-29\"]"
   ]
  },
  {
   "cell_type": "markdown",
   "metadata": {},
   "source": [
    "As presumed, it is a report on stock movement (and interestingly it has a neutral sentiment score). Let's look at another one."
   ]
  },
  {
   "cell_type": "code",
   "execution_count": 82,
   "metadata": {},
   "outputs": [
    {
     "data": {
      "text/html": [
       "<div>\n",
       "<style scoped>\n",
       "    .dataframe tbody tr th:only-of-type {\n",
       "        vertical-align: middle;\n",
       "    }\n",
       "\n",
       "    .dataframe tbody tr th {\n",
       "        vertical-align: top;\n",
       "    }\n",
       "\n",
       "    .dataframe thead th {\n",
       "        text-align: right;\n",
       "    }\n",
       "</style>\n",
       "<table border=\"1\" class=\"dataframe\">\n",
       "  <thead>\n",
       "    <tr style=\"text-align: right;\">\n",
       "      <th></th>\n",
       "      <th>index</th>\n",
       "      <th>Unnamed: 0</th>\n",
       "      <th>Date &amp; Time</th>\n",
       "      <th>Date</th>\n",
       "      <th>Time</th>\n",
       "      <th>Ticker</th>\n",
       "      <th>Sector</th>\n",
       "      <th>Source</th>\n",
       "      <th>sentiment_neg</th>\n",
       "      <th>sentiment_neu</th>\n",
       "      <th>sentiment_pos</th>\n",
       "      <th>sentiment_tot</th>\n",
       "      <th>Headline</th>\n",
       "      <th>Text</th>\n",
       "      <th>URL</th>\n",
       "    </tr>\n",
       "  </thead>\n",
       "  <tbody>\n",
       "    <tr>\n",
       "      <th>4794</th>\n",
       "      <td>19692</td>\n",
       "      <td>19692</td>\n",
       "      <td>2020-10-21 17:21:25+00:00</td>\n",
       "      <td>2020-10-21</td>\n",
       "      <td>17:21:25</td>\n",
       "      <td>AAPL</td>\n",
       "      <td>Technology</td>\n",
       "      <td>InvestorPlace</td>\n",
       "      <td>0.057</td>\n",
       "      <td>0.775</td>\n",
       "      <td>0.168</td>\n",
       "      <td>0.7845</td>\n",
       "      <td>Greater Than Expected iPhone 12 Demand Makes A...</td>\n",
       "      <td>AAPL stock could take off again, if preliminar...</td>\n",
       "      <td>https://investorplace.com/2020/10/greater-than...</td>\n",
       "    </tr>\n",
       "  </tbody>\n",
       "</table>\n",
       "</div>"
      ],
      "text/plain": [
       "      index  Unnamed: 0                Date & Time        Date      Time  \\\n",
       "4794  19692       19692  2020-10-21 17:21:25+00:00  2020-10-21  17:21:25   \n",
       "\n",
       "     Ticker      Sector         Source  sentiment_neg  sentiment_neu  \\\n",
       "4794   AAPL  Technology  InvestorPlace          0.057          0.775   \n",
       "\n",
       "      sentiment_pos  sentiment_tot  \\\n",
       "4794          0.168         0.7845   \n",
       "\n",
       "                                               Headline  \\\n",
       "4794  Greater Than Expected iPhone 12 Demand Makes A...   \n",
       "\n",
       "                                                   Text  \\\n",
       "4794  AAPL stock could take off again, if preliminar...   \n",
       "\n",
       "                                                    URL  \n",
       "4794  https://investorplace.com/2020/10/greater-than...  "
      ]
     },
     "execution_count": 82,
     "metadata": {},
     "output_type": "execute_result"
    }
   ],
   "source": [
    "Apl.loc[Apl[\"Date\"] == \"2020-10-21\"]"
   ]
  },
  {
   "cell_type": "code",
   "execution_count": 92,
   "metadata": {},
   "outputs": [
    {
     "name": "stdout",
     "output_type": "stream",
     "text": [
      "4794    Greater Than Expected iPhone 12 Demand Makes A...\n",
      "Name: Headline, dtype: object\n"
     ]
    }
   ],
   "source": [
    "#not sure how to print the entire headline\n",
    "df = Apl.loc[Apl[\"Date\"] == \"2020-10-21\"]\n",
    "print(df.get(\"Headline\"))"
   ]
  },
  {
   "cell_type": "markdown",
   "metadata": {},
   "source": [
    "Huh, that one is reporting on stock movement. But it contains additional commentary on the products as well. So if we were planning on throwing out articles reporting simply on stock movement, this situation is quite tangled. This is very much something we should keep. Interestingly enough, unlike the previous article, this one does not display neutral sentiment."
   ]
  },
  {
   "cell_type": "markdown",
   "metadata": {},
   "source": [
    "Maybe we should look at a few others."
   ]
  },
  {
   "cell_type": "code",
   "execution_count": 83,
   "metadata": {},
   "outputs": [
    {
     "data": {
      "text/html": [
       "<div>\n",
       "<style scoped>\n",
       "    .dataframe tbody tr th:only-of-type {\n",
       "        vertical-align: middle;\n",
       "    }\n",
       "\n",
       "    .dataframe tbody tr th {\n",
       "        vertical-align: top;\n",
       "    }\n",
       "\n",
       "    .dataframe thead th {\n",
       "        text-align: right;\n",
       "    }\n",
       "</style>\n",
       "<table border=\"1\" class=\"dataframe\">\n",
       "  <thead>\n",
       "    <tr style=\"text-align: right;\">\n",
       "      <th></th>\n",
       "      <th>index</th>\n",
       "      <th>Unnamed: 0</th>\n",
       "      <th>Date &amp; Time</th>\n",
       "      <th>Date</th>\n",
       "      <th>Time</th>\n",
       "      <th>Ticker</th>\n",
       "      <th>Sector</th>\n",
       "      <th>Source</th>\n",
       "      <th>sentiment_neg</th>\n",
       "      <th>sentiment_neu</th>\n",
       "      <th>sentiment_pos</th>\n",
       "      <th>sentiment_tot</th>\n",
       "      <th>Headline</th>\n",
       "      <th>Text</th>\n",
       "      <th>URL</th>\n",
       "    </tr>\n",
       "  </thead>\n",
       "  <tbody>\n",
       "    <tr>\n",
       "      <th>11966</th>\n",
       "      <td>58033</td>\n",
       "      <td>58033</td>\n",
       "      <td>2023-10-28 12:38:00+00:00</td>\n",
       "      <td>2023-10-28</td>\n",
       "      <td>12:38:00</td>\n",
       "      <td>AAPL</td>\n",
       "      <td>Technology</td>\n",
       "      <td>The Motley Fool</td>\n",
       "      <td>0.043</td>\n",
       "      <td>0.834</td>\n",
       "      <td>0.123</td>\n",
       "      <td>0.4497</td>\n",
       "      <td>Can Apple Stock Double in 5 Years? Here's What...</td>\n",
       "      <td>Apple shares have tripled in the past five yea...</td>\n",
       "      <td>https://www.fool.com/investing/2023/10/28/can-...</td>\n",
       "    </tr>\n",
       "  </tbody>\n",
       "</table>\n",
       "</div>"
      ],
      "text/plain": [
       "       index  Unnamed: 0                Date & Time        Date      Time  \\\n",
       "11966  58033       58033  2023-10-28 12:38:00+00:00  2023-10-28  12:38:00   \n",
       "\n",
       "      Ticker      Sector           Source  sentiment_neg  sentiment_neu  \\\n",
       "11966   AAPL  Technology  The Motley Fool          0.043          0.834   \n",
       "\n",
       "       sentiment_pos  sentiment_tot  \\\n",
       "11966          0.123         0.4497   \n",
       "\n",
       "                                                Headline  \\\n",
       "11966  Can Apple Stock Double in 5 Years? Here's What...   \n",
       "\n",
       "                                                    Text  \\\n",
       "11966  Apple shares have tripled in the past five yea...   \n",
       "\n",
       "                                                     URL  \n",
       "11966  https://www.fool.com/investing/2023/10/28/can-...  "
      ]
     },
     "execution_count": 83,
     "metadata": {},
     "output_type": "execute_result"
    }
   ],
   "source": [
    "Apl.loc[Apl[\"Date\"] == \"2023-10-28\"]"
   ]
  },
  {
   "cell_type": "markdown",
   "metadata": {},
   "source": [
    "This one seems \"mostly\" neutral"
   ]
  },
  {
   "cell_type": "code",
   "execution_count": 84,
   "metadata": {},
   "outputs": [
    {
     "data": {
      "text/html": [
       "<div>\n",
       "<style scoped>\n",
       "    .dataframe tbody tr th:only-of-type {\n",
       "        vertical-align: middle;\n",
       "    }\n",
       "\n",
       "    .dataframe tbody tr th {\n",
       "        vertical-align: top;\n",
       "    }\n",
       "\n",
       "    .dataframe thead th {\n",
       "        text-align: right;\n",
       "    }\n",
       "</style>\n",
       "<table border=\"1\" class=\"dataframe\">\n",
       "  <thead>\n",
       "    <tr style=\"text-align: right;\">\n",
       "      <th></th>\n",
       "      <th>index</th>\n",
       "      <th>Unnamed: 0</th>\n",
       "      <th>Date &amp; Time</th>\n",
       "      <th>Date</th>\n",
       "      <th>Time</th>\n",
       "      <th>Ticker</th>\n",
       "      <th>Sector</th>\n",
       "      <th>Source</th>\n",
       "      <th>sentiment_neg</th>\n",
       "      <th>sentiment_neu</th>\n",
       "      <th>sentiment_pos</th>\n",
       "      <th>sentiment_tot</th>\n",
       "      <th>Headline</th>\n",
       "      <th>Text</th>\n",
       "      <th>URL</th>\n",
       "    </tr>\n",
       "  </thead>\n",
       "  <tbody>\n",
       "    <tr>\n",
       "      <th>8828</th>\n",
       "      <td>40704</td>\n",
       "      <td>40704</td>\n",
       "      <td>2022-07-03 11:30:04+00:00</td>\n",
       "      <td>2022-07-03</td>\n",
       "      <td>11:30:04</td>\n",
       "      <td>AAPL</td>\n",
       "      <td>Technology</td>\n",
       "      <td>InvestorPlace</td>\n",
       "      <td>0.0</td>\n",
       "      <td>0.77</td>\n",
       "      <td>0.23</td>\n",
       "      <td>0.861</td>\n",
       "      <td>The Next Apple Product Launch Paves the Way fo...</td>\n",
       "      <td>The best way to play a new Apple product launc...</td>\n",
       "      <td>https://investorplace.com/hypergrowthinvesting...</td>\n",
       "    </tr>\n",
       "  </tbody>\n",
       "</table>\n",
       "</div>"
      ],
      "text/plain": [
       "      index  Unnamed: 0                Date & Time        Date      Time  \\\n",
       "8828  40704       40704  2022-07-03 11:30:04+00:00  2022-07-03  11:30:04   \n",
       "\n",
       "     Ticker      Sector         Source  sentiment_neg  sentiment_neu  \\\n",
       "8828   AAPL  Technology  InvestorPlace            0.0           0.77   \n",
       "\n",
       "      sentiment_pos  sentiment_tot  \\\n",
       "8828           0.23          0.861   \n",
       "\n",
       "                                               Headline  \\\n",
       "8828  The Next Apple Product Launch Paves the Way fo...   \n",
       "\n",
       "                                                   Text  \\\n",
       "8828  The best way to play a new Apple product launc...   \n",
       "\n",
       "                                                    URL  \n",
       "8828  https://investorplace.com/hypergrowthinvesting...  "
      ]
     },
     "execution_count": 84,
     "metadata": {},
     "output_type": "execute_result"
    }
   ],
   "source": [
    "Apl.loc[Apl[\"Date\"] == \"2022-07-03\"]"
   ]
  },
  {
   "cell_type": "markdown",
   "metadata": {},
   "source": [
    "High neutral score. But no negativity at all, pushing the compound score to be high."
   ]
  },
  {
   "cell_type": "markdown",
   "metadata": {},
   "source": [
    "It seems that these \"one per day\" obligatory stock movement reports can't be thrown out altogether. The way these are reported, still can impact the next day's price movements."
   ]
  },
  {
   "cell_type": "markdown",
   "metadata": {},
   "source": [
    "There aren't matter of fact reports. The writer's optimism or pessimism impacted by other market factors may influence the writing and hence the reader's attitude."
   ]
  },
  {
   "cell_type": "markdown",
   "metadata": {},
   "source": [
    "Before we move onto other tickers, let's look at the date with the highest article count as well."
   ]
  },
  {
   "cell_type": "code",
   "execution_count": 85,
   "metadata": {},
   "outputs": [
    {
     "data": {
      "text/plain": [
       "63"
      ]
     },
     "execution_count": 85,
     "metadata": {},
     "output_type": "execute_result"
    }
   ],
   "source": [
    "Apl_counts[\"Article_Count\"].max()"
   ]
  },
  {
   "cell_type": "code",
   "execution_count": 87,
   "metadata": {},
   "outputs": [
    {
     "data": {
      "text/html": [
       "<div>\n",
       "<style scoped>\n",
       "    .dataframe tbody tr th:only-of-type {\n",
       "        vertical-align: middle;\n",
       "    }\n",
       "\n",
       "    .dataframe tbody tr th {\n",
       "        vertical-align: top;\n",
       "    }\n",
       "\n",
       "    .dataframe thead th {\n",
       "        text-align: right;\n",
       "    }\n",
       "</style>\n",
       "<table border=\"1\" class=\"dataframe\">\n",
       "  <thead>\n",
       "    <tr style=\"text-align: right;\">\n",
       "      <th></th>\n",
       "      <th>Date</th>\n",
       "      <th>Article_Count</th>\n",
       "      <th>month</th>\n",
       "    </tr>\n",
       "  </thead>\n",
       "  <tbody>\n",
       "    <tr>\n",
       "      <th>161</th>\n",
       "      <td>2019-09-10</td>\n",
       "      <td>63</td>\n",
       "      <td>2019-09</td>\n",
       "    </tr>\n",
       "  </tbody>\n",
       "</table>\n",
       "</div>"
      ],
      "text/plain": [
       "           Date  Article_Count    month\n",
       "161  2019-09-10             63  2019-09"
      ]
     },
     "execution_count": 87,
     "metadata": {},
     "output_type": "execute_result"
    }
   ],
   "source": [
    "Apl_counts.loc[Apl_counts[\"Article_Count\"] == 63]"
   ]
  },
  {
   "cell_type": "code",
   "execution_count": 88,
   "metadata": {},
   "outputs": [
    {
     "data": {
      "text/html": [
       "<div>\n",
       "<style scoped>\n",
       "    .dataframe tbody tr th:only-of-type {\n",
       "        vertical-align: middle;\n",
       "    }\n",
       "\n",
       "    .dataframe tbody tr th {\n",
       "        vertical-align: top;\n",
       "    }\n",
       "\n",
       "    .dataframe thead th {\n",
       "        text-align: right;\n",
       "    }\n",
       "</style>\n",
       "<table border=\"1\" class=\"dataframe\">\n",
       "  <thead>\n",
       "    <tr style=\"text-align: right;\">\n",
       "      <th></th>\n",
       "      <th>index</th>\n",
       "      <th>Unnamed: 0</th>\n",
       "      <th>Date &amp; Time</th>\n",
       "      <th>Date</th>\n",
       "      <th>Time</th>\n",
       "      <th>Ticker</th>\n",
       "      <th>Sector</th>\n",
       "      <th>Source</th>\n",
       "      <th>sentiment_neg</th>\n",
       "      <th>sentiment_neu</th>\n",
       "      <th>sentiment_pos</th>\n",
       "      <th>sentiment_tot</th>\n",
       "      <th>Headline</th>\n",
       "      <th>Text</th>\n",
       "      <th>URL</th>\n",
       "    </tr>\n",
       "  </thead>\n",
       "  <tbody>\n",
       "    <tr>\n",
       "      <th>1308</th>\n",
       "      <td>4917</td>\n",
       "      <td>4917</td>\n",
       "      <td>2019-09-10 00:27:00+00:00</td>\n",
       "      <td>2019-09-10</td>\n",
       "      <td>00:27:00</td>\n",
       "      <td>AAPL</td>\n",
       "      <td>Technology</td>\n",
       "      <td>CNBC</td>\n",
       "      <td>0.000</td>\n",
       "      <td>1.000</td>\n",
       "      <td>0.000</td>\n",
       "      <td>0.0000</td>\n",
       "      <td>Apple's new iPhones might not be able to charg...</td>\n",
       "      <td>The revised prediction indicates that Apple mi...</td>\n",
       "      <td>https://www.cnbc.com/2019/09/09/apple-2019-iph...</td>\n",
       "    </tr>\n",
       "    <tr>\n",
       "      <th>1309</th>\n",
       "      <td>4918</td>\n",
       "      <td>4918</td>\n",
       "      <td>2019-09-10 00:45:00+00:00</td>\n",
       "      <td>2019-09-10</td>\n",
       "      <td>00:45:00</td>\n",
       "      <td>AAPL</td>\n",
       "      <td>Technology</td>\n",
       "      <td>The Motley Fool</td>\n",
       "      <td>0.000</td>\n",
       "      <td>1.000</td>\n",
       "      <td>0.000</td>\n",
       "      <td>0.0000</td>\n",
       "      <td>Apple's Big Event: What to Watch</td>\n",
       "      <td>Here's what investors will be watching during ...</td>\n",
       "      <td>https://www.fool.com/investing/2019/09/09/appl...</td>\n",
       "    </tr>\n",
       "    <tr>\n",
       "      <th>1310</th>\n",
       "      <td>4922</td>\n",
       "      <td>4922</td>\n",
       "      <td>2019-09-10 12:00:00+00:00</td>\n",
       "      <td>2019-09-10</td>\n",
       "      <td>12:00:00</td>\n",
       "      <td>AAPL</td>\n",
       "      <td>Technology</td>\n",
       "      <td>The Motley Fool</td>\n",
       "      <td>0.112</td>\n",
       "      <td>0.736</td>\n",
       "      <td>0.152</td>\n",
       "      <td>0.0953</td>\n",
       "      <td>Why Apple's In-Screen Fingerprint Reader Could...</td>\n",
       "      <td>Tech companies are collecting more information...</td>\n",
       "      <td>https://www.fool.com/investing/2019/09/10/why-...</td>\n",
       "    </tr>\n",
       "    <tr>\n",
       "      <th>1311</th>\n",
       "      <td>4923</td>\n",
       "      <td>4923</td>\n",
       "      <td>2019-09-10 12:51:04+00:00</td>\n",
       "      <td>2019-09-10</td>\n",
       "      <td>12:51:04</td>\n",
       "      <td>AAPL</td>\n",
       "      <td>Technology</td>\n",
       "      <td>Reuters</td>\n",
       "      <td>0.000</td>\n",
       "      <td>0.942</td>\n",
       "      <td>0.058</td>\n",
       "      <td>0.3182</td>\n",
       "      <td>Apple to reveal streaming service prices while...</td>\n",
       "      <td>Apple Inc  is set on Tuesday to announce prici...</td>\n",
       "      <td>https://www.reuters.com/article/us-apple-iphon...</td>\n",
       "    </tr>\n",
       "    <tr>\n",
       "      <th>1312</th>\n",
       "      <td>4928</td>\n",
       "      <td>4928</td>\n",
       "      <td>2019-09-10 13:40:00+00:00</td>\n",
       "      <td>2019-09-10</td>\n",
       "      <td>13:40:00</td>\n",
       "      <td>AAPL</td>\n",
       "      <td>Technology</td>\n",
       "      <td>Zacks Investment Research</td>\n",
       "      <td>0.000</td>\n",
       "      <td>0.837</td>\n",
       "      <td>0.163</td>\n",
       "      <td>0.6808</td>\n",
       "      <td>Can Smartphone Market Rebound in 2020? AAPL &amp; ...</td>\n",
       "      <td>Per IDC, the global smartphone market witnessi...</td>\n",
       "      <td>https://www.zacks.com/stock/news/511071/can-sm...</td>\n",
       "    </tr>\n",
       "    <tr>\n",
       "      <th>...</th>\n",
       "      <td>...</td>\n",
       "      <td>...</td>\n",
       "      <td>...</td>\n",
       "      <td>...</td>\n",
       "      <td>...</td>\n",
       "      <td>...</td>\n",
       "      <td>...</td>\n",
       "      <td>...</td>\n",
       "      <td>...</td>\n",
       "      <td>...</td>\n",
       "      <td>...</td>\n",
       "      <td>...</td>\n",
       "      <td>...</td>\n",
       "      <td>...</td>\n",
       "      <td>...</td>\n",
       "    </tr>\n",
       "    <tr>\n",
       "      <th>1366</th>\n",
       "      <td>5009</td>\n",
       "      <td>5009</td>\n",
       "      <td>2019-09-10 21:25:00+00:00</td>\n",
       "      <td>2019-09-10</td>\n",
       "      <td>21:25:00</td>\n",
       "      <td>AAPL</td>\n",
       "      <td>Technology</td>\n",
       "      <td>The Motley Fool</td>\n",
       "      <td>0.087</td>\n",
       "      <td>0.913</td>\n",
       "      <td>0.000</td>\n",
       "      <td>-0.2960</td>\n",
       "      <td>Apple Bolsters Its Fast-Growing Wearables Busi...</td>\n",
       "      <td>The tech giant has no intention of slowing dow...</td>\n",
       "      <td>https://www.fool.com/investing/2019/09/10/appl...</td>\n",
       "    </tr>\n",
       "    <tr>\n",
       "      <th>1367</th>\n",
       "      <td>5010</td>\n",
       "      <td>5010</td>\n",
       "      <td>2019-09-10 21:30:43+00:00</td>\n",
       "      <td>2019-09-10</td>\n",
       "      <td>21:30:43</td>\n",
       "      <td>AAPL</td>\n",
       "      <td>Technology</td>\n",
       "      <td>The Guardian</td>\n",
       "      <td>0.033</td>\n",
       "      <td>0.808</td>\n",
       "      <td>0.158</td>\n",
       "      <td>0.6690</td>\n",
       "      <td>iPhone 11: Apple's most ambitious bid yet to c...</td>\n",
       "      <td>iPhone 11 Pro is being touted as ‘the most adv...</td>\n",
       "      <td>https://www.theguardian.com/technology/2019/se...</td>\n",
       "    </tr>\n",
       "    <tr>\n",
       "      <th>1368</th>\n",
       "      <td>5011</td>\n",
       "      <td>5011</td>\n",
       "      <td>2019-09-10 21:40:10+00:00</td>\n",
       "      <td>2019-09-10</td>\n",
       "      <td>21:40:10</td>\n",
       "      <td>AAPL</td>\n",
       "      <td>Technology</td>\n",
       "      <td>Market Watch</td>\n",
       "      <td>0.000</td>\n",
       "      <td>0.945</td>\n",
       "      <td>0.055</td>\n",
       "      <td>0.3384</td>\n",
       "      <td>MarketWatch First Take: Apple iPhone event rev...</td>\n",
       "      <td>The most surprising new feature Apple Inc. deb...</td>\n",
       "      <td>https://www.marketwatch.com/story/apple-iphone...</td>\n",
       "    </tr>\n",
       "    <tr>\n",
       "      <th>1369</th>\n",
       "      <td>5012</td>\n",
       "      <td>5012</td>\n",
       "      <td>2019-09-10 21:59:00+00:00</td>\n",
       "      <td>2019-09-10</td>\n",
       "      <td>21:59:00</td>\n",
       "      <td>AAPL</td>\n",
       "      <td>Technology</td>\n",
       "      <td>CNBC</td>\n",
       "      <td>0.000</td>\n",
       "      <td>1.000</td>\n",
       "      <td>0.000</td>\n",
       "      <td>0.0000</td>\n",
       "      <td>Apple unveils the iPhone 11 – three experts on...</td>\n",
       "      <td>Apple unveiled its latest smartphone and a ran...</td>\n",
       "      <td>https://www.cnbc.com/2019/09/10/apple-unveils-...</td>\n",
       "    </tr>\n",
       "    <tr>\n",
       "      <th>1370</th>\n",
       "      <td>5013</td>\n",
       "      <td>5013</td>\n",
       "      <td>2019-09-10 23:50:00+00:00</td>\n",
       "      <td>2019-09-10</td>\n",
       "      <td>23:50:00</td>\n",
       "      <td>AAPL</td>\n",
       "      <td>Technology</td>\n",
       "      <td>The Motley Fool</td>\n",
       "      <td>0.000</td>\n",
       "      <td>0.726</td>\n",
       "      <td>0.274</td>\n",
       "      <td>0.8074</td>\n",
       "      <td>2 Smart Moves That Will Boost Apple’s iPhone S...</td>\n",
       "      <td>The flagging fortunes of the iPhone could turn...</td>\n",
       "      <td>https://www.fool.com/investing/2019/09/10/2-sm...</td>\n",
       "    </tr>\n",
       "  </tbody>\n",
       "</table>\n",
       "<p>63 rows × 15 columns</p>\n",
       "</div>"
      ],
      "text/plain": [
       "      index  Unnamed: 0                Date & Time        Date      Time  \\\n",
       "1308   4917        4917  2019-09-10 00:27:00+00:00  2019-09-10  00:27:00   \n",
       "1309   4918        4918  2019-09-10 00:45:00+00:00  2019-09-10  00:45:00   \n",
       "1310   4922        4922  2019-09-10 12:00:00+00:00  2019-09-10  12:00:00   \n",
       "1311   4923        4923  2019-09-10 12:51:04+00:00  2019-09-10  12:51:04   \n",
       "1312   4928        4928  2019-09-10 13:40:00+00:00  2019-09-10  13:40:00   \n",
       "...     ...         ...                        ...         ...       ...   \n",
       "1366   5009        5009  2019-09-10 21:25:00+00:00  2019-09-10  21:25:00   \n",
       "1367   5010        5010  2019-09-10 21:30:43+00:00  2019-09-10  21:30:43   \n",
       "1368   5011        5011  2019-09-10 21:40:10+00:00  2019-09-10  21:40:10   \n",
       "1369   5012        5012  2019-09-10 21:59:00+00:00  2019-09-10  21:59:00   \n",
       "1370   5013        5013  2019-09-10 23:50:00+00:00  2019-09-10  23:50:00   \n",
       "\n",
       "     Ticker      Sector                     Source  sentiment_neg  \\\n",
       "1308   AAPL  Technology                       CNBC          0.000   \n",
       "1309   AAPL  Technology            The Motley Fool          0.000   \n",
       "1310   AAPL  Technology            The Motley Fool          0.112   \n",
       "1311   AAPL  Technology                    Reuters          0.000   \n",
       "1312   AAPL  Technology  Zacks Investment Research          0.000   \n",
       "...     ...         ...                        ...            ...   \n",
       "1366   AAPL  Technology            The Motley Fool          0.087   \n",
       "1367   AAPL  Technology               The Guardian          0.033   \n",
       "1368   AAPL  Technology               Market Watch          0.000   \n",
       "1369   AAPL  Technology                       CNBC          0.000   \n",
       "1370   AAPL  Technology            The Motley Fool          0.000   \n",
       "\n",
       "      sentiment_neu  sentiment_pos  sentiment_tot  \\\n",
       "1308          1.000          0.000         0.0000   \n",
       "1309          1.000          0.000         0.0000   \n",
       "1310          0.736          0.152         0.0953   \n",
       "1311          0.942          0.058         0.3182   \n",
       "1312          0.837          0.163         0.6808   \n",
       "...             ...            ...            ...   \n",
       "1366          0.913          0.000        -0.2960   \n",
       "1367          0.808          0.158         0.6690   \n",
       "1368          0.945          0.055         0.3384   \n",
       "1369          1.000          0.000         0.0000   \n",
       "1370          0.726          0.274         0.8074   \n",
       "\n",
       "                                               Headline  \\\n",
       "1308  Apple's new iPhones might not be able to charg...   \n",
       "1309                   Apple's Big Event: What to Watch   \n",
       "1310  Why Apple's In-Screen Fingerprint Reader Could...   \n",
       "1311  Apple to reveal streaming service prices while...   \n",
       "1312  Can Smartphone Market Rebound in 2020? AAPL & ...   \n",
       "...                                                 ...   \n",
       "1366  Apple Bolsters Its Fast-Growing Wearables Busi...   \n",
       "1367  iPhone 11: Apple's most ambitious bid yet to c...   \n",
       "1368  MarketWatch First Take: Apple iPhone event rev...   \n",
       "1369  Apple unveils the iPhone 11 – three experts on...   \n",
       "1370  2 Smart Moves That Will Boost Apple’s iPhone S...   \n",
       "\n",
       "                                                   Text  \\\n",
       "1308  The revised prediction indicates that Apple mi...   \n",
       "1309  Here's what investors will be watching during ...   \n",
       "1310  Tech companies are collecting more information...   \n",
       "1311  Apple Inc  is set on Tuesday to announce prici...   \n",
       "1312  Per IDC, the global smartphone market witnessi...   \n",
       "...                                                 ...   \n",
       "1366  The tech giant has no intention of slowing dow...   \n",
       "1367  iPhone 11 Pro is being touted as ‘the most adv...   \n",
       "1368  The most surprising new feature Apple Inc. deb...   \n",
       "1369  Apple unveiled its latest smartphone and a ran...   \n",
       "1370  The flagging fortunes of the iPhone could turn...   \n",
       "\n",
       "                                                    URL  \n",
       "1308  https://www.cnbc.com/2019/09/09/apple-2019-iph...  \n",
       "1309  https://www.fool.com/investing/2019/09/09/appl...  \n",
       "1310  https://www.fool.com/investing/2019/09/10/why-...  \n",
       "1311  https://www.reuters.com/article/us-apple-iphon...  \n",
       "1312  https://www.zacks.com/stock/news/511071/can-sm...  \n",
       "...                                                 ...  \n",
       "1366  https://www.fool.com/investing/2019/09/10/appl...  \n",
       "1367  https://www.theguardian.com/technology/2019/se...  \n",
       "1368  https://www.marketwatch.com/story/apple-iphone...  \n",
       "1369  https://www.cnbc.com/2019/09/10/apple-unveils-...  \n",
       "1370  https://www.fool.com/investing/2019/09/10/2-sm...  \n",
       "\n",
       "[63 rows x 15 columns]"
      ]
     },
     "execution_count": 88,
     "metadata": {},
     "output_type": "execute_result"
    }
   ],
   "source": [
    "Apl.loc[Apl[\"Date\"] == \"2019-09-10\"]"
   ]
  },
  {
   "cell_type": "markdown",
   "metadata": {},
   "source": [
    "\n",
    "On this day, it turns out there was a big event promoting iphone 11 pro. :https://www.youtube.com/watch?v=-rAeqN-Q7x4"
   ]
  },
  {
   "cell_type": "markdown",
   "metadata": {},
   "source": [
    "Makes me curious about the prices next day"
   ]
  },
  {
   "cell_type": "code",
   "execution_count": 104,
   "metadata": {},
   "outputs": [],
   "source": [
    "Apl_stock = pd.read_csv('..\\Stock_data\\Apple_stock.csv')"
   ]
  },
  {
   "cell_type": "code",
   "execution_count": 109,
   "metadata": {},
   "outputs": [],
   "source": [
    "Apl_test = Apl_stock.loc[Apl_stock[\"Date\"] <= \"2019-09-20\"]\n",
    "Apl_stock_19_09_10 = Apl_test.loc[Apl_test[\"Date\"] >= \"2019-09-01\"]"
   ]
  },
  {
   "cell_type": "code",
   "execution_count": 111,
   "metadata": {},
   "outputs": [
    {
     "data": {
      "application/vnd.plotly.v1+json": {
       "config": {
        "plotlyServerURL": "https://plot.ly"
       },
       "data": [
        {
         "type": "scatter",
         "x": [
          "2019-09-03 00:00:00-04:00",
          "2019-09-04 00:00:00-04:00",
          "2019-09-05 00:00:00-04:00",
          "2019-09-06 00:00:00-04:00",
          "2019-09-09 00:00:00-04:00",
          "2019-09-10 00:00:00-04:00",
          "2019-09-11 00:00:00-04:00",
          "2019-09-12 00:00:00-04:00",
          "2019-09-13 00:00:00-04:00",
          "2019-09-16 00:00:00-04:00",
          "2019-09-17 00:00:00-04:00",
          "2019-09-18 00:00:00-04:00",
          "2019-09-19 00:00:00-04:00"
         ],
         "y": [
          49.818695068359375,
          50.66393661499024,
          51.65450286865234,
          51.64965057373047,
          51.87005615234375,
          52.48278427124024,
          54.151493072509766,
          54.030391693115234,
          52.97929000854492,
          53.257808685302734,
          53.45155715942383,
          53.95288848876953,
          53.5145263671875
         ]
        }
       ],
       "layout": {
        "template": {
         "data": {
          "bar": [
           {
            "error_x": {
             "color": "#2a3f5f"
            },
            "error_y": {
             "color": "#2a3f5f"
            },
            "marker": {
             "line": {
              "color": "#E5ECF6",
              "width": 0.5
             },
             "pattern": {
              "fillmode": "overlay",
              "size": 10,
              "solidity": 0.2
             }
            },
            "type": "bar"
           }
          ],
          "barpolar": [
           {
            "marker": {
             "line": {
              "color": "#E5ECF6",
              "width": 0.5
             },
             "pattern": {
              "fillmode": "overlay",
              "size": 10,
              "solidity": 0.2
             }
            },
            "type": "barpolar"
           }
          ],
          "carpet": [
           {
            "aaxis": {
             "endlinecolor": "#2a3f5f",
             "gridcolor": "white",
             "linecolor": "white",
             "minorgridcolor": "white",
             "startlinecolor": "#2a3f5f"
            },
            "baxis": {
             "endlinecolor": "#2a3f5f",
             "gridcolor": "white",
             "linecolor": "white",
             "minorgridcolor": "white",
             "startlinecolor": "#2a3f5f"
            },
            "type": "carpet"
           }
          ],
          "choropleth": [
           {
            "colorbar": {
             "outlinewidth": 0,
             "ticks": ""
            },
            "type": "choropleth"
           }
          ],
          "contour": [
           {
            "colorbar": {
             "outlinewidth": 0,
             "ticks": ""
            },
            "colorscale": [
             [
              0,
              "#0d0887"
             ],
             [
              0.1111111111111111,
              "#46039f"
             ],
             [
              0.2222222222222222,
              "#7201a8"
             ],
             [
              0.3333333333333333,
              "#9c179e"
             ],
             [
              0.4444444444444444,
              "#bd3786"
             ],
             [
              0.5555555555555556,
              "#d8576b"
             ],
             [
              0.6666666666666666,
              "#ed7953"
             ],
             [
              0.7777777777777778,
              "#fb9f3a"
             ],
             [
              0.8888888888888888,
              "#fdca26"
             ],
             [
              1,
              "#f0f921"
             ]
            ],
            "type": "contour"
           }
          ],
          "contourcarpet": [
           {
            "colorbar": {
             "outlinewidth": 0,
             "ticks": ""
            },
            "type": "contourcarpet"
           }
          ],
          "heatmap": [
           {
            "colorbar": {
             "outlinewidth": 0,
             "ticks": ""
            },
            "colorscale": [
             [
              0,
              "#0d0887"
             ],
             [
              0.1111111111111111,
              "#46039f"
             ],
             [
              0.2222222222222222,
              "#7201a8"
             ],
             [
              0.3333333333333333,
              "#9c179e"
             ],
             [
              0.4444444444444444,
              "#bd3786"
             ],
             [
              0.5555555555555556,
              "#d8576b"
             ],
             [
              0.6666666666666666,
              "#ed7953"
             ],
             [
              0.7777777777777778,
              "#fb9f3a"
             ],
             [
              0.8888888888888888,
              "#fdca26"
             ],
             [
              1,
              "#f0f921"
             ]
            ],
            "type": "heatmap"
           }
          ],
          "heatmapgl": [
           {
            "colorbar": {
             "outlinewidth": 0,
             "ticks": ""
            },
            "colorscale": [
             [
              0,
              "#0d0887"
             ],
             [
              0.1111111111111111,
              "#46039f"
             ],
             [
              0.2222222222222222,
              "#7201a8"
             ],
             [
              0.3333333333333333,
              "#9c179e"
             ],
             [
              0.4444444444444444,
              "#bd3786"
             ],
             [
              0.5555555555555556,
              "#d8576b"
             ],
             [
              0.6666666666666666,
              "#ed7953"
             ],
             [
              0.7777777777777778,
              "#fb9f3a"
             ],
             [
              0.8888888888888888,
              "#fdca26"
             ],
             [
              1,
              "#f0f921"
             ]
            ],
            "type": "heatmapgl"
           }
          ],
          "histogram": [
           {
            "marker": {
             "pattern": {
              "fillmode": "overlay",
              "size": 10,
              "solidity": 0.2
             }
            },
            "type": "histogram"
           }
          ],
          "histogram2d": [
           {
            "colorbar": {
             "outlinewidth": 0,
             "ticks": ""
            },
            "colorscale": [
             [
              0,
              "#0d0887"
             ],
             [
              0.1111111111111111,
              "#46039f"
             ],
             [
              0.2222222222222222,
              "#7201a8"
             ],
             [
              0.3333333333333333,
              "#9c179e"
             ],
             [
              0.4444444444444444,
              "#bd3786"
             ],
             [
              0.5555555555555556,
              "#d8576b"
             ],
             [
              0.6666666666666666,
              "#ed7953"
             ],
             [
              0.7777777777777778,
              "#fb9f3a"
             ],
             [
              0.8888888888888888,
              "#fdca26"
             ],
             [
              1,
              "#f0f921"
             ]
            ],
            "type": "histogram2d"
           }
          ],
          "histogram2dcontour": [
           {
            "colorbar": {
             "outlinewidth": 0,
             "ticks": ""
            },
            "colorscale": [
             [
              0,
              "#0d0887"
             ],
             [
              0.1111111111111111,
              "#46039f"
             ],
             [
              0.2222222222222222,
              "#7201a8"
             ],
             [
              0.3333333333333333,
              "#9c179e"
             ],
             [
              0.4444444444444444,
              "#bd3786"
             ],
             [
              0.5555555555555556,
              "#d8576b"
             ],
             [
              0.6666666666666666,
              "#ed7953"
             ],
             [
              0.7777777777777778,
              "#fb9f3a"
             ],
             [
              0.8888888888888888,
              "#fdca26"
             ],
             [
              1,
              "#f0f921"
             ]
            ],
            "type": "histogram2dcontour"
           }
          ],
          "mesh3d": [
           {
            "colorbar": {
             "outlinewidth": 0,
             "ticks": ""
            },
            "type": "mesh3d"
           }
          ],
          "parcoords": [
           {
            "line": {
             "colorbar": {
              "outlinewidth": 0,
              "ticks": ""
             }
            },
            "type": "parcoords"
           }
          ],
          "pie": [
           {
            "automargin": true,
            "type": "pie"
           }
          ],
          "scatter": [
           {
            "fillpattern": {
             "fillmode": "overlay",
             "size": 10,
             "solidity": 0.2
            },
            "type": "scatter"
           }
          ],
          "scatter3d": [
           {
            "line": {
             "colorbar": {
              "outlinewidth": 0,
              "ticks": ""
             }
            },
            "marker": {
             "colorbar": {
              "outlinewidth": 0,
              "ticks": ""
             }
            },
            "type": "scatter3d"
           }
          ],
          "scattercarpet": [
           {
            "marker": {
             "colorbar": {
              "outlinewidth": 0,
              "ticks": ""
             }
            },
            "type": "scattercarpet"
           }
          ],
          "scattergeo": [
           {
            "marker": {
             "colorbar": {
              "outlinewidth": 0,
              "ticks": ""
             }
            },
            "type": "scattergeo"
           }
          ],
          "scattergl": [
           {
            "marker": {
             "colorbar": {
              "outlinewidth": 0,
              "ticks": ""
             }
            },
            "type": "scattergl"
           }
          ],
          "scattermapbox": [
           {
            "marker": {
             "colorbar": {
              "outlinewidth": 0,
              "ticks": ""
             }
            },
            "type": "scattermapbox"
           }
          ],
          "scatterpolar": [
           {
            "marker": {
             "colorbar": {
              "outlinewidth": 0,
              "ticks": ""
             }
            },
            "type": "scatterpolar"
           }
          ],
          "scatterpolargl": [
           {
            "marker": {
             "colorbar": {
              "outlinewidth": 0,
              "ticks": ""
             }
            },
            "type": "scatterpolargl"
           }
          ],
          "scatterternary": [
           {
            "marker": {
             "colorbar": {
              "outlinewidth": 0,
              "ticks": ""
             }
            },
            "type": "scatterternary"
           }
          ],
          "surface": [
           {
            "colorbar": {
             "outlinewidth": 0,
             "ticks": ""
            },
            "colorscale": [
             [
              0,
              "#0d0887"
             ],
             [
              0.1111111111111111,
              "#46039f"
             ],
             [
              0.2222222222222222,
              "#7201a8"
             ],
             [
              0.3333333333333333,
              "#9c179e"
             ],
             [
              0.4444444444444444,
              "#bd3786"
             ],
             [
              0.5555555555555556,
              "#d8576b"
             ],
             [
              0.6666666666666666,
              "#ed7953"
             ],
             [
              0.7777777777777778,
              "#fb9f3a"
             ],
             [
              0.8888888888888888,
              "#fdca26"
             ],
             [
              1,
              "#f0f921"
             ]
            ],
            "type": "surface"
           }
          ],
          "table": [
           {
            "cells": {
             "fill": {
              "color": "#EBF0F8"
             },
             "line": {
              "color": "white"
             }
            },
            "header": {
             "fill": {
              "color": "#C8D4E3"
             },
             "line": {
              "color": "white"
             }
            },
            "type": "table"
           }
          ]
         },
         "layout": {
          "annotationdefaults": {
           "arrowcolor": "#2a3f5f",
           "arrowhead": 0,
           "arrowwidth": 1
          },
          "autotypenumbers": "strict",
          "coloraxis": {
           "colorbar": {
            "outlinewidth": 0,
            "ticks": ""
           }
          },
          "colorscale": {
           "diverging": [
            [
             0,
             "#8e0152"
            ],
            [
             0.1,
             "#c51b7d"
            ],
            [
             0.2,
             "#de77ae"
            ],
            [
             0.3,
             "#f1b6da"
            ],
            [
             0.4,
             "#fde0ef"
            ],
            [
             0.5,
             "#f7f7f7"
            ],
            [
             0.6,
             "#e6f5d0"
            ],
            [
             0.7,
             "#b8e186"
            ],
            [
             0.8,
             "#7fbc41"
            ],
            [
             0.9,
             "#4d9221"
            ],
            [
             1,
             "#276419"
            ]
           ],
           "sequential": [
            [
             0,
             "#0d0887"
            ],
            [
             0.1111111111111111,
             "#46039f"
            ],
            [
             0.2222222222222222,
             "#7201a8"
            ],
            [
             0.3333333333333333,
             "#9c179e"
            ],
            [
             0.4444444444444444,
             "#bd3786"
            ],
            [
             0.5555555555555556,
             "#d8576b"
            ],
            [
             0.6666666666666666,
             "#ed7953"
            ],
            [
             0.7777777777777778,
             "#fb9f3a"
            ],
            [
             0.8888888888888888,
             "#fdca26"
            ],
            [
             1,
             "#f0f921"
            ]
           ],
           "sequentialminus": [
            [
             0,
             "#0d0887"
            ],
            [
             0.1111111111111111,
             "#46039f"
            ],
            [
             0.2222222222222222,
             "#7201a8"
            ],
            [
             0.3333333333333333,
             "#9c179e"
            ],
            [
             0.4444444444444444,
             "#bd3786"
            ],
            [
             0.5555555555555556,
             "#d8576b"
            ],
            [
             0.6666666666666666,
             "#ed7953"
            ],
            [
             0.7777777777777778,
             "#fb9f3a"
            ],
            [
             0.8888888888888888,
             "#fdca26"
            ],
            [
             1,
             "#f0f921"
            ]
           ]
          },
          "colorway": [
           "#636efa",
           "#EF553B",
           "#00cc96",
           "#ab63fa",
           "#FFA15A",
           "#19d3f3",
           "#FF6692",
           "#B6E880",
           "#FF97FF",
           "#FECB52"
          ],
          "font": {
           "color": "#2a3f5f"
          },
          "geo": {
           "bgcolor": "white",
           "lakecolor": "white",
           "landcolor": "#E5ECF6",
           "showlakes": true,
           "showland": true,
           "subunitcolor": "white"
          },
          "hoverlabel": {
           "align": "left"
          },
          "hovermode": "closest",
          "mapbox": {
           "style": "light"
          },
          "paper_bgcolor": "white",
          "plot_bgcolor": "#E5ECF6",
          "polar": {
           "angularaxis": {
            "gridcolor": "white",
            "linecolor": "white",
            "ticks": ""
           },
           "bgcolor": "#E5ECF6",
           "radialaxis": {
            "gridcolor": "white",
            "linecolor": "white",
            "ticks": ""
           }
          },
          "scene": {
           "xaxis": {
            "backgroundcolor": "#E5ECF6",
            "gridcolor": "white",
            "gridwidth": 2,
            "linecolor": "white",
            "showbackground": true,
            "ticks": "",
            "zerolinecolor": "white"
           },
           "yaxis": {
            "backgroundcolor": "#E5ECF6",
            "gridcolor": "white",
            "gridwidth": 2,
            "linecolor": "white",
            "showbackground": true,
            "ticks": "",
            "zerolinecolor": "white"
           },
           "zaxis": {
            "backgroundcolor": "#E5ECF6",
            "gridcolor": "white",
            "gridwidth": 2,
            "linecolor": "white",
            "showbackground": true,
            "ticks": "",
            "zerolinecolor": "white"
           }
          },
          "shapedefaults": {
           "line": {
            "color": "#2a3f5f"
           }
          },
          "ternary": {
           "aaxis": {
            "gridcolor": "white",
            "linecolor": "white",
            "ticks": ""
           },
           "baxis": {
            "gridcolor": "white",
            "linecolor": "white",
            "ticks": ""
           },
           "bgcolor": "#E5ECF6",
           "caxis": {
            "gridcolor": "white",
            "linecolor": "white",
            "ticks": ""
           }
          },
          "title": {
           "x": 0.05
          },
          "xaxis": {
           "automargin": true,
           "gridcolor": "white",
           "linecolor": "white",
           "ticks": "",
           "title": {
            "standoff": 15
           },
           "zerolinecolor": "white",
           "zerolinewidth": 2
          },
          "yaxis": {
           "automargin": true,
           "gridcolor": "white",
           "linecolor": "white",
           "ticks": "",
           "title": {
            "standoff": 15
           },
           "zerolinecolor": "white",
           "zerolinewidth": 2
          }
         }
        }
       }
      }
     },
     "metadata": {},
     "output_type": "display_data"
    }
   ],
   "source": [
    "#closing prices against date\n",
    "fig = go.Figure([go.Scatter(x=Apl_stock_19_09_10['Date'], y=Apl_stock_19_09_10['Close'])])\n",
    "fig.show()\n"
   ]
  },
  {
   "cell_type": "markdown",
   "metadata": {},
   "source": [
    "We can see the closing price rising around the date but slowly starts droppint after that. I wonder if the news for next day would display some reasons as to why."
   ]
  },
  {
   "cell_type": "markdown",
   "metadata": {},
   "source": [
    "Let's take a look at the news articles for the following day."
   ]
  },
  {
   "cell_type": "code",
   "execution_count": 112,
   "metadata": {},
   "outputs": [
    {
     "data": {
      "text/html": [
       "<div>\n",
       "<style scoped>\n",
       "    .dataframe tbody tr th:only-of-type {\n",
       "        vertical-align: middle;\n",
       "    }\n",
       "\n",
       "    .dataframe tbody tr th {\n",
       "        vertical-align: top;\n",
       "    }\n",
       "\n",
       "    .dataframe thead th {\n",
       "        text-align: right;\n",
       "    }\n",
       "</style>\n",
       "<table border=\"1\" class=\"dataframe\">\n",
       "  <thead>\n",
       "    <tr style=\"text-align: right;\">\n",
       "      <th></th>\n",
       "      <th>index</th>\n",
       "      <th>Unnamed: 0</th>\n",
       "      <th>Date &amp; Time</th>\n",
       "      <th>Date</th>\n",
       "      <th>Time</th>\n",
       "      <th>Ticker</th>\n",
       "      <th>Sector</th>\n",
       "      <th>Source</th>\n",
       "      <th>sentiment_neg</th>\n",
       "      <th>sentiment_neu</th>\n",
       "      <th>sentiment_pos</th>\n",
       "      <th>sentiment_tot</th>\n",
       "      <th>Headline</th>\n",
       "      <th>Text</th>\n",
       "      <th>URL</th>\n",
       "    </tr>\n",
       "  </thead>\n",
       "  <tbody>\n",
       "    <tr>\n",
       "      <th>1371</th>\n",
       "      <td>5015</td>\n",
       "      <td>5015</td>\n",
       "      <td>2019-09-11 02:26:00+00:00</td>\n",
       "      <td>2019-09-11</td>\n",
       "      <td>02:26:00</td>\n",
       "      <td>AAPL</td>\n",
       "      <td>Technology</td>\n",
       "      <td>The Motley Fool</td>\n",
       "      <td>0.000</td>\n",
       "      <td>0.928</td>\n",
       "      <td>0.072</td>\n",
       "      <td>0.3384</td>\n",
       "      <td>The Biggest iPhone News on Tuesday Wasn't the ...</td>\n",
       "      <td>One of the most surprising narratives from the...</td>\n",
       "      <td>https://www.fool.com/investing/2019/09/10/the-...</td>\n",
       "    </tr>\n",
       "    <tr>\n",
       "      <th>1372</th>\n",
       "      <td>5017</td>\n",
       "      <td>5017</td>\n",
       "      <td>2019-09-11 05:38:44+00:00</td>\n",
       "      <td>2019-09-11</td>\n",
       "      <td>05:38:44</td>\n",
       "      <td>AAPL</td>\n",
       "      <td>Technology</td>\n",
       "      <td>Reuters</td>\n",
       "      <td>0.067</td>\n",
       "      <td>0.865</td>\n",
       "      <td>0.068</td>\n",
       "      <td>0.2732</td>\n",
       "      <td>Tepid reaction for Apple's new iPhones in Chin...</td>\n",
       "      <td>A lower price tag and new features may not be ...</td>\n",
       "      <td>https://www.reuters.com/article/us-apple-iphon...</td>\n",
       "    </tr>\n",
       "    <tr>\n",
       "      <th>1373</th>\n",
       "      <td>5018</td>\n",
       "      <td>5018</td>\n",
       "      <td>2019-09-11 08:30:45+00:00</td>\n",
       "      <td>2019-09-11</td>\n",
       "      <td>08:30:45</td>\n",
       "      <td>AAPL</td>\n",
       "      <td>Technology</td>\n",
       "      <td>The Guardian</td>\n",
       "      <td>0.000</td>\n",
       "      <td>1.000</td>\n",
       "      <td>0.000</td>\n",
       "      <td>0.0000</td>\n",
       "      <td>Apple to launch most expensive iPhone ever in ...</td>\n",
       "      <td>Brexit-battered pound means iPhones 11 Pro and...</td>\n",
       "      <td>https://www.theguardian.com/technology/2019/se...</td>\n",
       "    </tr>\n",
       "    <tr>\n",
       "      <th>1374</th>\n",
       "      <td>5019</td>\n",
       "      <td>5019</td>\n",
       "      <td>2019-09-11 08:47:00+00:00</td>\n",
       "      <td>2019-09-11</td>\n",
       "      <td>08:47:00</td>\n",
       "      <td>AAPL</td>\n",
       "      <td>Technology</td>\n",
       "      <td>CNBC</td>\n",
       "      <td>0.215</td>\n",
       "      <td>0.785</td>\n",
       "      <td>0.000</td>\n",
       "      <td>-0.8658</td>\n",
       "      <td>After being forced to cut prices in China, App...</td>\n",
       "      <td>Apple's new iPhone 11 range commands a premium...</td>\n",
       "      <td>https://www.cnbc.com/2019/09/11/apple-iphone-1...</td>\n",
       "    </tr>\n",
       "    <tr>\n",
       "      <th>1375</th>\n",
       "      <td>5020</td>\n",
       "      <td>5020</td>\n",
       "      <td>2019-09-11 09:32:23+00:00</td>\n",
       "      <td>2019-09-11</td>\n",
       "      <td>09:32:23</td>\n",
       "      <td>AAPL</td>\n",
       "      <td>Technology</td>\n",
       "      <td>Reuters</td>\n",
       "      <td>0.174</td>\n",
       "      <td>0.826</td>\n",
       "      <td>0.000</td>\n",
       "      <td>-0.7469</td>\n",
       "      <td>Apple's new, lower priced iPhone draws tepid r...</td>\n",
       "      <td>Apple Inc's  new, lower priced iPhone that com...</td>\n",
       "      <td>https://www.reuters.com/article/us-apple-iphon...</td>\n",
       "    </tr>\n",
       "    <tr>\n",
       "      <th>1376</th>\n",
       "      <td>5022</td>\n",
       "      <td>5022</td>\n",
       "      <td>2019-09-11 11:00:41+00:00</td>\n",
       "      <td>2019-09-11</td>\n",
       "      <td>11:00:41</td>\n",
       "      <td>AAPL</td>\n",
       "      <td>Technology</td>\n",
       "      <td>24/7 Wall Street</td>\n",
       "      <td>0.000</td>\n",
       "      <td>1.000</td>\n",
       "      <td>0.000</td>\n",
       "      <td>0.0000</td>\n",
       "      <td>Can Apple Afford to Sell Video for $4.99?</td>\n",
       "      <td>Apple Inc. (NASDAQ: AAPL) has announced its ne...</td>\n",
       "      <td>https://247wallst.com/media/2019/09/11/can-app...</td>\n",
       "    </tr>\n",
       "    <tr>\n",
       "      <th>1377</th>\n",
       "      <td>5026</td>\n",
       "      <td>5026</td>\n",
       "      <td>2019-09-11 12:18:00+00:00</td>\n",
       "      <td>2019-09-11</td>\n",
       "      <td>12:18:00</td>\n",
       "      <td>AAPL</td>\n",
       "      <td>Technology</td>\n",
       "      <td>CNBC</td>\n",
       "      <td>0.000</td>\n",
       "      <td>0.963</td>\n",
       "      <td>0.037</td>\n",
       "      <td>0.1603</td>\n",
       "      <td>Apple didn't release its rumored smartwatch sl...</td>\n",
       "      <td>Apple introduced new iPhones, a new iPad and i...</td>\n",
       "      <td>https://www.cnbc.com/2019/09/11/no-new-apple-w...</td>\n",
       "    </tr>\n",
       "    <tr>\n",
       "      <th>1378</th>\n",
       "      <td>5028</td>\n",
       "      <td>5028</td>\n",
       "      <td>2019-09-11 13:03:00+00:00</td>\n",
       "      <td>2019-09-11</td>\n",
       "      <td>13:03:00</td>\n",
       "      <td>AAPL</td>\n",
       "      <td>Technology</td>\n",
       "      <td>Zacks Investment Research</td>\n",
       "      <td>0.072</td>\n",
       "      <td>0.718</td>\n",
       "      <td>0.211</td>\n",
       "      <td>0.4404</td>\n",
       "      <td>Can Competitive Pricing Boost Apple's Revenues?</td>\n",
       "      <td>The tech behemoth has lowered the price of its...</td>\n",
       "      <td>https://www.zacks.com/stock/news/512890/can-co...</td>\n",
       "    </tr>\n",
       "    <tr>\n",
       "      <th>1379</th>\n",
       "      <td>5029</td>\n",
       "      <td>5029</td>\n",
       "      <td>2019-09-11 13:19:00+00:00</td>\n",
       "      <td>2019-09-11</td>\n",
       "      <td>13:19:00</td>\n",
       "      <td>AAPL</td>\n",
       "      <td>Technology</td>\n",
       "      <td>CNBC</td>\n",
       "      <td>0.000</td>\n",
       "      <td>1.000</td>\n",
       "      <td>0.000</td>\n",
       "      <td>0.0000</td>\n",
       "      <td>Why Apple made the unusual move to sell its st...</td>\n",
       "      <td>Apple TV+ is cheaper than any other major stre...</td>\n",
       "      <td>https://www.cnbc.com/2019/09/11/the-apple-tv-p...</td>\n",
       "    </tr>\n",
       "    <tr>\n",
       "      <th>1380</th>\n",
       "      <td>5030</td>\n",
       "      <td>5030</td>\n",
       "      <td>2019-09-11 13:22:41+00:00</td>\n",
       "      <td>2019-09-11</td>\n",
       "      <td>13:22:41</td>\n",
       "      <td>AAPL</td>\n",
       "      <td>Technology</td>\n",
       "      <td>InvestorPlace</td>\n",
       "      <td>0.137</td>\n",
       "      <td>0.863</td>\n",
       "      <td>0.000</td>\n",
       "      <td>-0.6597</td>\n",
       "      <td>Owners of Apple Stock Should Be Afraid</td>\n",
       "      <td>With AAPL showing many signs of fear, the owne...</td>\n",
       "      <td>https://investorplace.com/2019/09/owners-of-ap...</td>\n",
       "    </tr>\n",
       "    <tr>\n",
       "      <th>1381</th>\n",
       "      <td>5034</td>\n",
       "      <td>5034</td>\n",
       "      <td>2019-09-11 13:37:00+00:00</td>\n",
       "      <td>2019-09-11</td>\n",
       "      <td>13:37:00</td>\n",
       "      <td>AAPL</td>\n",
       "      <td>Technology</td>\n",
       "      <td>The Motley Fool</td>\n",
       "      <td>0.082</td>\n",
       "      <td>0.918</td>\n",
       "      <td>0.000</td>\n",
       "      <td>-0.1531</td>\n",
       "      <td>Apple Gets Aggressive With Apple TV+ Pricing</td>\n",
       "      <td>The Mac maker's forthcoming video streaming se...</td>\n",
       "      <td>https://www.fool.com/investing/2019/09/11/appl...</td>\n",
       "    </tr>\n",
       "    <tr>\n",
       "      <th>1382</th>\n",
       "      <td>5035</td>\n",
       "      <td>5035</td>\n",
       "      <td>2019-09-11 13:44:00+00:00</td>\n",
       "      <td>2019-09-11</td>\n",
       "      <td>13:44:00</td>\n",
       "      <td>AAPL</td>\n",
       "      <td>Technology</td>\n",
       "      <td>InvestorPlace</td>\n",
       "      <td>0.109</td>\n",
       "      <td>0.800</td>\n",
       "      <td>0.091</td>\n",
       "      <td>0.0018</td>\n",
       "      <td>Apple’s Aggressive TV+ Pricing Heats Up Stream...</td>\n",
       "      <td>Apple (AAPL) sets Apple TV+ pricing at $4.99 p...</td>\n",
       "      <td>https://investorplace.com/2019/09/apples-aggre...</td>\n",
       "    </tr>\n",
       "    <tr>\n",
       "      <th>1383</th>\n",
       "      <td>5036</td>\n",
       "      <td>5036</td>\n",
       "      <td>2019-09-11 13:44:00+00:00</td>\n",
       "      <td>2019-09-11</td>\n",
       "      <td>13:44:00</td>\n",
       "      <td>AAPL</td>\n",
       "      <td>Technology</td>\n",
       "      <td>Zacks Investment Research</td>\n",
       "      <td>0.112</td>\n",
       "      <td>0.762</td>\n",
       "      <td>0.127</td>\n",
       "      <td>0.1548</td>\n",
       "      <td>Apple's Aggressive TV+ Pricing Heats Up Stream...</td>\n",
       "      <td>Apple (AAPL) sets Apple TV+ pricing at $4.99 p...</td>\n",
       "      <td>https://www.zacks.com/stock/news/513032/apples...</td>\n",
       "    </tr>\n",
       "    <tr>\n",
       "      <th>1384</th>\n",
       "      <td>5037</td>\n",
       "      <td>5037</td>\n",
       "      <td>2019-09-11 13:47:00+00:00</td>\n",
       "      <td>2019-09-11</td>\n",
       "      <td>13:47:00</td>\n",
       "      <td>AAPL</td>\n",
       "      <td>Technology</td>\n",
       "      <td>CNBC</td>\n",
       "      <td>0.111</td>\n",
       "      <td>0.646</td>\n",
       "      <td>0.243</td>\n",
       "      <td>0.7269</td>\n",
       "      <td>Wall Street analysts cheer Apple's surprisingl...</td>\n",
       "      <td>Major Wall Street analysts loved Apple's refre...</td>\n",
       "      <td>https://www.cnbc.com/2019/09/11/analysts-liked...</td>\n",
       "    </tr>\n",
       "    <tr>\n",
       "      <th>1385</th>\n",
       "      <td>5038</td>\n",
       "      <td>5038</td>\n",
       "      <td>2019-09-11 14:03:04+00:00</td>\n",
       "      <td>2019-09-11</td>\n",
       "      <td>14:03:04</td>\n",
       "      <td>AAPL</td>\n",
       "      <td>Technology</td>\n",
       "      <td>Market Watch</td>\n",
       "      <td>0.000</td>\n",
       "      <td>0.922</td>\n",
       "      <td>0.078</td>\n",
       "      <td>0.4588</td>\n",
       "      <td>Apple on the verge of reaching $1 trillion in ...</td>\n",
       "      <td>Shares of Apple Inc. AAPL, +1.52% rallied 1.7%...</td>\n",
       "      <td>https://www.marketwatch.com/story/apple-on-the...</td>\n",
       "    </tr>\n",
       "    <tr>\n",
       "      <th>1386</th>\n",
       "      <td>5042</td>\n",
       "      <td>5042</td>\n",
       "      <td>2019-09-11 14:20:00+00:00</td>\n",
       "      <td>2019-09-11</td>\n",
       "      <td>14:20:00</td>\n",
       "      <td>AAPL</td>\n",
       "      <td>Technology</td>\n",
       "      <td>Zacks Investment Research</td>\n",
       "      <td>0.000</td>\n",
       "      <td>0.874</td>\n",
       "      <td>0.126</td>\n",
       "      <td>0.5574</td>\n",
       "      <td>Apple Unveils New Gadgets: ETFs in Focus</td>\n",
       "      <td>The slew of new gadgets and cheap pricing are ...</td>\n",
       "      <td>https://www.zacks.com/stock/news/513163/apple-...</td>\n",
       "    </tr>\n",
       "    <tr>\n",
       "      <th>1387</th>\n",
       "      <td>5043</td>\n",
       "      <td>5043</td>\n",
       "      <td>2019-09-11 14:20:35+00:00</td>\n",
       "      <td>2019-09-11</td>\n",
       "      <td>14:20:35</td>\n",
       "      <td>AAPL</td>\n",
       "      <td>Technology</td>\n",
       "      <td>InvestorPlace</td>\n",
       "      <td>0.000</td>\n",
       "      <td>1.000</td>\n",
       "      <td>0.000</td>\n",
       "      <td>0.0000</td>\n",
       "      <td>8 Announcements From the Apple Event — Includi...</td>\n",
       "      <td>Key announcements at the Apple event on Septem...</td>\n",
       "      <td>https://investorplace.com/2019/09/8-announceme...</td>\n",
       "    </tr>\n",
       "    <tr>\n",
       "      <th>1388</th>\n",
       "      <td>5044</td>\n",
       "      <td>5044</td>\n",
       "      <td>2019-09-11 14:49:46+00:00</td>\n",
       "      <td>2019-09-11</td>\n",
       "      <td>14:49:46</td>\n",
       "      <td>AAPL</td>\n",
       "      <td>Technology</td>\n",
       "      <td>Reuters</td>\n",
       "      <td>0.077</td>\n",
       "      <td>0.639</td>\n",
       "      <td>0.284</td>\n",
       "      <td>0.8750</td>\n",
       "      <td>Trade optimism, Apple push Wall Street slightl...</td>\n",
       "      <td>U.S. stocks rose slightly on Wednesday as Chin...</td>\n",
       "      <td>https://www.reuters.com/article/us-usa-stocks/...</td>\n",
       "    </tr>\n",
       "    <tr>\n",
       "      <th>1389</th>\n",
       "      <td>5045</td>\n",
       "      <td>5045</td>\n",
       "      <td>2019-09-11 15:04:00+00:00</td>\n",
       "      <td>2019-09-11</td>\n",
       "      <td>15:04:00</td>\n",
       "      <td>AAPL</td>\n",
       "      <td>Technology</td>\n",
       "      <td>Zacks Investment Research</td>\n",
       "      <td>0.000</td>\n",
       "      <td>0.887</td>\n",
       "      <td>0.113</td>\n",
       "      <td>0.4019</td>\n",
       "      <td>Apple Expands Portfolio, Unveils Latest iPhone...</td>\n",
       "      <td>Apple (AAPL) boosts its portfolio with the lau...</td>\n",
       "      <td>https://www.zacks.com/stock/news/513251/apple-...</td>\n",
       "    </tr>\n",
       "    <tr>\n",
       "      <th>1390</th>\n",
       "      <td>5047</td>\n",
       "      <td>5047</td>\n",
       "      <td>2019-09-11 15:39:13+00:00</td>\n",
       "      <td>2019-09-11</td>\n",
       "      <td>15:39:13</td>\n",
       "      <td>AAPL</td>\n",
       "      <td>Technology</td>\n",
       "      <td>Benzinga</td>\n",
       "      <td>0.018</td>\n",
       "      <td>0.819</td>\n",
       "      <td>0.162</td>\n",
       "      <td>0.8990</td>\n",
       "      <td>The Street's Reaction To Apple's New Products:...</td>\n",
       "      <td>While Apple Inc. (NASDAQ: AAPL) watchers zoned...</td>\n",
       "      <td>https://www.benzinga.com/analyst-ratings/analy...</td>\n",
       "    </tr>\n",
       "    <tr>\n",
       "      <th>1391</th>\n",
       "      <td>5048</td>\n",
       "      <td>5048</td>\n",
       "      <td>2019-09-11 15:45:33+00:00</td>\n",
       "      <td>2019-09-11</td>\n",
       "      <td>15:45:33</td>\n",
       "      <td>AAPL</td>\n",
       "      <td>Technology</td>\n",
       "      <td>24/7 Wall Street</td>\n",
       "      <td>0.000</td>\n",
       "      <td>0.832</td>\n",
       "      <td>0.168</td>\n",
       "      <td>0.7845</td>\n",
       "      <td>How Analysts Stack Apple TV+ Versus Competitors</td>\n",
       "      <td>Apple Inc. (NASDAQ: AAPL) saw its shares react...</td>\n",
       "      <td>https://247wallst.com/media/2019/09/11/how-ana...</td>\n",
       "    </tr>\n",
       "    <tr>\n",
       "      <th>1392</th>\n",
       "      <td>5049</td>\n",
       "      <td>5049</td>\n",
       "      <td>2019-09-11 15:59:08+00:00</td>\n",
       "      <td>2019-09-11</td>\n",
       "      <td>15:59:08</td>\n",
       "      <td>AAPL</td>\n",
       "      <td>Technology</td>\n",
       "      <td>Market Watch</td>\n",
       "      <td>0.000</td>\n",
       "      <td>0.937</td>\n",
       "      <td>0.063</td>\n",
       "      <td>0.3182</td>\n",
       "      <td>Apple's stock surge boosts market cap to above...</td>\n",
       "      <td>The surge in Apple Inc.'s stock AAPL, +2.72% h...</td>\n",
       "      <td>https://www.marketwatch.com/story/apples-stock...</td>\n",
       "    </tr>\n",
       "    <tr>\n",
       "      <th>1393</th>\n",
       "      <td>5050</td>\n",
       "      <td>5050</td>\n",
       "      <td>2019-09-11 16:00:51+00:00</td>\n",
       "      <td>2019-09-11</td>\n",
       "      <td>16:00:51</td>\n",
       "      <td>AAPL</td>\n",
       "      <td>Technology</td>\n",
       "      <td>The Guardian</td>\n",
       "      <td>0.072</td>\n",
       "      <td>0.928</td>\n",
       "      <td>0.000</td>\n",
       "      <td>-0.2732</td>\n",
       "      <td>Apple TV+: a canny way to compete with Netflix</td>\n",
       "      <td>Apple is building a new base while selling exp...</td>\n",
       "      <td>https://www.theguardian.com/technology/2019/se...</td>\n",
       "    </tr>\n",
       "    <tr>\n",
       "      <th>1394</th>\n",
       "      <td>5051</td>\n",
       "      <td>5051</td>\n",
       "      <td>2019-09-11 16:08:18+00:00</td>\n",
       "      <td>2019-09-11</td>\n",
       "      <td>16:08:18</td>\n",
       "      <td>AAPL</td>\n",
       "      <td>Technology</td>\n",
       "      <td>Investors Business Daily</td>\n",
       "      <td>0.000</td>\n",
       "      <td>1.000</td>\n",
       "      <td>0.000</td>\n",
       "      <td>0.0000</td>\n",
       "      <td>Apple iPhone 11 Tempts Consumers With Major Ca...</td>\n",
       "      <td>With the iPhone 11, Apple is selling a high-en...</td>\n",
       "      <td>https://www.investors.com/news/technology/clic...</td>\n",
       "    </tr>\n",
       "    <tr>\n",
       "      <th>1395</th>\n",
       "      <td>5053</td>\n",
       "      <td>5053</td>\n",
       "      <td>2019-09-11 16:22:00+00:00</td>\n",
       "      <td>2019-09-11</td>\n",
       "      <td>16:22:00</td>\n",
       "      <td>AAPL</td>\n",
       "      <td>Technology</td>\n",
       "      <td>CNBC</td>\n",
       "      <td>0.000</td>\n",
       "      <td>1.000</td>\n",
       "      <td>0.000</td>\n",
       "      <td>0.0000</td>\n",
       "      <td>Apple touches $1 trillion market cap again aft...</td>\n",
       "      <td>If the milestone holds, it won't be the first ...</td>\n",
       "      <td>https://www.cnbc.com/2019/09/11/apple-touches-...</td>\n",
       "    </tr>\n",
       "    <tr>\n",
       "      <th>1396</th>\n",
       "      <td>5054</td>\n",
       "      <td>5054</td>\n",
       "      <td>2019-09-11 16:22:25+00:00</td>\n",
       "      <td>2019-09-11</td>\n",
       "      <td>16:22:25</td>\n",
       "      <td>AAPL</td>\n",
       "      <td>Technology</td>\n",
       "      <td>Seeking Alpha</td>\n",
       "      <td>0.000</td>\n",
       "      <td>0.943</td>\n",
       "      <td>0.057</td>\n",
       "      <td>0.1027</td>\n",
       "      <td>Apple's Product Refresh: Top 3 Reasons To Be B...</td>\n",
       "      <td>Apple announced its long-awaited iPhone refres...</td>\n",
       "      <td>https://seekingalpha.com/article/4290947-apple...</td>\n",
       "    </tr>\n",
       "    <tr>\n",
       "      <th>1397</th>\n",
       "      <td>5055</td>\n",
       "      <td>5055</td>\n",
       "      <td>2019-09-11 16:30:28+00:00</td>\n",
       "      <td>2019-09-11</td>\n",
       "      <td>16:30:28</td>\n",
       "      <td>AAPL</td>\n",
       "      <td>Technology</td>\n",
       "      <td>Reuters</td>\n",
       "      <td>0.051</td>\n",
       "      <td>0.741</td>\n",
       "      <td>0.207</td>\n",
       "      <td>0.8020</td>\n",
       "      <td>Wall Street rises on Apple, trade optimism</td>\n",
       "      <td>U.S. stocks rose on Wednesday, lifted by Apple...</td>\n",
       "      <td>https://www.reuters.com/article/us-usa-stocks/...</td>\n",
       "    </tr>\n",
       "    <tr>\n",
       "      <th>1398</th>\n",
       "      <td>5056</td>\n",
       "      <td>5056</td>\n",
       "      <td>2019-09-11 16:36:35+00:00</td>\n",
       "      <td>2019-09-11</td>\n",
       "      <td>16:36:35</td>\n",
       "      <td>AAPL</td>\n",
       "      <td>Technology</td>\n",
       "      <td>Reuters</td>\n",
       "      <td>0.043</td>\n",
       "      <td>0.865</td>\n",
       "      <td>0.092</td>\n",
       "      <td>0.5187</td>\n",
       "      <td>Apple may steal Netflix streaming crown, but o...</td>\n",
       "      <td>Apple Inc's  move to offer a free TV+ subscrip...</td>\n",
       "      <td>https://www.reuters.com/article/us-apple-iphon...</td>\n",
       "    </tr>\n",
       "    <tr>\n",
       "      <th>1399</th>\n",
       "      <td>5059</td>\n",
       "      <td>5059</td>\n",
       "      <td>2019-09-11 17:26:00+00:00</td>\n",
       "      <td>2019-09-11</td>\n",
       "      <td>17:26:00</td>\n",
       "      <td>AAPL</td>\n",
       "      <td>Technology</td>\n",
       "      <td>CNBC</td>\n",
       "      <td>0.150</td>\n",
       "      <td>0.782</td>\n",
       "      <td>0.068</td>\n",
       "      <td>-0.3612</td>\n",
       "      <td>iPhone 11 pricing shows Apple is learning from...</td>\n",
       "      <td>Apple's price drop on the iPhone 11 came as a ...</td>\n",
       "      <td>https://www.cnbc.com/2019/09/11/iphone-11-pric...</td>\n",
       "    </tr>\n",
       "    <tr>\n",
       "      <th>1400</th>\n",
       "      <td>5060</td>\n",
       "      <td>5060</td>\n",
       "      <td>2019-09-11 17:33:34+00:00</td>\n",
       "      <td>2019-09-11</td>\n",
       "      <td>17:33:34</td>\n",
       "      <td>AAPL</td>\n",
       "      <td>Technology</td>\n",
       "      <td>Reuters</td>\n",
       "      <td>0.076</td>\n",
       "      <td>0.593</td>\n",
       "      <td>0.331</td>\n",
       "      <td>0.9153</td>\n",
       "      <td>Wall Street gains on Apple boost, trade optimism</td>\n",
       "      <td>Wall Street rose on Wednesday, boosted by Appl...</td>\n",
       "      <td>https://www.reuters.com/article/us-usa-stocks/...</td>\n",
       "    </tr>\n",
       "    <tr>\n",
       "      <th>1401</th>\n",
       "      <td>5061</td>\n",
       "      <td>5061</td>\n",
       "      <td>2019-09-11 17:51:43+00:00</td>\n",
       "      <td>2019-09-11</td>\n",
       "      <td>17:51:43</td>\n",
       "      <td>AAPL</td>\n",
       "      <td>Technology</td>\n",
       "      <td>Benzinga</td>\n",
       "      <td>0.000</td>\n",
       "      <td>0.861</td>\n",
       "      <td>0.139</td>\n",
       "      <td>0.6124</td>\n",
       "      <td>Option Traders Making Large Bullish Bets On Ap...</td>\n",
       "      <td>Apple, Inc. (NASDAQ: AAPL) shares have surged ...</td>\n",
       "      <td>https://www.benzinga.com/trading-ideas/long-id...</td>\n",
       "    </tr>\n",
       "    <tr>\n",
       "      <th>1402</th>\n",
       "      <td>5063</td>\n",
       "      <td>5063</td>\n",
       "      <td>2019-09-11 18:05:04+00:00</td>\n",
       "      <td>2019-09-11</td>\n",
       "      <td>18:05:04</td>\n",
       "      <td>AAPL</td>\n",
       "      <td>Technology</td>\n",
       "      <td>InvestorPlace</td>\n",
       "      <td>0.000</td>\n",
       "      <td>1.000</td>\n",
       "      <td>0.000</td>\n",
       "      <td>0.0000</td>\n",
       "      <td>Wednesday Apple Rumors: New Features Coming to...</td>\n",
       "      <td>Wednesday's Apple Rumors include new betas for...</td>\n",
       "      <td>https://investorplace.com/2019/09/apple-adding...</td>\n",
       "    </tr>\n",
       "    <tr>\n",
       "      <th>1403</th>\n",
       "      <td>5064</td>\n",
       "      <td>5064</td>\n",
       "      <td>2019-09-11 18:07:32+00:00</td>\n",
       "      <td>2019-09-11</td>\n",
       "      <td>18:07:32</td>\n",
       "      <td>AAPL</td>\n",
       "      <td>Technology</td>\n",
       "      <td>TechCrunch</td>\n",
       "      <td>0.084</td>\n",
       "      <td>0.744</td>\n",
       "      <td>0.172</td>\n",
       "      <td>0.7850</td>\n",
       "      <td>Apple’s HomePod set to gain some long overdue ...</td>\n",
       "      <td>It’s no secret that the HomePod’s software upd...</td>\n",
       "      <td>https://techcrunch.com/2019/09/11/apples-homep...</td>\n",
       "    </tr>\n",
       "    <tr>\n",
       "      <th>1404</th>\n",
       "      <td>5066</td>\n",
       "      <td>5066</td>\n",
       "      <td>2019-09-11 18:48:05+00:00</td>\n",
       "      <td>2019-09-11</td>\n",
       "      <td>18:48:05</td>\n",
       "      <td>AAPL</td>\n",
       "      <td>Technology</td>\n",
       "      <td>Investopedia</td>\n",
       "      <td>0.184</td>\n",
       "      <td>0.728</td>\n",
       "      <td>0.089</td>\n",
       "      <td>-0.4588</td>\n",
       "      <td>How Apple Plans to Beat Netflix, Disney in Ent...</td>\n",
       "      <td>Apple has raised eyebrows with its plan to und...</td>\n",
       "      <td>https://www.investopedia.com/how-apple-plans-t...</td>\n",
       "    </tr>\n",
       "    <tr>\n",
       "      <th>1405</th>\n",
       "      <td>5067</td>\n",
       "      <td>5067</td>\n",
       "      <td>2019-09-11 18:51:00+00:00</td>\n",
       "      <td>2019-09-11</td>\n",
       "      <td>18:51:00</td>\n",
       "      <td>AAPL</td>\n",
       "      <td>Technology</td>\n",
       "      <td>Zacks Investment Research</td>\n",
       "      <td>0.086</td>\n",
       "      <td>0.806</td>\n",
       "      <td>0.108</td>\n",
       "      <td>0.1027</td>\n",
       "      <td>Apple's Aggressive Entrance Into The Subscript...</td>\n",
       "      <td>Reliable reoccurring revenue is the dream for ...</td>\n",
       "      <td>https://www.zacks.com/stock/news/513588/apples...</td>\n",
       "    </tr>\n",
       "    <tr>\n",
       "      <th>1406</th>\n",
       "      <td>5068</td>\n",
       "      <td>5068</td>\n",
       "      <td>2019-09-11 19:40:00+00:00</td>\n",
       "      <td>2019-09-11</td>\n",
       "      <td>19:40:00</td>\n",
       "      <td>AAPL</td>\n",
       "      <td>Technology</td>\n",
       "      <td>The Motley Fool</td>\n",
       "      <td>0.000</td>\n",
       "      <td>0.876</td>\n",
       "      <td>0.124</td>\n",
       "      <td>0.3400</td>\n",
       "      <td>Why Apple Is Giving TV+ Away</td>\n",
       "      <td>The move underscores Apple's yearlong strategi...</td>\n",
       "      <td>https://www.fool.com/investing/2019/09/11/why-...</td>\n",
       "    </tr>\n",
       "    <tr>\n",
       "      <th>1407</th>\n",
       "      <td>5070</td>\n",
       "      <td>5070</td>\n",
       "      <td>2019-09-11 19:49:16+00:00</td>\n",
       "      <td>2019-09-11</td>\n",
       "      <td>19:49:16</td>\n",
       "      <td>AAPL</td>\n",
       "      <td>Technology</td>\n",
       "      <td>Investors Business Daily</td>\n",
       "      <td>0.100</td>\n",
       "      <td>0.716</td>\n",
       "      <td>0.184</td>\n",
       "      <td>0.5423</td>\n",
       "      <td>Apple Ensures Big Launch For Video Service Wit...</td>\n",
       "      <td>Apple surprised Wall Street with a low price a...</td>\n",
       "      <td>https://www.investors.com/news/technology/clic...</td>\n",
       "    </tr>\n",
       "    <tr>\n",
       "      <th>1408</th>\n",
       "      <td>5073</td>\n",
       "      <td>5073</td>\n",
       "      <td>2019-09-11 20:41:50+00:00</td>\n",
       "      <td>2019-09-11</td>\n",
       "      <td>20:41:50</td>\n",
       "      <td>AAPL</td>\n",
       "      <td>Technology</td>\n",
       "      <td>Deadline</td>\n",
       "      <td>0.000</td>\n",
       "      <td>0.893</td>\n",
       "      <td>0.107</td>\n",
       "      <td>0.7906</td>\n",
       "      <td>Apple Stock Rises On Streaming News As Analyst...</td>\n",
       "      <td>UPDATED with closing price. Apple’s $4.99-a-mo...</td>\n",
       "      <td>https://deadline.com/2019/09/apple-tv-plus-sto...</td>\n",
       "    </tr>\n",
       "    <tr>\n",
       "      <th>1409</th>\n",
       "      <td>5074</td>\n",
       "      <td>5074</td>\n",
       "      <td>2019-09-11 20:48:46+00:00</td>\n",
       "      <td>2019-09-11</td>\n",
       "      <td>20:48:46</td>\n",
       "      <td>AAPL</td>\n",
       "      <td>Technology</td>\n",
       "      <td>GuruFocus</td>\n",
       "      <td>0.000</td>\n",
       "      <td>1.000</td>\n",
       "      <td>0.000</td>\n",
       "      <td>0.0000</td>\n",
       "      <td>Buffett's Apple Soars to Year-to-Date High</td>\n",
       "      <td>Visit Holly LaFon's Website</td>\n",
       "      <td>https://www.gurufocus.com/news/944839/buffetts...</td>\n",
       "    </tr>\n",
       "    <tr>\n",
       "      <th>1410</th>\n",
       "      <td>5075</td>\n",
       "      <td>5075</td>\n",
       "      <td>2019-09-11 21:00:00+00:00</td>\n",
       "      <td>2019-09-11</td>\n",
       "      <td>21:00:00</td>\n",
       "      <td>AAPL</td>\n",
       "      <td>Technology</td>\n",
       "      <td>The Motley Fool</td>\n",
       "      <td>0.097</td>\n",
       "      <td>0.784</td>\n",
       "      <td>0.120</td>\n",
       "      <td>0.1263</td>\n",
       "      <td>Why the iPhone 11's Price Drop Is So Meaningful</td>\n",
       "      <td>Apple is acknowledging that it's gone too far ...</td>\n",
       "      <td>https://www.fool.com/investing/2019/09/11/why-...</td>\n",
       "    </tr>\n",
       "    <tr>\n",
       "      <th>1411</th>\n",
       "      <td>5077</td>\n",
       "      <td>5077</td>\n",
       "      <td>2019-09-11 21:45:28+00:00</td>\n",
       "      <td>2019-09-11</td>\n",
       "      <td>21:45:28</td>\n",
       "      <td>AAPL</td>\n",
       "      <td>Technology</td>\n",
       "      <td>NYTimes</td>\n",
       "      <td>0.053</td>\n",
       "      <td>0.947</td>\n",
       "      <td>0.000</td>\n",
       "      <td>-0.1027</td>\n",
       "      <td>Apple TV Plus Is Just $5. Will People Pay for It?</td>\n",
       "      <td>Apple, offering much less programming than str...</td>\n",
       "      <td>https://www.nytimes.com/2019/09/11/business/me...</td>\n",
       "    </tr>\n",
       "  </tbody>\n",
       "</table>\n",
       "</div>"
      ],
      "text/plain": [
       "      index  Unnamed: 0                Date & Time        Date      Time  \\\n",
       "1371   5015        5015  2019-09-11 02:26:00+00:00  2019-09-11  02:26:00   \n",
       "1372   5017        5017  2019-09-11 05:38:44+00:00  2019-09-11  05:38:44   \n",
       "1373   5018        5018  2019-09-11 08:30:45+00:00  2019-09-11  08:30:45   \n",
       "1374   5019        5019  2019-09-11 08:47:00+00:00  2019-09-11  08:47:00   \n",
       "1375   5020        5020  2019-09-11 09:32:23+00:00  2019-09-11  09:32:23   \n",
       "1376   5022        5022  2019-09-11 11:00:41+00:00  2019-09-11  11:00:41   \n",
       "1377   5026        5026  2019-09-11 12:18:00+00:00  2019-09-11  12:18:00   \n",
       "1378   5028        5028  2019-09-11 13:03:00+00:00  2019-09-11  13:03:00   \n",
       "1379   5029        5029  2019-09-11 13:19:00+00:00  2019-09-11  13:19:00   \n",
       "1380   5030        5030  2019-09-11 13:22:41+00:00  2019-09-11  13:22:41   \n",
       "1381   5034        5034  2019-09-11 13:37:00+00:00  2019-09-11  13:37:00   \n",
       "1382   5035        5035  2019-09-11 13:44:00+00:00  2019-09-11  13:44:00   \n",
       "1383   5036        5036  2019-09-11 13:44:00+00:00  2019-09-11  13:44:00   \n",
       "1384   5037        5037  2019-09-11 13:47:00+00:00  2019-09-11  13:47:00   \n",
       "1385   5038        5038  2019-09-11 14:03:04+00:00  2019-09-11  14:03:04   \n",
       "1386   5042        5042  2019-09-11 14:20:00+00:00  2019-09-11  14:20:00   \n",
       "1387   5043        5043  2019-09-11 14:20:35+00:00  2019-09-11  14:20:35   \n",
       "1388   5044        5044  2019-09-11 14:49:46+00:00  2019-09-11  14:49:46   \n",
       "1389   5045        5045  2019-09-11 15:04:00+00:00  2019-09-11  15:04:00   \n",
       "1390   5047        5047  2019-09-11 15:39:13+00:00  2019-09-11  15:39:13   \n",
       "1391   5048        5048  2019-09-11 15:45:33+00:00  2019-09-11  15:45:33   \n",
       "1392   5049        5049  2019-09-11 15:59:08+00:00  2019-09-11  15:59:08   \n",
       "1393   5050        5050  2019-09-11 16:00:51+00:00  2019-09-11  16:00:51   \n",
       "1394   5051        5051  2019-09-11 16:08:18+00:00  2019-09-11  16:08:18   \n",
       "1395   5053        5053  2019-09-11 16:22:00+00:00  2019-09-11  16:22:00   \n",
       "1396   5054        5054  2019-09-11 16:22:25+00:00  2019-09-11  16:22:25   \n",
       "1397   5055        5055  2019-09-11 16:30:28+00:00  2019-09-11  16:30:28   \n",
       "1398   5056        5056  2019-09-11 16:36:35+00:00  2019-09-11  16:36:35   \n",
       "1399   5059        5059  2019-09-11 17:26:00+00:00  2019-09-11  17:26:00   \n",
       "1400   5060        5060  2019-09-11 17:33:34+00:00  2019-09-11  17:33:34   \n",
       "1401   5061        5061  2019-09-11 17:51:43+00:00  2019-09-11  17:51:43   \n",
       "1402   5063        5063  2019-09-11 18:05:04+00:00  2019-09-11  18:05:04   \n",
       "1403   5064        5064  2019-09-11 18:07:32+00:00  2019-09-11  18:07:32   \n",
       "1404   5066        5066  2019-09-11 18:48:05+00:00  2019-09-11  18:48:05   \n",
       "1405   5067        5067  2019-09-11 18:51:00+00:00  2019-09-11  18:51:00   \n",
       "1406   5068        5068  2019-09-11 19:40:00+00:00  2019-09-11  19:40:00   \n",
       "1407   5070        5070  2019-09-11 19:49:16+00:00  2019-09-11  19:49:16   \n",
       "1408   5073        5073  2019-09-11 20:41:50+00:00  2019-09-11  20:41:50   \n",
       "1409   5074        5074  2019-09-11 20:48:46+00:00  2019-09-11  20:48:46   \n",
       "1410   5075        5075  2019-09-11 21:00:00+00:00  2019-09-11  21:00:00   \n",
       "1411   5077        5077  2019-09-11 21:45:28+00:00  2019-09-11  21:45:28   \n",
       "\n",
       "     Ticker      Sector                     Source  sentiment_neg  \\\n",
       "1371   AAPL  Technology            The Motley Fool          0.000   \n",
       "1372   AAPL  Technology                    Reuters          0.067   \n",
       "1373   AAPL  Technology               The Guardian          0.000   \n",
       "1374   AAPL  Technology                       CNBC          0.215   \n",
       "1375   AAPL  Technology                    Reuters          0.174   \n",
       "1376   AAPL  Technology           24/7 Wall Street          0.000   \n",
       "1377   AAPL  Technology                       CNBC          0.000   \n",
       "1378   AAPL  Technology  Zacks Investment Research          0.072   \n",
       "1379   AAPL  Technology                       CNBC          0.000   \n",
       "1380   AAPL  Technology              InvestorPlace          0.137   \n",
       "1381   AAPL  Technology            The Motley Fool          0.082   \n",
       "1382   AAPL  Technology              InvestorPlace          0.109   \n",
       "1383   AAPL  Technology  Zacks Investment Research          0.112   \n",
       "1384   AAPL  Technology                       CNBC          0.111   \n",
       "1385   AAPL  Technology               Market Watch          0.000   \n",
       "1386   AAPL  Technology  Zacks Investment Research          0.000   \n",
       "1387   AAPL  Technology              InvestorPlace          0.000   \n",
       "1388   AAPL  Technology                    Reuters          0.077   \n",
       "1389   AAPL  Technology  Zacks Investment Research          0.000   \n",
       "1390   AAPL  Technology                   Benzinga          0.018   \n",
       "1391   AAPL  Technology           24/7 Wall Street          0.000   \n",
       "1392   AAPL  Technology               Market Watch          0.000   \n",
       "1393   AAPL  Technology               The Guardian          0.072   \n",
       "1394   AAPL  Technology   Investors Business Daily          0.000   \n",
       "1395   AAPL  Technology                       CNBC          0.000   \n",
       "1396   AAPL  Technology              Seeking Alpha          0.000   \n",
       "1397   AAPL  Technology                    Reuters          0.051   \n",
       "1398   AAPL  Technology                    Reuters          0.043   \n",
       "1399   AAPL  Technology                       CNBC          0.150   \n",
       "1400   AAPL  Technology                    Reuters          0.076   \n",
       "1401   AAPL  Technology                   Benzinga          0.000   \n",
       "1402   AAPL  Technology              InvestorPlace          0.000   \n",
       "1403   AAPL  Technology                 TechCrunch          0.084   \n",
       "1404   AAPL  Technology               Investopedia          0.184   \n",
       "1405   AAPL  Technology  Zacks Investment Research          0.086   \n",
       "1406   AAPL  Technology            The Motley Fool          0.000   \n",
       "1407   AAPL  Technology   Investors Business Daily          0.100   \n",
       "1408   AAPL  Technology                   Deadline          0.000   \n",
       "1409   AAPL  Technology                  GuruFocus          0.000   \n",
       "1410   AAPL  Technology            The Motley Fool          0.097   \n",
       "1411   AAPL  Technology                    NYTimes          0.053   \n",
       "\n",
       "      sentiment_neu  sentiment_pos  sentiment_tot  \\\n",
       "1371          0.928          0.072         0.3384   \n",
       "1372          0.865          0.068         0.2732   \n",
       "1373          1.000          0.000         0.0000   \n",
       "1374          0.785          0.000        -0.8658   \n",
       "1375          0.826          0.000        -0.7469   \n",
       "1376          1.000          0.000         0.0000   \n",
       "1377          0.963          0.037         0.1603   \n",
       "1378          0.718          0.211         0.4404   \n",
       "1379          1.000          0.000         0.0000   \n",
       "1380          0.863          0.000        -0.6597   \n",
       "1381          0.918          0.000        -0.1531   \n",
       "1382          0.800          0.091         0.0018   \n",
       "1383          0.762          0.127         0.1548   \n",
       "1384          0.646          0.243         0.7269   \n",
       "1385          0.922          0.078         0.4588   \n",
       "1386          0.874          0.126         0.5574   \n",
       "1387          1.000          0.000         0.0000   \n",
       "1388          0.639          0.284         0.8750   \n",
       "1389          0.887          0.113         0.4019   \n",
       "1390          0.819          0.162         0.8990   \n",
       "1391          0.832          0.168         0.7845   \n",
       "1392          0.937          0.063         0.3182   \n",
       "1393          0.928          0.000        -0.2732   \n",
       "1394          1.000          0.000         0.0000   \n",
       "1395          1.000          0.000         0.0000   \n",
       "1396          0.943          0.057         0.1027   \n",
       "1397          0.741          0.207         0.8020   \n",
       "1398          0.865          0.092         0.5187   \n",
       "1399          0.782          0.068        -0.3612   \n",
       "1400          0.593          0.331         0.9153   \n",
       "1401          0.861          0.139         0.6124   \n",
       "1402          1.000          0.000         0.0000   \n",
       "1403          0.744          0.172         0.7850   \n",
       "1404          0.728          0.089        -0.4588   \n",
       "1405          0.806          0.108         0.1027   \n",
       "1406          0.876          0.124         0.3400   \n",
       "1407          0.716          0.184         0.5423   \n",
       "1408          0.893          0.107         0.7906   \n",
       "1409          1.000          0.000         0.0000   \n",
       "1410          0.784          0.120         0.1263   \n",
       "1411          0.947          0.000        -0.1027   \n",
       "\n",
       "                                               Headline  \\\n",
       "1371  The Biggest iPhone News on Tuesday Wasn't the ...   \n",
       "1372  Tepid reaction for Apple's new iPhones in Chin...   \n",
       "1373  Apple to launch most expensive iPhone ever in ...   \n",
       "1374  After being forced to cut prices in China, App...   \n",
       "1375  Apple's new, lower priced iPhone draws tepid r...   \n",
       "1376          Can Apple Afford to Sell Video for $4.99?   \n",
       "1377  Apple didn't release its rumored smartwatch sl...   \n",
       "1378    Can Competitive Pricing Boost Apple's Revenues?   \n",
       "1379  Why Apple made the unusual move to sell its st...   \n",
       "1380             Owners of Apple Stock Should Be Afraid   \n",
       "1381       Apple Gets Aggressive With Apple TV+ Pricing   \n",
       "1382  Apple’s Aggressive TV+ Pricing Heats Up Stream...   \n",
       "1383  Apple's Aggressive TV+ Pricing Heats Up Stream...   \n",
       "1384  Wall Street analysts cheer Apple's surprisingl...   \n",
       "1385  Apple on the verge of reaching $1 trillion in ...   \n",
       "1386           Apple Unveils New Gadgets: ETFs in Focus   \n",
       "1387  8 Announcements From the Apple Event — Includi...   \n",
       "1388  Trade optimism, Apple push Wall Street slightl...   \n",
       "1389  Apple Expands Portfolio, Unveils Latest iPhone...   \n",
       "1390  The Street's Reaction To Apple's New Products:...   \n",
       "1391    How Analysts Stack Apple TV+ Versus Competitors   \n",
       "1392  Apple's stock surge boosts market cap to above...   \n",
       "1393     Apple TV+: a canny way to compete with Netflix   \n",
       "1394  Apple iPhone 11 Tempts Consumers With Major Ca...   \n",
       "1395  Apple touches $1 trillion market cap again aft...   \n",
       "1396  Apple's Product Refresh: Top 3 Reasons To Be B...   \n",
       "1397         Wall Street rises on Apple, trade optimism   \n",
       "1398  Apple may steal Netflix streaming crown, but o...   \n",
       "1399  iPhone 11 pricing shows Apple is learning from...   \n",
       "1400   Wall Street gains on Apple boost, trade optimism   \n",
       "1401  Option Traders Making Large Bullish Bets On Ap...   \n",
       "1402  Wednesday Apple Rumors: New Features Coming to...   \n",
       "1403  Apple’s HomePod set to gain some long overdue ...   \n",
       "1404  How Apple Plans to Beat Netflix, Disney in Ent...   \n",
       "1405  Apple's Aggressive Entrance Into The Subscript...   \n",
       "1406                       Why Apple Is Giving TV+ Away   \n",
       "1407  Apple Ensures Big Launch For Video Service Wit...   \n",
       "1408  Apple Stock Rises On Streaming News As Analyst...   \n",
       "1409         Buffett's Apple Soars to Year-to-Date High   \n",
       "1410    Why the iPhone 11's Price Drop Is So Meaningful   \n",
       "1411  Apple TV Plus Is Just $5. Will People Pay for It?   \n",
       "\n",
       "                                                   Text  \\\n",
       "1371  One of the most surprising narratives from the...   \n",
       "1372  A lower price tag and new features may not be ...   \n",
       "1373  Brexit-battered pound means iPhones 11 Pro and...   \n",
       "1374  Apple's new iPhone 11 range commands a premium...   \n",
       "1375  Apple Inc's  new, lower priced iPhone that com...   \n",
       "1376  Apple Inc. (NASDAQ: AAPL) has announced its ne...   \n",
       "1377  Apple introduced new iPhones, a new iPad and i...   \n",
       "1378  The tech behemoth has lowered the price of its...   \n",
       "1379  Apple TV+ is cheaper than any other major stre...   \n",
       "1380  With AAPL showing many signs of fear, the owne...   \n",
       "1381  The Mac maker's forthcoming video streaming se...   \n",
       "1382  Apple (AAPL) sets Apple TV+ pricing at $4.99 p...   \n",
       "1383  Apple (AAPL) sets Apple TV+ pricing at $4.99 p...   \n",
       "1384  Major Wall Street analysts loved Apple's refre...   \n",
       "1385  Shares of Apple Inc. AAPL, +1.52% rallied 1.7%...   \n",
       "1386  The slew of new gadgets and cheap pricing are ...   \n",
       "1387  Key announcements at the Apple event on Septem...   \n",
       "1388  U.S. stocks rose slightly on Wednesday as Chin...   \n",
       "1389  Apple (AAPL) boosts its portfolio with the lau...   \n",
       "1390  While Apple Inc. (NASDAQ: AAPL) watchers zoned...   \n",
       "1391  Apple Inc. (NASDAQ: AAPL) saw its shares react...   \n",
       "1392  The surge in Apple Inc.'s stock AAPL, +2.72% h...   \n",
       "1393  Apple is building a new base while selling exp...   \n",
       "1394  With the iPhone 11, Apple is selling a high-en...   \n",
       "1395  If the milestone holds, it won't be the first ...   \n",
       "1396  Apple announced its long-awaited iPhone refres...   \n",
       "1397  U.S. stocks rose on Wednesday, lifted by Apple...   \n",
       "1398  Apple Inc's  move to offer a free TV+ subscrip...   \n",
       "1399  Apple's price drop on the iPhone 11 came as a ...   \n",
       "1400  Wall Street rose on Wednesday, boosted by Appl...   \n",
       "1401  Apple, Inc. (NASDAQ: AAPL) shares have surged ...   \n",
       "1402  Wednesday's Apple Rumors include new betas for...   \n",
       "1403  It’s no secret that the HomePod’s software upd...   \n",
       "1404  Apple has raised eyebrows with its plan to und...   \n",
       "1405  Reliable reoccurring revenue is the dream for ...   \n",
       "1406  The move underscores Apple's yearlong strategi...   \n",
       "1407  Apple surprised Wall Street with a low price a...   \n",
       "1408  UPDATED with closing price. Apple’s $4.99-a-mo...   \n",
       "1409                        Visit Holly LaFon's Website   \n",
       "1410  Apple is acknowledging that it's gone too far ...   \n",
       "1411  Apple, offering much less programming than str...   \n",
       "\n",
       "                                                    URL  \n",
       "1371  https://www.fool.com/investing/2019/09/10/the-...  \n",
       "1372  https://www.reuters.com/article/us-apple-iphon...  \n",
       "1373  https://www.theguardian.com/technology/2019/se...  \n",
       "1374  https://www.cnbc.com/2019/09/11/apple-iphone-1...  \n",
       "1375  https://www.reuters.com/article/us-apple-iphon...  \n",
       "1376  https://247wallst.com/media/2019/09/11/can-app...  \n",
       "1377  https://www.cnbc.com/2019/09/11/no-new-apple-w...  \n",
       "1378  https://www.zacks.com/stock/news/512890/can-co...  \n",
       "1379  https://www.cnbc.com/2019/09/11/the-apple-tv-p...  \n",
       "1380  https://investorplace.com/2019/09/owners-of-ap...  \n",
       "1381  https://www.fool.com/investing/2019/09/11/appl...  \n",
       "1382  https://investorplace.com/2019/09/apples-aggre...  \n",
       "1383  https://www.zacks.com/stock/news/513032/apples...  \n",
       "1384  https://www.cnbc.com/2019/09/11/analysts-liked...  \n",
       "1385  https://www.marketwatch.com/story/apple-on-the...  \n",
       "1386  https://www.zacks.com/stock/news/513163/apple-...  \n",
       "1387  https://investorplace.com/2019/09/8-announceme...  \n",
       "1388  https://www.reuters.com/article/us-usa-stocks/...  \n",
       "1389  https://www.zacks.com/stock/news/513251/apple-...  \n",
       "1390  https://www.benzinga.com/analyst-ratings/analy...  \n",
       "1391  https://247wallst.com/media/2019/09/11/how-ana...  \n",
       "1392  https://www.marketwatch.com/story/apples-stock...  \n",
       "1393  https://www.theguardian.com/technology/2019/se...  \n",
       "1394  https://www.investors.com/news/technology/clic...  \n",
       "1395  https://www.cnbc.com/2019/09/11/apple-touches-...  \n",
       "1396  https://seekingalpha.com/article/4290947-apple...  \n",
       "1397  https://www.reuters.com/article/us-usa-stocks/...  \n",
       "1398  https://www.reuters.com/article/us-apple-iphon...  \n",
       "1399  https://www.cnbc.com/2019/09/11/iphone-11-pric...  \n",
       "1400  https://www.reuters.com/article/us-usa-stocks/...  \n",
       "1401  https://www.benzinga.com/trading-ideas/long-id...  \n",
       "1402  https://investorplace.com/2019/09/apple-adding...  \n",
       "1403  https://techcrunch.com/2019/09/11/apples-homep...  \n",
       "1404  https://www.investopedia.com/how-apple-plans-t...  \n",
       "1405  https://www.zacks.com/stock/news/513588/apples...  \n",
       "1406  https://www.fool.com/investing/2019/09/11/why-...  \n",
       "1407  https://www.investors.com/news/technology/clic...  \n",
       "1408  https://deadline.com/2019/09/apple-tv-plus-sto...  \n",
       "1409  https://www.gurufocus.com/news/944839/buffetts...  \n",
       "1410  https://www.fool.com/investing/2019/09/11/why-...  \n",
       "1411  https://www.nytimes.com/2019/09/11/business/me...  "
      ]
     },
     "execution_count": 112,
     "metadata": {},
     "output_type": "execute_result"
    }
   ],
   "source": [
    "Apl.loc[Apl[\"Date\"] == \"2019-09-11\"]"
   ]
  },
  {
   "cell_type": "markdown",
   "metadata": {},
   "source": [
    "While there are many articles on this day with positive sentimenent scores, it is worth noting that there are few articles with negative sentiment scores as well. It seems the new iphone had a price drop. "
   ]
  },
  {
   "cell_type": "markdown",
   "metadata": {},
   "source": [
    "Given how people intake news (and given that positively or negatively skewed takes tend to stick out compared to the more neutral takes), I wonder how much of the piture we are missing by combining a given day's sentiment into one total score. (It comes to mind that our overall scores, after combining, were mostly between 0 and 0.3 but these articles with overall positive or negative sentiments alone could have had a significant impact.) Perhaps two more pieces of information we can retain per day per ticker, could be:\n",
    "1. The highest compound sentiment score an article had about the ticker that day\n",
    "2. The lowest compound sentiment score an article had about the ticker that day\n"
   ]
  },
  {
   "cell_type": "markdown",
   "metadata": {},
   "source": [
    "More things we could explore in this vein:\n",
    "1. Looking at other tickers in this manner\n",
    "2. Comparing vader scores to finvader scores"
   ]
  }
 ],
 "metadata": {
  "kernelspec": {
   "display_name": "erdos_may_2024",
   "language": "python",
   "name": "erdos_may_2024"
  },
  "language_info": {
   "codemirror_mode": {
    "name": "ipython",
    "version": 3
   },
   "file_extension": ".py",
   "mimetype": "text/x-python",
   "name": "python",
   "nbconvert_exporter": "python",
   "pygments_lexer": "ipython3",
   "version": "3.9.15"
  }
 },
 "nbformat": 4,
 "nbformat_minor": 2
}
