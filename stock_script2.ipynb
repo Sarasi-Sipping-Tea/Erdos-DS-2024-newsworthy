{
 "cells": [
  {
   "cell_type": "code",
   "execution_count": 1,
   "id": "d08e4a65-20d8-48c5-b868-e5e5da416b61",
   "metadata": {},
   "outputs": [],
   "source": [
    "import yfinance as yahooFinance\n",
    "import datetime"
   ]
  },
  {
   "cell_type": "markdown",
   "id": "4525ebc9-a8b8-4feb-a57d-df064efc961c",
   "metadata": {},
   "source": [
    "## Getting Amazon Financial History (Tech)"
   ]
  },
  {
   "cell_type": "code",
   "execution_count": 3,
   "id": "649ea9ef-e656-47f1-8a9f-736f63f9a9bc",
   "metadata": {},
   "outputs": [],
   "source": [
    "Amazon_financial_info = yahooFinance.Ticker(\"AMZN\")\n",
    "\n",
    "startDate = datetime.datetime(2019, 3, 1)\n",
    "endDate = datetime.datetime(2024, 3, 31)\n",
    "Amazon_financial_info.history(start=startDate, end=endDate).to_csv('Amazon_stock.csv')\n"
   ]
  },
  {
   "cell_type": "code",
   "execution_count": null,
   "id": "fc6653c5-ab67-45b1-ad12-7fc1956286cd",
   "metadata": {},
   "outputs": [],
   "source": []
  }
 ],
 "metadata": {
  "kernelspec": {
   "display_name": "Python 3 (ipykernel)",
   "language": "python",
   "name": "python3"
  },
  "language_info": {
   "codemirror_mode": {
    "name": "ipython",
    "version": 3
   },
   "file_extension": ".py",
   "mimetype": "text/x-python",
   "name": "python",
   "nbconvert_exporter": "python",
   "pygments_lexer": "ipython3",
   "version": "3.11.5"
  }
 },
 "nbformat": 4,
 "nbformat_minor": 5
}
